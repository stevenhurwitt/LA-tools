{
 "cells": [
  {
   "cell_type": "markdown",
   "metadata": {},
   "source": [
    "# EWX API"
   ]
  },
  {
   "cell_type": "code",
   "execution_count": 26,
   "metadata": {},
   "outputs": [],
   "source": [
    "import pandas as pd\n",
    "import numpy as np\n",
    "import json\n",
    "import os\n",
    "import time\n",
    "import math\n",
    "import datetime\n",
    "import requests\n",
    "import pprint\n",
    "from pandas.io.json import json_normalize\n",
    "pp = pprint.PrettyPrinter(indent = 4)"
   ]
  },
  {
   "cell_type": "markdown",
   "metadata": {},
   "source": [
    "## Requests Header"
   ]
  },
  {
   "cell_type": "markdown",
   "metadata": {},
   "source": [
    "Header requires a bearer token (expires every hour), namespace & response type."
   ]
  },
  {
   "cell_type": "code",
   "execution_count": 88,
   "metadata": {},
   "outputs": [],
   "source": [
    "bearer = 'ya29.ImCRB-enD_1PIqZDGC2t_6BNEHPfOicX4dbGZzJwruMR8F6usEEKae_u2BXzvzCvJWAFB-i7hf3zRkwMOB_D9LxTlikJeGMjq4MM7AbuODaEzcUsnauU4P81mch8yhRoAhc'\n",
    "auth = ''.join(['Bearer ', bearer])\n",
    "header = {'Authorization':auth, 'X-NAMESPACE':'na.engie.com', 'accept':'application/json'}"
   ]
  },
  {
   "cell_type": "markdown",
   "metadata": {},
   "source": [
    "## User Get Request"
   ]
  },
  {
   "cell_type": "code",
   "execution_count": 89,
   "metadata": {},
   "outputs": [
    {
     "name": "stdout",
     "output_type": "stream",
     "text": [
      "found user info:\n",
      "{   'namespace': 'na.engie.com',\n",
      "    'refresh': '1/LEbljcUTdPixexfxu-n6Fw045FKqbN1ralhNSmdgEfeihp2RMRKpHCK027jVyulV',\n",
      "    'user_email': 'steven.hurwitt@external.engie.com'}\n",
      "\n",
      "found namespace: live.engie-na.com.\n",
      "found namespace: na.engie-test.com.\n",
      "found namespace: na.engie.com.\n"
     ]
    }
   ],
   "source": [
    "url = \"https://api.cloud.energyworx.com/_ah/api/ewx/v1/user/get\"\n",
    "user = requests.get(url, headers = header).json()\n",
    "\n",
    "output = {'user_email':user['email'], 'namespace':user['namespace'], 'refresh': user['refreshToken']}\n",
    "print('found user info:')\n",
    "pp.pprint(output)\n",
    "print('')\n",
    "\n",
    "namespaces = user['namespaces']\n",
    "for n in namespaces:\n",
    "    print('found namespace: {}.'.format(n['name']))"
   ]
  },
  {
   "cell_type": "markdown",
   "metadata": {},
   "source": [
    "## Datasource Get Request"
   ]
  },
  {
   "cell_type": "markdown",
   "metadata": {},
   "source": [
    "Function to parse properties & classifiers given datasource"
   ]
  },
  {
   "cell_type": "code",
   "execution_count": 102,
   "metadata": {},
   "outputs": [],
   "source": [
    "def get_datasource(account):\n",
    "    \n",
    "    url = \"https://api.cloud.energyworx.com/_ah/api/ewx/v1/datasource/get\"\n",
    "    ds_url = \"/\".join([url, account])\n",
    "\n",
    "    datasource = requests.get(ds_url, headers = header).json()\n",
    "\n",
    "    tags = datasource['tags']\n",
    "    properties = []\n",
    "\n",
    "    for t in tags:\n",
    "        props = t['properties']\n",
    "        for p in props:\n",
    "            properties.append((p['key'], p['value']))\n",
    "\n",
    "    properties = dict(properties)\n",
    "    props_df = pd.DataFrame.from_dict(properties, orient = 'index', columns = ['properties'])\n",
    "\n",
    "    channels = datasource['channels']\n",
    "    classifiers = []\n",
    "\n",
    "    for c in channels:\n",
    "        classifiers.append((c['id'], c['classifier']))\n",
    "    \n",
    "    classifiers = dict(classifiers)\n",
    "    class_df = pd.DataFrame.from_dict(classifiers, orient = 'index', columns = ['classifiers'])\n",
    "    \n",
    "    return(props_df, class_df)"
   ]
  },
  {
   "cell_type": "code",
   "execution_count": 103,
   "metadata": {},
   "outputs": [],
   "source": [
    "properties, classifiers = get_datasource(\"NEPOOL_MECO_1286952002\")"
   ]
  },
  {
   "cell_type": "code",
   "execution_count": 106,
   "metadata": {},
   "outputs": [
    {
     "data": {
      "text/html": [
       "<div>\n",
       "<style scoped>\n",
       "    .dataframe tbody tr th:only-of-type {\n",
       "        vertical-align: middle;\n",
       "    }\n",
       "\n",
       "    .dataframe tbody tr th {\n",
       "        vertical-align: top;\n",
       "    }\n",
       "\n",
       "    .dataframe thead th {\n",
       "        text-align: right;\n",
       "    }\n",
       "</style>\n",
       "<table border=\"1\" class=\"dataframe\">\n",
       "  <thead>\n",
       "    <tr style=\"text-align: right;\">\n",
       "      <th></th>\n",
       "      <th>properties</th>\n",
       "    </tr>\n",
       "  </thead>\n",
       "  <tbody>\n",
       "    <tr>\n",
       "      <th>calculated</th>\n",
       "      <td>False</td>\n",
       "    </tr>\n",
       "    <tr>\n",
       "      <th>default</th>\n",
       "      <td>True</td>\n",
       "    </tr>\n",
       "    <tr>\n",
       "      <th>estimated</th>\n",
       "      <td>False</td>\n",
       "    </tr>\n",
       "    <tr>\n",
       "      <th>periodstatus</th>\n",
       "      <td>S</td>\n",
       "    </tr>\n",
       "    <tr>\n",
       "      <th>utilityprovided</th>\n",
       "      <td>True</td>\n",
       "    </tr>\n",
       "  </tbody>\n",
       "</table>\n",
       "</div>"
      ],
      "text/plain": [
       "                properties\n",
       "calculated           False\n",
       "default               True\n",
       "estimated            False\n",
       "periodstatus             S\n",
       "utilityprovided       True"
      ]
     },
     "execution_count": 106,
     "metadata": {},
     "output_type": "execute_result"
    }
   ],
   "source": [
    "properties.head()"
   ]
  },
  {
   "cell_type": "code",
   "execution_count": 107,
   "metadata": {},
   "outputs": [
    {
     "data": {
      "text/html": [
       "<div>\n",
       "<style scoped>\n",
       "    .dataframe tbody tr th:only-of-type {\n",
       "        vertical-align: middle;\n",
       "    }\n",
       "\n",
       "    .dataframe tbody tr th {\n",
       "        vertical-align: top;\n",
       "    }\n",
       "\n",
       "    .dataframe thead th {\n",
       "        text-align: right;\n",
       "    }\n",
       "</style>\n",
       "<table border=\"1\" class=\"dataframe\">\n",
       "  <thead>\n",
       "    <tr style=\"text-align: right;\">\n",
       "      <th></th>\n",
       "      <th>classifiers</th>\n",
       "    </tr>\n",
       "  </thead>\n",
       "  <tbody>\n",
       "    <tr>\n",
       "      <th>DELIVERY_SCALAR</th>\n",
       "      <td>DELIVERY_SCALAR</td>\n",
       "    </tr>\n",
       "    <tr>\n",
       "      <th>DELIVERY_SCALAR_HEARTBEAT</th>\n",
       "      <td>DELIVERY_SCALAR_HEARTBEAT</td>\n",
       "    </tr>\n",
       "    <tr>\n",
       "      <th>TOTAL_DEMAND</th>\n",
       "      <td>TOTAL_DEMAND</td>\n",
       "    </tr>\n",
       "    <tr>\n",
       "      <th>TOTAL_DEMAND_HEARTBEAT</th>\n",
       "      <td>TOTAL_DEMAND_HEARTBEAT</td>\n",
       "    </tr>\n",
       "    <tr>\n",
       "      <th>DELIVERY_IDR</th>\n",
       "      <td>DELIVERY_IDR</td>\n",
       "    </tr>\n",
       "  </tbody>\n",
       "</table>\n",
       "</div>"
      ],
      "text/plain": [
       "                                         classifiers\n",
       "DELIVERY_SCALAR                      DELIVERY_SCALAR\n",
       "DELIVERY_SCALAR_HEARTBEAT  DELIVERY_SCALAR_HEARTBEAT\n",
       "TOTAL_DEMAND                            TOTAL_DEMAND\n",
       "TOTAL_DEMAND_HEARTBEAT        TOTAL_DEMAND_HEARTBEAT\n",
       "DELIVERY_IDR                            DELIVERY_IDR"
      ]
     },
     "execution_count": 107,
     "metadata": {},
     "output_type": "execute_result"
    }
   ],
   "source": [
    "classifiers.head()"
   ]
  },
  {
   "cell_type": "markdown",
   "metadata": {},
   "source": [
    "## Query Get Request"
   ]
  },
  {
   "cell_type": "code",
   "execution_count": null,
   "metadata": {},
   "outputs": [],
   "source": [
    "url = \"/ewx/v1/query/execute\"\n",
    "eql = requests.get(url, headers = header)"
   ]
  },
  {
   "cell_type": "code",
   "execution_count": null,
   "metadata": {},
   "outputs": [],
   "source": [
    "query = \"\"\"SELECT *\n",
    "FROM flow_metadata\n",
    "WHERE STRUCT (datasource_id, flow_timestamp) IN\n",
    "  (SELECT AS STRUCT datasource_id, MAX(flow_timestamp) AS flow_timestamp \n",
    "  FROM flow_metadata\n",
    "  GROUP BY datasource_id)\n",
    "\n",
    "AND datasource_id IN (\n",
    "  SELECT datasource_id\n",
    "  FROM tags, UNNEST(properties) as props\n",
    "  WHERE tag = 'metadata'\n",
    "  AND props.key = 'market'\n",
    "  AND (props.value = 'NEPOOL' OR props.value = 'NYISO')\n",
    ")\n",
    "ORDER BY flow_timestamp DESC\"\"\""
   ]
  },
  {
   "cell_type": "code",
   "execution_count": null,
   "metadata": {},
   "outputs": [],
   "source": []
  },
  {
   "cell_type": "code",
   "execution_count": null,
   "metadata": {},
   "outputs": [],
   "source": []
  },
  {
   "cell_type": "code",
   "execution_count": null,
   "metadata": {},
   "outputs": [],
   "source": []
  }
 ],
 "metadata": {
  "kernelspec": {
   "display_name": "Python 3",
   "language": "python",
   "name": "python3"
  },
  "language_info": {
   "codemirror_mode": {
    "name": "ipython",
    "version": 3
   },
   "file_extension": ".py",
   "mimetype": "text/x-python",
   "name": "python",
   "nbconvert_exporter": "python",
   "pygments_lexer": "ipython3",
   "version": "3.6.4"
  }
 },
 "nbformat": 4,
 "nbformat_minor": 2
}
