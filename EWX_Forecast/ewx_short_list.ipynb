{
 "cells": [
  {
   "cell_type": "markdown",
   "metadata": {},
   "source": [
    "# EWX Short List"
   ]
  },
  {
   "cell_type": "markdown",
   "metadata": {},
   "source": [
    "Want to look at meters in EWX short list to see if we can verify forecasted & actual statistics / data integrity."
   ]
  },
  {
   "cell_type": "code",
   "execution_count": 1,
   "metadata": {},
   "outputs": [],
   "source": [
    "import datetime as dt\n",
    "import pandas as pd\n",
    "import numpy as np\n",
    "import json\n",
    "import time\n",
    "import math\n",
    "import os\n",
    "import cx_Oracle\n",
    "import pprint\n",
    "pp = pprint.PrettyPrinter(3)"
   ]
  },
  {
   "cell_type": "code",
   "execution_count": 2,
   "metadata": {},
   "outputs": [
    {
     "name": "stdout",
     "output_type": "stream",
     "text": [
      "working in C:\\Users\\wb5888\\LA-tools.\n"
     ]
    }
   ],
   "source": [
    "base = os.getcwd()\n",
    "print('working in {}.'.format(base))"
   ]
  },
  {
   "cell_type": "markdown",
   "metadata": {},
   "source": [
    "## Query PE"
   ]
  },
  {
   "cell_type": "code",
   "execution_count": 16,
   "metadata": {},
   "outputs": [
    {
     "name": "stdout",
     "output_type": "stream",
     "text": [
      "imported CapTags successfully.\n"
     ]
    }
   ],
   "source": [
    "def OracleAPI(query):\n",
    "    \n",
    "    uid = 'tesi_interface'\n",
    "    pwd = 'peint88'\n",
    "\n",
    "    ip = '172.25.152.125'\n",
    "    port = '1700'\n",
    "    service_name = 'tppe.mytna.com'\n",
    "    dsn = cx_Oracle.makedsn(ip, port, service_name=service_name)\n",
    "    \n",
    "    result_list = []\n",
    "    con = cx_Oracle.connect(user = uid, password = pwd, dsn = dsn)\n",
    "    cur = con.cursor()\n",
    "    cur.execute(query)\n",
    "    \n",
    "    for result in cur:\n",
    "        result_list.append(result)\n",
    "        \n",
    "    return(result_list)"
   ]
  },
  {
   "cell_type": "code",
   "execution_count": null,
   "metadata": {},
   "outputs": [],
   "source": [
    "def pipe_import(filename, path):\n",
    "\n",
    "    account = filename.split('.')[0]\n",
    "    ch = '3'\n",
    "    final = \",\".join([account, ch])\n",
    "    write_path = os.path.join(path,filename)\n",
    "\n",
    "    cmd_prmpt = [\"C:\\LODESTAR\\Bin\\intdexp\", \"-c\", \"Data Source=TPPE;User ID=tesi_interface;Password=peint88;LSProvider=ODP;\",\\\n",
    "                 \"-q\", \"pwrline\", \"-f\", \"C:\\LODESTAR\\cfg\\examples\\Cfg\\lodestar.cfg\", \"-s\", \"01/01/2019\", \"-t\", \"12/31/2019\",\\\n",
    "                 \"-dtuse\", \"PARTIAL\", \"-d\", \"hi\", final, \"-o\", write_path]\n",
    "\n",
    "    x = Popen(cmd_prmpt, stdout = PIPE, stderr = PIPE)\n",
    "    output, errors = x.communicate()"
   ]
  },
  {
   "cell_type": "code",
   "execution_count": null,
   "metadata": {},
   "outputs": [],
   "source": []
  },
  {
   "cell_type": "markdown",
   "metadata": {},
   "source": [
    "## Read Data"
   ]
  },
  {
   "cell_type": "code",
   "execution_count": 3,
   "metadata": {},
   "outputs": [
    {
     "data": {
      "text/html": [
       "<div>\n",
       "<style scoped>\n",
       "    .dataframe tbody tr th:only-of-type {\n",
       "        vertical-align: middle;\n",
       "    }\n",
       "\n",
       "    .dataframe tbody tr th {\n",
       "        vertical-align: top;\n",
       "    }\n",
       "\n",
       "    .dataframe thead th {\n",
       "        text-align: right;\n",
       "    }\n",
       "</style>\n",
       "<table border=\"1\" class=\"dataframe\">\n",
       "  <thead>\n",
       "    <tr style=\"text-align: right;\">\n",
       "      <th></th>\n",
       "      <th>AGREEMENT</th>\n",
       "      <th>QUOTENUMBER</th>\n",
       "      <th>REVISION</th>\n",
       "      <th>METERID</th>\n",
       "      <th>AGREE_START_DATE</th>\n",
       "      <th>PR_RELEASED_DATE</th>\n",
       "      <th>MAXPARSEDUIDRAW</th>\n",
       "      <th>RECENT_PARSED_FOR_PR</th>\n",
       "      <th>SUM_OF_USAGE</th>\n",
       "      <th>ALPS_ANNUAL_KWH</th>\n",
       "      <th>...</th>\n",
       "      <th>ANNUALIZED_ALPS_ANNUAL_KWH</th>\n",
       "      <th>EWN_IN_OUT_DIFF</th>\n",
       "      <th>EWX_OUT_VS_IRIS_DIFF</th>\n",
       "      <th>IRIS_VS_RAW_DIFF</th>\n",
       "      <th>EWX_sent_timestamp</th>\n",
       "      <th>PE_LSTIME</th>\n",
       "      <th>METER_TYPE</th>\n",
       "      <th>CHANNEL</th>\n",
       "      <th>BROKER_NAME</th>\n",
       "      <th>Unnamed: 22</th>\n",
       "    </tr>\n",
       "  </thead>\n",
       "  <tbody>\n",
       "    <tr>\n",
       "      <th>0</th>\n",
       "      <td>1-HFQXTB</td>\n",
       "      <td>1-HF3YIL</td>\n",
       "      <td>2</td>\n",
       "      <td>ERCOT_CPT_1008901006901276940117</td>\n",
       "      <td>1970-01-01 00:00:00.000043405</td>\n",
       "      <td>43276.66847</td>\n",
       "      <td>2593481</td>\n",
       "      <td>43276.61031</td>\n",
       "      <td>13.08605_12</td>\n",
       "      <td>1.308605e+01</td>\n",
       "      <td>...</td>\n",
       "      <td>1.308605e+01</td>\n",
       "      <td>2.888953e+06</td>\n",
       "      <td>0.025421</td>\n",
       "      <td>2.815514e+06</td>\n",
       "      <td>06/25/2018 14:42:00</td>\n",
       "      <td>07/03/2018 23:51:38</td>\n",
       "      <td>SCALAR</td>\n",
       "      <td>Broker</td>\n",
       "      <td>NORESCO LLC</td>\n",
       "      <td>NaN</td>\n",
       "    </tr>\n",
       "    <tr>\n",
       "      <th>1</th>\n",
       "      <td>1-HFQXTB</td>\n",
       "      <td>1-HF3YIL</td>\n",
       "      <td>2</td>\n",
       "      <td>ERCOT_CPT_1008901024901276770117</td>\n",
       "      <td>1970-01-01 00:00:00.000043405</td>\n",
       "      <td>43276.66847</td>\n",
       "      <td>2593478</td>\n",
       "      <td>43276.61030</td>\n",
       "      <td>13.08605_12</td>\n",
       "      <td>1.308605e+01</td>\n",
       "      <td>...</td>\n",
       "      <td>1.308605e+01</td>\n",
       "      <td>1.444514e+06</td>\n",
       "      <td>0.025446</td>\n",
       "      <td>1.407757e+06</td>\n",
       "      <td>06/25/2018 14:42:00</td>\n",
       "      <td>07/19/2018 16:22:36</td>\n",
       "      <td>SCALAR</td>\n",
       "      <td>Broker</td>\n",
       "      <td>NORESCO LLC</td>\n",
       "      <td>NaN</td>\n",
       "    </tr>\n",
       "    <tr>\n",
       "      <th>2</th>\n",
       "      <td>1-GXF0NO</td>\n",
       "      <td>1-GPY4BN</td>\n",
       "      <td>5</td>\n",
       "      <td>NEPOOL_UI_1140038927020</td>\n",
       "      <td>1970-01-01 00:00:00.000043221</td>\n",
       "      <td>43179.58803</td>\n",
       "      <td>2290943</td>\n",
       "      <td>43144.44807</td>\n",
       "      <td>289855.8621_12</td>\n",
       "      <td>2.898559e+05</td>\n",
       "      <td>...</td>\n",
       "      <td>2.898559e+05</td>\n",
       "      <td>2.855124e+01</td>\n",
       "      <td>0.068458</td>\n",
       "      <td>2.652823e+01</td>\n",
       "      <td>03/15/2018 07:21:00</td>\n",
       "      <td>08/19/2018 23:31:42</td>\n",
       "      <td>SCALAR</td>\n",
       "      <td>KPG Broker</td>\n",
       "      <td>ENERNOC INC</td>\n",
       "      <td>NaN</td>\n",
       "    </tr>\n",
       "    <tr>\n",
       "      <th>3</th>\n",
       "      <td>1-I4ZI49</td>\n",
       "      <td>1-I40NDU</td>\n",
       "      <td>1</td>\n",
       "      <td>PJM_PPL_6102785013</td>\n",
       "      <td>1970-01-01 00:00:00.000043466</td>\n",
       "      <td>43444.38110</td>\n",
       "      <td>2713245</td>\n",
       "      <td>43356.42718</td>\n",
       "      <td>642177.3399_12</td>\n",
       "      <td>6.421773e+05</td>\n",
       "      <td>...</td>\n",
       "      <td>6.421773e+05</td>\n",
       "      <td>7.049023e+00</td>\n",
       "      <td>0.004719</td>\n",
       "      <td>7.011041e+00</td>\n",
       "      <td>09/13/2018 10:17:00</td>\n",
       "      <td>12/03/2018 09:37:18</td>\n",
       "      <td>SCALAR</td>\n",
       "      <td>Direct</td>\n",
       "      <td>0</td>\n",
       "      <td>NaN</td>\n",
       "    </tr>\n",
       "    <tr>\n",
       "      <th>4</th>\n",
       "      <td>1-HH450N</td>\n",
       "      <td>1-GV0UPL</td>\n",
       "      <td>1</td>\n",
       "      <td>NEPOOL_CLP_51768353054_427832005</td>\n",
       "      <td>1970-01-01 00:00:00.000043282</td>\n",
       "      <td>43174.69051</td>\n",
       "      <td>2347285</td>\n",
       "      <td>43172.73895</td>\n",
       "      <td>3563508.9401_12</td>\n",
       "      <td>3.563509e+06</td>\n",
       "      <td>...</td>\n",
       "      <td>3.563509e+06</td>\n",
       "      <td>7.037864e+00</td>\n",
       "      <td>0.875270</td>\n",
       "      <td>2.561928e-03</td>\n",
       "      <td>03/15/2018 09:21:00</td>\n",
       "      <td>07/03/2018 16:34:24</td>\n",
       "      <td>IDR</td>\n",
       "      <td>KPG Broker</td>\n",
       "      <td>TFS- ENERGY SOLUTIONS LP</td>\n",
       "      <td>NaN</td>\n",
       "    </tr>\n",
       "  </tbody>\n",
       "</table>\n",
       "<p>5 rows × 23 columns</p>\n",
       "</div>"
      ],
      "text/plain": [
       "  AGREEMENT QUOTENUMBER  REVISION                           METERID  \\\n",
       "0  1-HFQXTB    1-HF3YIL         2  ERCOT_CPT_1008901006901276940117   \n",
       "1  1-HFQXTB    1-HF3YIL         2  ERCOT_CPT_1008901024901276770117   \n",
       "2  1-GXF0NO    1-GPY4BN         5           NEPOOL_UI_1140038927020   \n",
       "3  1-I4ZI49    1-I40NDU         1                PJM_PPL_6102785013   \n",
       "4  1-HH450N    1-GV0UPL         1  NEPOOL_CLP_51768353054_427832005   \n",
       "\n",
       "               AGREE_START_DATE  PR_RELEASED_DATE  MAXPARSEDUIDRAW  \\\n",
       "0 1970-01-01 00:00:00.000043405       43276.66847          2593481   \n",
       "1 1970-01-01 00:00:00.000043405       43276.66847          2593478   \n",
       "2 1970-01-01 00:00:00.000043221       43179.58803          2290943   \n",
       "3 1970-01-01 00:00:00.000043466       43444.38110          2713245   \n",
       "4 1970-01-01 00:00:00.000043282       43174.69051          2347285   \n",
       "\n",
       "   RECENT_PARSED_FOR_PR     SUM_OF_USAGE  ALPS_ANNUAL_KWH  ...  \\\n",
       "0           43276.61031      13.08605_12     1.308605e+01  ...   \n",
       "1           43276.61030      13.08605_12     1.308605e+01  ...   \n",
       "2           43144.44807   289855.8621_12     2.898559e+05  ...   \n",
       "3           43356.42718   642177.3399_12     6.421773e+05  ...   \n",
       "4           43172.73895  3563508.9401_12     3.563509e+06  ...   \n",
       "\n",
       "   ANNUALIZED_ALPS_ANNUAL_KWH  EWN_IN_OUT_DIFF  EWX_OUT_VS_IRIS_DIFF  \\\n",
       "0                1.308605e+01     2.888953e+06              0.025421   \n",
       "1                1.308605e+01     1.444514e+06              0.025446   \n",
       "2                2.898559e+05     2.855124e+01              0.068458   \n",
       "3                6.421773e+05     7.049023e+00              0.004719   \n",
       "4                3.563509e+06     7.037864e+00              0.875270   \n",
       "\n",
       "   IRIS_VS_RAW_DIFF   EWX_sent_timestamp            PE_LSTIME  METER_TYPE  \\\n",
       "0      2.815514e+06  06/25/2018 14:42:00  07/03/2018 23:51:38      SCALAR   \n",
       "1      1.407757e+06  06/25/2018 14:42:00  07/19/2018 16:22:36      SCALAR   \n",
       "2      2.652823e+01  03/15/2018 07:21:00  08/19/2018 23:31:42      SCALAR   \n",
       "3      7.011041e+00  09/13/2018 10:17:00  12/03/2018 09:37:18      SCALAR   \n",
       "4      2.561928e-03  03/15/2018 09:21:00  07/03/2018 16:34:24         IDR   \n",
       "\n",
       "      CHANNEL               BROKER_NAME Unnamed: 22  \n",
       "0      Broker               NORESCO LLC         NaN  \n",
       "1      Broker               NORESCO LLC         NaN  \n",
       "2  KPG Broker               ENERNOC INC         NaN  \n",
       "3      Direct                         0         NaN  \n",
       "4  KPG Broker  TFS- ENERGY SOLUTIONS LP         NaN  \n",
       "\n",
       "[5 rows x 23 columns]"
      ]
     },
     "execution_count": 3,
     "metadata": {},
     "output_type": "execute_result"
    }
   ],
   "source": [
    "ewx = pd.read_csv('short_lists_ewx_top_ten.csv', header = 0)\n",
    "ewx['AGREE_START_DATE'] = pd.to_datetime(ewx['AGREE_START_DATE'])\n",
    "ewx.head()"
   ]
  },
  {
   "cell_type": "code",
   "execution_count": 8,
   "metadata": {},
   "outputs": [
    {
     "name": "stdout",
     "output_type": "stream",
     "text": [
      "found 39 meters, data struct: <class 'list'>.\n"
     ]
    }
   ],
   "source": [
    "meters = list(ewx.METERID)\n",
    "print('found {} meters, data struct: {}.'.format(len(meters), type(meters)))"
   ]
  },
  {
   "cell_type": "code",
   "execution_count": 34,
   "metadata": {},
   "outputs": [
    {
     "data": {
      "text/plain": [
       "'ERCOT_CPT_1008901006901276940117'"
      ]
     },
     "execution_count": 34,
     "metadata": {},
     "output_type": "execute_result"
    }
   ],
   "source": [
    "a = meters[0]\n",
    "a"
   ]
  },
  {
   "cell_type": "markdown",
   "metadata": {},
   "source": [
    "## Pipe Import"
   ]
  },
  {
   "cell_type": "code",
   "execution_count": null,
   "metadata": {},
   "outputs": [],
   "source": [
    "''' pipe_import '''\n",
    "\n",
    "''' takes inputs of:\n",
    "        filename (str) i.e. 'meter_id.csv'\n",
    "        ch (int)       i.e. 1\n",
    "        start (str)    i.e. 'mm/dd/YYYY' as a character string, NOT datetime, pytz, timestamp objects!!\n",
    "        stop (str)    i.e. 'mm/dd/YYYY' as a character string, NOT datetime, pytz, timestamp objects!!\n",
    "        path (str)     i.e. 'C://Users/wb5888/Documents/IDR'  \n",
    "'''  \n",
    "\n",
    "''' imports ch for meter included in filename, \"meter_id.csv\" '''\n",
    "''' between start and stop dates. Writes results to path. '''"
   ]
  },
  {
   "cell_type": "code",
   "execution_count": 119,
   "metadata": {},
   "outputs": [],
   "source": [
    "def pipe_import(filename, ch, start, stop, path):\n",
    "    \n",
    "    account = filename.split('.')[0]\n",
    "    channel = str(ch)\n",
    "    final = \",\".join([account, str(ch)])\n",
    "    write_path = os.path.join(path,filename)\n",
    "    \n",
    "    start = '\"'.join(['', start, ''])\n",
    "    stop = '\"'.join(['', stop, ''])\n",
    "\n",
    "    cmd_prmpt = [\"C:\\LODESTAR\\Bin\\intdexp\", \"-c\", \"Data Source=TPPE;User ID=tesi_interface;Password=peint88;LSProvider=ODP;\",\\\n",
    "                \"-q\", \"pwrline\", \"-f\", \"C:\\LODESTAR\\cfg\\examples\\Cfg\\lodestar.cfg\", \"-s\", start, \"-t\", stop,\\\n",
    "                \"-dtuse\", \"PARTIAL\", \"-d\", \"hi\", final, \"-o\", write_path]\n",
    "    \n",
    "    print('call .exe with prompt...')\n",
    "    pp.pprint(cmd_prmpt)\n",
    "    \n",
    "    return(ct.issue_command(cmd_prmpt))"
   ]
  },
  {
   "cell_type": "markdown",
   "metadata": {},
   "source": [
    "## Example"
   ]
  },
  {
   "cell_type": "code",
   "execution_count": 120,
   "metadata": {},
   "outputs": [
    {
     "name": "stdout",
     "output_type": "stream",
     "text": [
      "working with file: ERCOT_CPT_1008901006901276940117.csv.\n",
      "\n",
      "writing data to: C:\\Users\\wb5888\\LA-tools\\ewx_short_list_data.\n"
     ]
    }
   ],
   "source": [
    "test = '.'.join([a, 'csv'])\n",
    "print('working with file: {}.'.format(test))\n",
    "print('')\n",
    "\n",
    "data = os.path.join(base, 'ewx_short_list_data')\n",
    "print('writing data to: {}.'.format(data))"
   ]
  },
  {
   "cell_type": "code",
   "execution_count": 132,
   "metadata": {},
   "outputs": [
    {
     "name": "stdout",
     "output_type": "stream",
     "text": [
      "call .exe with prompt...\n",
      "[  'C:\\\\LODESTAR\\\\Bin\\\\intdexp',\n",
      "   '-c',\n",
      "   'Data Source=TPPE;User ID=tesi_interface;Password=peint88;LSProvider=ODP;',\n",
      "   '-q',\n",
      "   'pwrline',\n",
      "   '-f',\n",
      "   'C:\\\\LODESTAR\\\\cfg\\\\examples\\\\Cfg\\\\lodestar.cfg',\n",
      "   '-s',\n",
      "   '\"01/01/2017\"',\n",
      "   '-t',\n",
      "   '\"11/01/2017\"',\n",
      "   '-dtuse',\n",
      "   'PARTIAL',\n",
      "   '-d',\n",
      "   'hi',\n",
      "   'ERCOT_CPT_1008901006901276940117,1',\n",
      "   '-o',\n",
      "   'C:\\\\Users\\\\wb5888\\\\LA-tools\\\\ewx_short_list_data\\\\ERCOT_CPT_1008901006901276940117.csv']\n"
     ]
    }
   ],
   "source": [
    "output, error = pipe_import(test, 1, \"01/01/2017\", \"11/01/2017\", data)"
   ]
  },
  {
   "cell_type": "code",
   "execution_count": 133,
   "metadata": {},
   "outputs": [
    {
     "name": "stdout",
     "output_type": "stream",
     "text": [
      "(b'Interval Data Export terminated with error.\\r\\n', b'')\n"
     ]
    }
   ],
   "source": [
    "print((output, error))"
   ]
  },
  {
   "cell_type": "code",
   "execution_count": 122,
   "metadata": {},
   "outputs": [
    {
     "data": {
      "text/plain": [
       "['ERCOT_CPT_1008901006901276940117.csv']"
      ]
     },
     "execution_count": 122,
     "metadata": {},
     "output_type": "execute_result"
    }
   ],
   "source": [
    "files = os.listdir(data)\n",
    "files"
   ]
  },
  {
   "cell_type": "markdown",
   "metadata": {},
   "source": [
    "## Read data from disk"
   ]
  },
  {
   "cell_type": "code",
   "execution_count": 123,
   "metadata": {},
   "outputs": [],
   "source": [
    "def data_import(file, skip):\n",
    "\n",
    "    print('reading data...')\n",
    "    data = pd.read_csv(file, header = None, skiprows = skip, index_col = None, sep = \",\")\n",
    "\n",
    "    print(data.head())\n",
    "    print('reindexing...')\n",
    "    data.reset_index(drop = True, inplace = True)\n",
    "    data.drop(data.columns[[1, 3]], axis = 1, inplace = True)\n",
    "    \n",
    "    print('type conversion...')\n",
    "    data.columns = ['v', 't']\n",
    "    data['t'] = pd.to_datetime(data['t'])\n",
    "    data.index = data['t']\n",
    "    data.drop(data.columns[1], axis = 1, inplace = True)\n",
    "    \n",
    "    print('write to csv...')\n",
    "    data.to_csv(file, header = False, index = False)\n",
    "    print('done.')\n",
    "    \n",
    "    return(data)\n",
    "\n",
    "def ten_yr_skip():\n",
    "    reads = [8760, 8784, 8760, 8760, 8760, 8784, 8760, 8760, 8760, 8784, 8760]\n",
    "    skip_index = list(range(0,5))\n",
    "    cum_x = 0\n",
    "\n",
    "    for i, x in enumerate(reads):\n",
    "        cum_x += x\n",
    "        cur_index = list(range(0 + cum_x + (i + 1)*5, 5 + cum_x + (i + 1)*5))\n",
    "        for index in cur_index:\n",
    "            skip_index.append(index)\n",
    "            \n",
    "    return(skip_index)"
   ]
  },
  {
   "cell_type": "markdown",
   "metadata": {},
   "source": [
    "## Example..."
   ]
  },
  {
   "cell_type": "code",
   "execution_count": 126,
   "metadata": {},
   "outputs": [
    {
     "name": "stdout",
     "output_type": "stream",
     "text": [
      "skip_index attributes:\n",
      "(len, type, head): (60, <class 'list'>, [0, 1, 2, 3, 4]).\n",
      "\n",
      "working with file: ERCOT_CPT_1008901006901276940117.csv.\n"
     ]
    }
   ],
   "source": [
    "test = files[0]\n",
    "\n",
    "skip_index = ten_yr_skip()\n",
    "print('skip_index attributes:')\n",
    "print('(len, type, head): {}.'.format((len(skip_index), type(skip_index), skip_index[:5])))\n",
    "print('')\n",
    "print('working with file: {}.'.format(test))"
   ]
  },
  {
   "cell_type": "code",
   "execution_count": 127,
   "metadata": {},
   "outputs": [
    {
     "name": "stdout",
     "output_type": "stream",
     "text": [
      "reading data...\n",
      "          0\n",
      "0  2165.768\n",
      "1  2407.184\n",
      "2  2474.244\n",
      "3  3922.744\n",
      "4  5290.772\n",
      "reindexing...\n"
     ]
    },
    {
     "ename": "IndexError",
     "evalue": "index 1 is out of bounds for axis 0 with size 1",
     "output_type": "error",
     "traceback": [
      "\u001b[1;31m---------------------------------------------------------------------------\u001b[0m",
      "\u001b[1;31mIndexError\u001b[0m                                Traceback (most recent call last)",
      "\u001b[1;32m<ipython-input-127-40ac56c36173>\u001b[0m in \u001b[0;36m<module>\u001b[1;34m\u001b[0m\n\u001b[0;32m      1\u001b[0m \u001b[0mos\u001b[0m\u001b[1;33m.\u001b[0m\u001b[0mchdir\u001b[0m\u001b[1;33m(\u001b[0m\u001b[0mdata\u001b[0m\u001b[1;33m)\u001b[0m\u001b[1;33m\u001b[0m\u001b[1;33m\u001b[0m\u001b[0m\n\u001b[1;32m----> 2\u001b[1;33m \u001b[0mmeter_data\u001b[0m \u001b[1;33m=\u001b[0m \u001b[0mdata_import\u001b[0m\u001b[1;33m(\u001b[0m\u001b[0mtest\u001b[0m\u001b[1;33m,\u001b[0m \u001b[0mskip_index\u001b[0m\u001b[1;33m)\u001b[0m\u001b[1;33m\u001b[0m\u001b[1;33m\u001b[0m\u001b[0m\n\u001b[0m",
      "\u001b[1;32m<ipython-input-123-3f8aaf63fbf9>\u001b[0m in \u001b[0;36mdata_import\u001b[1;34m(file, skip)\u001b[0m\n\u001b[0;32m      7\u001b[0m     \u001b[0mprint\u001b[0m\u001b[1;33m(\u001b[0m\u001b[1;34m'reindexing...'\u001b[0m\u001b[1;33m)\u001b[0m\u001b[1;33m\u001b[0m\u001b[1;33m\u001b[0m\u001b[0m\n\u001b[0;32m      8\u001b[0m     \u001b[0mdata\u001b[0m\u001b[1;33m.\u001b[0m\u001b[0mreset_index\u001b[0m\u001b[1;33m(\u001b[0m\u001b[0mdrop\u001b[0m \u001b[1;33m=\u001b[0m \u001b[1;32mTrue\u001b[0m\u001b[1;33m,\u001b[0m \u001b[0minplace\u001b[0m \u001b[1;33m=\u001b[0m \u001b[1;32mTrue\u001b[0m\u001b[1;33m)\u001b[0m\u001b[1;33m\u001b[0m\u001b[1;33m\u001b[0m\u001b[0m\n\u001b[1;32m----> 9\u001b[1;33m     \u001b[0mdata\u001b[0m\u001b[1;33m.\u001b[0m\u001b[0mdrop\u001b[0m\u001b[1;33m(\u001b[0m\u001b[0mdata\u001b[0m\u001b[1;33m.\u001b[0m\u001b[0mcolumns\u001b[0m\u001b[1;33m[\u001b[0m\u001b[1;33m[\u001b[0m\u001b[1;36m1\u001b[0m\u001b[1;33m,\u001b[0m \u001b[1;36m3\u001b[0m\u001b[1;33m]\u001b[0m\u001b[1;33m]\u001b[0m\u001b[1;33m,\u001b[0m \u001b[0maxis\u001b[0m \u001b[1;33m=\u001b[0m \u001b[1;36m1\u001b[0m\u001b[1;33m,\u001b[0m \u001b[0minplace\u001b[0m \u001b[1;33m=\u001b[0m \u001b[1;32mTrue\u001b[0m\u001b[1;33m)\u001b[0m\u001b[1;33m\u001b[0m\u001b[1;33m\u001b[0m\u001b[0m\n\u001b[0m\u001b[0;32m     10\u001b[0m \u001b[1;33m\u001b[0m\u001b[0m\n\u001b[0;32m     11\u001b[0m     \u001b[0mprint\u001b[0m\u001b[1;33m(\u001b[0m\u001b[1;34m'type conversion...'\u001b[0m\u001b[1;33m)\u001b[0m\u001b[1;33m\u001b[0m\u001b[1;33m\u001b[0m\u001b[0m\n",
      "\u001b[1;32mc:\\users\\wb5888\\appdata\\local\\programs\\python\\python37-32\\lib\\site-packages\\pandas\\core\\indexes\\base.py\u001b[0m in \u001b[0;36m__getitem__\u001b[1;34m(self, key)\u001b[0m\n\u001b[0;32m   3967\u001b[0m \u001b[1;33m\u001b[0m\u001b[0m\n\u001b[0;32m   3968\u001b[0m         \u001b[0mkey\u001b[0m \u001b[1;33m=\u001b[0m \u001b[0mcom\u001b[0m\u001b[1;33m.\u001b[0m\u001b[0mvalues_from_object\u001b[0m\u001b[1;33m(\u001b[0m\u001b[0mkey\u001b[0m\u001b[1;33m)\u001b[0m\u001b[1;33m\u001b[0m\u001b[1;33m\u001b[0m\u001b[0m\n\u001b[1;32m-> 3969\u001b[1;33m         \u001b[0mresult\u001b[0m \u001b[1;33m=\u001b[0m \u001b[0mgetitem\u001b[0m\u001b[1;33m(\u001b[0m\u001b[0mkey\u001b[0m\u001b[1;33m)\u001b[0m\u001b[1;33m\u001b[0m\u001b[1;33m\u001b[0m\u001b[0m\n\u001b[0m\u001b[0;32m   3970\u001b[0m         \u001b[1;32mif\u001b[0m \u001b[1;32mnot\u001b[0m \u001b[0mis_scalar\u001b[0m\u001b[1;33m(\u001b[0m\u001b[0mresult\u001b[0m\u001b[1;33m)\u001b[0m\u001b[1;33m:\u001b[0m\u001b[1;33m\u001b[0m\u001b[1;33m\u001b[0m\u001b[0m\n\u001b[0;32m   3971\u001b[0m             \u001b[1;32mreturn\u001b[0m \u001b[0mpromote\u001b[0m\u001b[1;33m(\u001b[0m\u001b[0mresult\u001b[0m\u001b[1;33m)\u001b[0m\u001b[1;33m\u001b[0m\u001b[1;33m\u001b[0m\u001b[0m\n",
      "\u001b[1;31mIndexError\u001b[0m: index 1 is out of bounds for axis 0 with size 1"
     ]
    }
   ],
   "source": [
    "os.chdir(data)\n",
    "meter_data = data_import(test, skip_index)"
   ]
  },
  {
   "cell_type": "markdown",
   "metadata": {},
   "source": [
    "### Show Data"
   ]
  },
  {
   "cell_type": "code",
   "execution_count": 98,
   "metadata": {},
   "outputs": [
    {
     "data": {
      "text/html": [
       "<div>\n",
       "<style scoped>\n",
       "    .dataframe tbody tr th:only-of-type {\n",
       "        vertical-align: middle;\n",
       "    }\n",
       "\n",
       "    .dataframe tbody tr th {\n",
       "        vertical-align: top;\n",
       "    }\n",
       "\n",
       "    .dataframe thead th {\n",
       "        text-align: right;\n",
       "    }\n",
       "</style>\n",
       "<table border=\"1\" class=\"dataframe\">\n",
       "  <thead>\n",
       "    <tr style=\"text-align: right;\">\n",
       "      <th></th>\n",
       "      <th>v</th>\n",
       "    </tr>\n",
       "    <tr>\n",
       "      <th>t</th>\n",
       "      <th></th>\n",
       "    </tr>\n",
       "  </thead>\n",
       "  <tbody>\n",
       "    <tr>\n",
       "      <th>2016-11-21 00:00:00</th>\n",
       "      <td>2434.008</td>\n",
       "    </tr>\n",
       "    <tr>\n",
       "      <th>2016-11-21 01:00:00</th>\n",
       "      <td>2004.824</td>\n",
       "    </tr>\n",
       "    <tr>\n",
       "      <th>2016-11-21 02:00:00</th>\n",
       "      <td>1749.996</td>\n",
       "    </tr>\n",
       "    <tr>\n",
       "      <th>2016-11-21 03:00:00</th>\n",
       "      <td>1589.052</td>\n",
       "    </tr>\n",
       "    <tr>\n",
       "      <th>2016-11-21 04:00:00</th>\n",
       "      <td>1669.524</td>\n",
       "    </tr>\n",
       "  </tbody>\n",
       "</table>\n",
       "</div>"
      ],
      "text/plain": [
       "                            v\n",
       "t                            \n",
       "2016-11-21 00:00:00  2434.008\n",
       "2016-11-21 01:00:00  2004.824\n",
       "2016-11-21 02:00:00  1749.996\n",
       "2016-11-21 03:00:00  1589.052\n",
       "2016-11-21 04:00:00  1669.524"
      ]
     },
     "execution_count": 98,
     "metadata": {},
     "output_type": "execute_result"
    }
   ],
   "source": [
    "meter_data.head()"
   ]
  },
  {
   "cell_type": "markdown",
   "metadata": {},
   "source": [
    "## Statistics"
   ]
  },
  {
   "cell_type": "code",
   "execution_count": 101,
   "metadata": {},
   "outputs": [
    {
     "ename": "TypeError",
     "evalue": "unsupported operand type(s) for -: 'str' and 'str'",
     "output_type": "error",
     "traceback": [
      "\u001b[1;31m---------------------------------------------------------------------------\u001b[0m",
      "\u001b[1;31mTypeError\u001b[0m                                 Traceback (most recent call last)",
      "\u001b[1;32m<ipython-input-101-0aae8a4b28d2>\u001b[0m in \u001b[0;36m<module>\u001b[1;34m\u001b[0m\n\u001b[0;32m      1\u001b[0m \u001b[0mtotal_use\u001b[0m \u001b[1;33m=\u001b[0m \u001b[0mmeter_data\u001b[0m\u001b[1;33m.\u001b[0m\u001b[0mapply\u001b[0m\u001b[1;33m(\u001b[0m\u001b[0msum\u001b[0m\u001b[1;33m,\u001b[0m \u001b[0maxis\u001b[0m \u001b[1;33m=\u001b[0m \u001b[1;36m0\u001b[0m\u001b[1;33m)\u001b[0m\u001b[1;33m\u001b[0m\u001b[1;33m\u001b[0m\u001b[0m\n\u001b[1;32m----> 2\u001b[1;33m \u001b[0mdays\u001b[0m \u001b[1;33m=\u001b[0m \u001b[0mdt\u001b[0m\u001b[1;33m.\u001b[0m\u001b[0mtimedelta\u001b[0m\u001b[1;33m(\u001b[0m\u001b[0mmax\u001b[0m\u001b[1;33m(\u001b[0m\u001b[0mmeter_data\u001b[0m\u001b[1;33m.\u001b[0m\u001b[0mindex\u001b[0m\u001b[1;33m)\u001b[0m \u001b[1;33m-\u001b[0m \u001b[0mmin\u001b[0m\u001b[1;33m(\u001b[0m\u001b[0mmeter_data\u001b[0m\u001b[1;33m.\u001b[0m\u001b[0mindex\u001b[0m\u001b[1;33m)\u001b[0m\u001b[1;33m)\u001b[0m\u001b[1;33m\u001b[0m\u001b[1;33m\u001b[0m\u001b[0m\n\u001b[0m",
      "\u001b[1;31mTypeError\u001b[0m: unsupported operand type(s) for -: 'str' and 'str'"
     ]
    }
   ],
   "source": [
    "total_use = meter_data.apply(sum, axis = 0)\n",
    "days = dt.timedelta(max(meter_data.index) - min(meter_data.index))"
   ]
  },
  {
   "cell_type": "code",
   "execution_count": 105,
   "metadata": {},
   "outputs": [
    {
     "data": {
      "text/plain": [
       "pandas.core.series.Series"
      ]
     },
     "execution_count": 105,
     "metadata": {},
     "output_type": "execute_result"
    }
   ],
   "source": [
    "meter_data.index.to_series()"
   ]
  },
  {
   "cell_type": "code",
   "execution_count": null,
   "metadata": {},
   "outputs": [],
   "source": []
  },
  {
   "cell_type": "code",
   "execution_count": null,
   "metadata": {},
   "outputs": [],
   "source": []
  }
 ],
 "metadata": {
  "kernelspec": {
   "display_name": "Python 3",
   "language": "python",
   "name": "python3"
  },
  "language_info": {
   "codemirror_mode": {
    "name": "ipython",
    "version": 3
   },
   "file_extension": ".py",
   "mimetype": "text/x-python",
   "name": "python",
   "nbconvert_exporter": "python",
   "pygments_lexer": "ipython3",
   "version": "3.7.3"
  }
 },
 "nbformat": 4,
 "nbformat_minor": 2
}
