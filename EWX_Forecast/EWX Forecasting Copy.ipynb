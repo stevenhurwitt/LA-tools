{
 "cells": [
  {
   "cell_type": "code",
   "execution_count": 75,
   "metadata": {},
   "outputs": [],
   "source": [
    "import pandas as pd\n",
    "import numpy as np\n",
    "import datetime as dt\n",
    "import json\n",
    "import pprint\n",
    "import os\n"
   ]
  },
  {
   "cell_type": "code",
   "execution_count": 5,
   "metadata": {},
   "outputs": [
    {
     "data": {
      "text/plain": [
       "['.ipynb_checkpoints',\n",
       " 'engie_NEPOOL_WMECO_54024602039_024741000.json',\n",
       " 'engie_NEPOOL_WMECO_54311202097_965441008.json',\n",
       " 'EWX Forecasting Copy.ipynb',\n",
       " 'ewx_NEPOOL_WMECO_54024602039_024741000.json',\n",
       " 'ewx_NEPOOL_WMECO_54311202097_965441008.json']"
      ]
     },
     "execution_count": 5,
     "metadata": {},
     "output_type": "execute_result"
    }
   ],
   "source": [
    "#NEPOOL_WMECO_54024602039_024741000 - IDR\n",
    "#NEPOOL_WMECO_54311202097_965441008 - SCA\n",
    "os.getcwd()\n",
    "files = os.listdir()\n",
    "files"
   ]
  },
  {
   "cell_type": "code",
   "execution_count": 72,
   "metadata": {},
   "outputs": [
    {
     "name": "stdout",
     "output_type": "stream",
     "text": [
      "                                                              0\n",
      "creationdate                                2019-05-23 14:26:04\n",
      "customerid                                             1-9X-432\n",
      "customername                                              ENGIE\n",
      "referenceid   20190523142604042000_NEPOOL_WMECO_54024602039_...\n",
      "payloadtype                                   predealveepayload\n",
      "--------------\n",
      " \n",
      "                                         0\n",
      "market                              NEPOOL\n",
      "discocode                            WMECO\n",
      "accountnumber        54024602039_024741000\n",
      "metertype                              IDR\n",
      "profilebuilder                           I\n",
      "rateclass                               T2\n",
      "zone                                WCMASS\n",
      "profileclass                           IDR\n",
      "lossclass                          PRIMARY\n",
      "ratesubclass                          None\n",
      "unittype                               KWH\n",
      "totaldemandunittype                     KW\n",
      "weatherzone                           None\n",
      "tesiaccount                           None\n",
      "forecastflag                             Y\n",
      "uidaccount                          310162\n",
      "prnumber                          1-IZEA7Q\n",
      "revision                                 1\n",
      "prid                            1-IZEA7Q_1\n",
      "stationid                             None\n",
      "meterreadcycle                          08\n",
      "rechargeny                            None\n",
      "netmeterflag                          None\n",
      "cogenflag                             None\n",
      "stageidentifier                   PRE_DEAL\n",
      "tpt                                     []\n",
      "---------------\n",
      " \n",
      "                          0\n",
      "start   2018-06-01 00:00:00\n",
      "stop    2019-05-31 23:59:59\n",
      "v                   979.593\n",
      "sv                        H\n",
      "lstime  2019-05-23 10:05:18\n",
      "lsuser       TESI_INTERFACE\n",
      "---------\n",
      " \n",
      "                                    0\n",
      "name        YANKEE CANDLE COMPANY INC\n",
      "customerid                   1-9X-432\n",
      "address      102 Christian Ln UNKNOWN\n",
      "city                          Whately\n",
      "state                              MA\n",
      "zip                             01093\n",
      "county                        Unknown\n",
      "country                           USA\n",
      "---------\n",
      " \n"
     ]
    }
   ],
   "source": [
    "with open(files[1]) as raw:\n",
    "    idr_engie = json.load(raw)\n",
    "\n",
    "\n",
    "trnx = idr_engie['transactioninfo']\n",
    "acct = idr_engie['account']\n",
    "\n",
    "trnx_df = pd.DataFrame.from_dict(trnx, orient = 'index')\n",
    "print(trnx_df)\n",
    "print('--------------')\n",
    "print(' ')\n",
    "\n",
    "#acct_df = pd.DataFrame(acct, index = [0])\n",
    "ts_sca_data = acct['timeseriesdatascalar']\n",
    "ts_idr_data = acct['timeseriesdataidr'][0]\n",
    "\n",
    "tmp = dict(acct)\n",
    "caps = tmp['captag'][0]\n",
    "premise = tmp['premise']\n",
    "\n",
    "del tmp['timeseriesdatascalar']\n",
    "del tmp['timeseriesdataidr']\n",
    "del tmp['captag']\n",
    "del tmp['premise']\n",
    "\n",
    "attr = pd.DataFrame.from_dict(tmp, orient = 'index')\n",
    "print(attr)\n",
    "print('---------------')\n",
    "print(' ')\n",
    "\n",
    "caps_df = pd.DataFrame.from_dict(caps, orient = 'index')\n",
    "print(caps_df)\n",
    "print('---------')\n",
    "print(' ')\n",
    "\n",
    "premise_df = pd.DataFrame.from_dict(premise, orient = 'index')\n",
    "print(premise_df)\n",
    "print('---------')\n",
    "print(' ')"
   ]
  },
  {
   "cell_type": "code",
   "execution_count": 69,
   "metadata": {},
   "outputs": [
    {
     "data": {
      "text/plain": [
       "pandas._libs.tslibs.timestamps.Timestamp"
      ]
     },
     "execution_count": 69,
     "metadata": {},
     "output_type": "execute_result"
    }
   ],
   "source": [
    "ch = ts_idr_data['channel']\n",
    "hb = ts_idr_data['heartbeat']\n",
    "idr_payload = pd.DataFrame.from_dict(ts_idr_data['reads'])\n",
    "idr_payload.t = pd.to_datetime(idr_payload.t)\n"
   ]
  },
  {
   "cell_type": "code",
   "execution_count": 77,
   "metadata": {},
   "outputs": [
    {
     "ename": "AttributeError",
     "evalue": "module 'pprint' has no attribute 'print'",
     "output_type": "error",
     "traceback": [
      "\u001b[1;31m---------------------------------------------------------------------------\u001b[0m",
      "\u001b[1;31mAttributeError\u001b[0m                            Traceback (most recent call last)",
      "\u001b[1;32m<ipython-input-77-6f9c6fc97fa4>\u001b[0m in \u001b[0;36m<module>\u001b[1;34m\u001b[0m\n\u001b[1;32m----> 1\u001b[1;33m \u001b[0mpprint\u001b[0m\u001b[1;33m.\u001b[0m\u001b[0mprint\u001b[0m\u001b[1;33m(\u001b[0m\u001b[0mts_sca_data\u001b[0m\u001b[1;33m[\u001b[0m\u001b[1;36m0\u001b[0m\u001b[1;33m]\u001b[0m\u001b[1;33m)\u001b[0m\u001b[1;33m\u001b[0m\u001b[1;33m\u001b[0m\u001b[0m\n\u001b[0m",
      "\u001b[1;31mAttributeError\u001b[0m: module 'pprint' has no attribute 'print'"
     ]
    }
   ],
   "source": [
    "pprint.print(ts_sca_data[0])"
   ]
  },
  {
   "cell_type": "code",
   "execution_count": null,
   "metadata": {},
   "outputs": [],
   "source": []
  }
 ],
 "metadata": {
  "kernelspec": {
   "display_name": "Python 3",
   "language": "python",
   "name": "python3"
  },
  "language_info": {
   "codemirror_mode": {
    "name": "ipython",
    "version": 3
   },
   "file_extension": ".py",
   "mimetype": "text/x-python",
   "name": "python",
   "nbconvert_exporter": "python",
   "pygments_lexer": "ipython3",
   "version": "3.7.3"
  }
 },
 "nbformat": 4,
 "nbformat_minor": 2
}
