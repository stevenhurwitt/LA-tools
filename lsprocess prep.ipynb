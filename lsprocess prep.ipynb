{
 "cells": [
  {
   "cell_type": "code",
   "execution_count": 3,
   "metadata": {},
   "outputs": [],
   "source": [
    "import pandas as pd\n",
    "import os"
   ]
  },
  {
   "cell_type": "code",
   "execution_count": 5,
   "metadata": {},
   "outputs": [],
   "source": [
    "os.chdir(\"C:\\\\Users\\\\wb5888\\\\Documents\")"
   ]
  },
  {
   "cell_type": "code",
   "execution_count": 8,
   "metadata": {},
   "outputs": [
    {
     "data": {
      "text/html": [
       "<div>\n",
       "<style scoped>\n",
       "    .dataframe tbody tr th:only-of-type {\n",
       "        vertical-align: middle;\n",
       "    }\n",
       "\n",
       "    .dataframe tbody tr th {\n",
       "        vertical-align: top;\n",
       "    }\n",
       "\n",
       "    .dataframe thead th {\n",
       "        text-align: right;\n",
       "    }\n",
       "</style>\n",
       "<table border=\"1\" class=\"dataframe\">\n",
       "  <thead>\n",
       "    <tr style=\"text-align: right;\">\n",
       "      <th></th>\n",
       "      <th>meter</th>\n",
       "      <th>tag</th>\n",
       "    </tr>\n",
       "  </thead>\n",
       "  <tbody>\n",
       "    <tr>\n",
       "      <th>0</th>\n",
       "      <td>5125107510</td>\n",
       "      <td>3.67</td>\n",
       "    </tr>\n",
       "    <tr>\n",
       "      <th>1</th>\n",
       "      <td>6007710200</td>\n",
       "      <td>0.23</td>\n",
       "    </tr>\n",
       "    <tr>\n",
       "      <th>2</th>\n",
       "      <td>5125109210</td>\n",
       "      <td>1.00</td>\n",
       "    </tr>\n",
       "    <tr>\n",
       "      <th>3</th>\n",
       "      <td>5125109300</td>\n",
       "      <td>0.23</td>\n",
       "    </tr>\n",
       "    <tr>\n",
       "      <th>4</th>\n",
       "      <td>5125109510</td>\n",
       "      <td>0.00</td>\n",
       "    </tr>\n",
       "  </tbody>\n",
       "</table>\n",
       "</div>"
      ],
      "text/plain": [
       "        meter   tag\n",
       "0  5125107510  3.67\n",
       "1  6007710200  0.23\n",
       "2  5125109210  1.00\n",
       "3  5125109300  0.23\n",
       "4  5125109510  0.00"
      ]
     },
     "execution_count": 8,
     "metadata": {},
     "output_type": "execute_result"
    }
   ],
   "source": [
    "nheco_tags = pd.read_csv('NHECO tags.csv', header = None)\n",
    "nheco_tags.columns = ['meter', 'tag']\n",
    "nheco_tags.head()"
   ]
  },
  {
   "cell_type": "code",
   "execution_count": 11,
   "metadata": {},
   "outputs": [
    {
     "data": {
      "text/html": [
       "<div>\n",
       "<style scoped>\n",
       "    .dataframe tbody tr th:only-of-type {\n",
       "        vertical-align: middle;\n",
       "    }\n",
       "\n",
       "    .dataframe tbody tr th {\n",
       "        vertical-align: top;\n",
       "    }\n",
       "\n",
       "    .dataframe thead th {\n",
       "        text-align: right;\n",
       "    }\n",
       "</style>\n",
       "<table border=\"1\" class=\"dataframe\">\n",
       "  <thead>\n",
       "    <tr style=\"text-align: right;\">\n",
       "      <th></th>\n",
       "      <th>meter</th>\n",
       "      <th>tag</th>\n",
       "    </tr>\n",
       "  </thead>\n",
       "  <tbody>\n",
       "    <tr>\n",
       "      <th>0</th>\n",
       "      <td>NEPOOL_NHECO_5125107510</td>\n",
       "      <td>3.67</td>\n",
       "    </tr>\n",
       "    <tr>\n",
       "      <th>1</th>\n",
       "      <td>NEPOOL_NHECO_6007710200</td>\n",
       "      <td>0.23</td>\n",
       "    </tr>\n",
       "    <tr>\n",
       "      <th>2</th>\n",
       "      <td>NEPOOL_NHECO_5125109210</td>\n",
       "      <td>1.00</td>\n",
       "    </tr>\n",
       "    <tr>\n",
       "      <th>3</th>\n",
       "      <td>NEPOOL_NHECO_5125109300</td>\n",
       "      <td>0.23</td>\n",
       "    </tr>\n",
       "    <tr>\n",
       "      <th>4</th>\n",
       "      <td>NEPOOL_NHECO_5125109510</td>\n",
       "      <td>0.00</td>\n",
       "    </tr>\n",
       "  </tbody>\n",
       "</table>\n",
       "</div>"
      ],
      "text/plain": [
       "                     meter   tag\n",
       "0  NEPOOL_NHECO_5125107510  3.67\n",
       "1  NEPOOL_NHECO_6007710200  0.23\n",
       "2  NEPOOL_NHECO_5125109210  1.00\n",
       "3  NEPOOL_NHECO_5125109300  0.23\n",
       "4  NEPOOL_NHECO_5125109510  0.00"
      ]
     },
     "execution_count": 11,
     "metadata": {},
     "output_type": "execute_result"
    }
   ],
   "source": [
    "n = nheco_tags.shape[0]\n",
    "fullname = ['_'.join(['NEPOOL_NHECO', str(m)]) for m in nheco_tags.meter]\n",
    "nheco_tags['meter'] = fullname\n",
    "nheco_tags.head()"
   ]
  },
  {
   "cell_type": "code",
   "execution_count": 24,
   "metadata": {},
   "outputs": [
    {
     "name": "stdout",
     "output_type": "stream",
     "text": [
      "Insert into LSPROCESS(PROCESSNAME, DESCRIPTION) VALUES ('NEPOOL_NHECO_5125107510', '3.67');\n",
      "Insert into LSPROCESS(PROCESSNAME, DESCRIPTION) VALUES ('NEPOOL_NHECO_6007710200', '0.23');\n",
      "Insert into LSPROCESS(PROCESSNAME, DESCRIPTION) VALUES ('NEPOOL_NHECO_5125109210', '1.0');\n",
      "Insert into LSPROCESS(PROCESSNAME, DESCRIPTION) VALUES ('NEPOOL_NHECO_5125109300', '0.23');\n",
      "Insert into LSPROCESS(PROCESSNAME, DESCRIPTION) VALUES ('NEPOOL_NHECO_5125109510', '0.0');\n",
      "Insert into LSPROCESS(PROCESSNAME, DESCRIPTION) VALUES ('NEPOOL_NHECO_5125110014', '30.35');\n",
      "Insert into LSPROCESS(PROCESSNAME, DESCRIPTION) VALUES ('NEPOOL_NHECO_5140104010', '1.64');\n",
      "Insert into LSPROCESS(PROCESSNAME, DESCRIPTION) VALUES ('NEPOOL_NHECO_5145177310', '0.18');\n",
      "Insert into LSPROCESS(PROCESSNAME, DESCRIPTION) VALUES ('NEPOOL_NHECO_5145179510', '4.14');\n",
      "Insert into LSPROCESS(PROCESSNAME, DESCRIPTION) VALUES ('NEPOOL_NHECO_5145180510', '5.74');\n",
      "Insert into LSPROCESS(PROCESSNAME, DESCRIPTION) VALUES ('NEPOOL_NHECO_5145181010', '0.0');\n",
      "Insert into LSPROCESS(PROCESSNAME, DESCRIPTION) VALUES ('NEPOOL_NHECO_5145181100', '0.0');\n",
      "Insert into LSPROCESS(PROCESSNAME, DESCRIPTION) VALUES ('NEPOOL_NHECO_5145182510', '23.95');\n",
      "Insert into LSPROCESS(PROCESSNAME, DESCRIPTION) VALUES ('NEPOOL_NHECO_5171233310', '0.0');\n",
      "Insert into LSPROCESS(PROCESSNAME, DESCRIPTION) VALUES ('NEPOOL_NHECO_5171233410', '0.0');\n",
      "Insert into LSPROCESS(PROCESSNAME, DESCRIPTION) VALUES ('NEPOOL_NHECO_5221159011', '0.0');\n",
      "Insert into LSPROCESS(PROCESSNAME, DESCRIPTION) VALUES ('NEPOOL_NHECO_5125109010', '3.09');\n",
      "Insert into LSPROCESS(PROCESSNAME, DESCRIPTION) VALUES ('NEPOOL_NHECO_6007660500', '0.41');\n",
      "Insert into LSPROCESS(PROCESSNAME, DESCRIPTION) VALUES ('NEPOOL_NHECO_5288330300', '1.04');\n",
      "Insert into LSPROCESS(PROCESSNAME, DESCRIPTION) VALUES ('NEPOOL_NHECO_5352158110', '0.0');\n",
      "Insert into LSPROCESS(PROCESSNAME, DESCRIPTION) VALUES ('NEPOOL_NHECO_5354310010', '0.78');\n",
      "Insert into LSPROCESS(PROCESSNAME, DESCRIPTION) VALUES ('NEPOOL_NHECO_5354361510', '0.5');\n",
      "Insert into LSPROCESS(PROCESSNAME, DESCRIPTION) VALUES ('NEPOOL_NHECO_5366315510', '0.16');\n",
      "Insert into LSPROCESS(PROCESSNAME, DESCRIPTION) VALUES ('NEPOOL_NHECO_5366316010', '0.0');\n",
      "Insert into LSPROCESS(PROCESSNAME, DESCRIPTION) VALUES ('NEPOOL_NHECO_5366316510', '0.0');\n",
      "Insert into LSPROCESS(PROCESSNAME, DESCRIPTION) VALUES ('NEPOOL_NHECO_5480101300', '0.59');\n",
      "Insert into LSPROCESS(PROCESSNAME, DESCRIPTION) VALUES ('NEPOOL_NHECO_5480180510', '1.48');\n",
      "Insert into LSPROCESS(PROCESSNAME, DESCRIPTION) VALUES ('NEPOOL_NHECO_5497131710', '0.34');\n",
      "Insert into LSPROCESS(PROCESSNAME, DESCRIPTION) VALUES ('NEPOOL_NHECO_5515251510', '0.05');\n",
      "Insert into LSPROCESS(PROCESSNAME, DESCRIPTION) VALUES ('NEPOOL_NHECO_5543149310', '0.16');\n",
      "Insert into LSPROCESS(PROCESSNAME, DESCRIPTION) VALUES ('NEPOOL_NHECO_5543166810', '1.12');\n",
      "Insert into LSPROCESS(PROCESSNAME, DESCRIPTION) VALUES ('NEPOOL_NHECO_5543171510', '42.37');\n",
      "Insert into LSPROCESS(PROCESSNAME, DESCRIPTION) VALUES ('NEPOOL_NHECO_5544101510', '1.15');\n",
      "Insert into LSPROCESS(PROCESSNAME, DESCRIPTION) VALUES ('NEPOOL_NHECO_5554133810', '0.02');\n",
      "Insert into LSPROCESS(PROCESSNAME, DESCRIPTION) VALUES ('NEPOOL_NHECO_5560210800', '6.23');\n",
      "Insert into LSPROCESS(PROCESSNAME, DESCRIPTION) VALUES ('NEPOOL_NHECO_5565200510', '0.02');\n",
      "Insert into LSPROCESS(PROCESSNAME, DESCRIPTION) VALUES ('NEPOOL_NHECO_5569160710', '0.06');\n",
      "Insert into LSPROCESS(PROCESSNAME, DESCRIPTION) VALUES ('NEPOOL_NHECO_5569164310', '0.0');\n",
      "Insert into LSPROCESS(PROCESSNAME, DESCRIPTION) VALUES ('NEPOOL_NHECO_5569164410', '0.0');\n",
      "Insert into LSPROCESS(PROCESSNAME, DESCRIPTION) VALUES ('NEPOOL_NHECO_5574104110', '0.23');\n",
      "Insert into LSPROCESS(PROCESSNAME, DESCRIPTION) VALUES ('NEPOOL_NHECO_5574104211', '0.07');\n",
      "Insert into LSPROCESS(PROCESSNAME, DESCRIPTION) VALUES ('NEPOOL_NHECO_5574104410', '0.15');\n",
      "Insert into LSPROCESS(PROCESSNAME, DESCRIPTION) VALUES ('NEPOOL_NHECO_5574160510', '0.31');\n",
      "Insert into LSPROCESS(PROCESSNAME, DESCRIPTION) VALUES ('NEPOOL_NHECO_5574161510', '19.1');\n",
      "Insert into LSPROCESS(PROCESSNAME, DESCRIPTION) VALUES ('NEPOOL_NHECO_5579103800', '1.0');\n",
      "Insert into LSPROCESS(PROCESSNAME, DESCRIPTION) VALUES ('NEPOOL_NHECO_5584101512', '1.74');\n",
      "Insert into LSPROCESS(PROCESSNAME, DESCRIPTION) VALUES ('NEPOOL_NHECO_5584120510', '5.7');\n",
      "Insert into LSPROCESS(PROCESSNAME, DESCRIPTION) VALUES ('NEPOOL_NHECO_5584174200', '0.2');\n",
      "Insert into LSPROCESS(PROCESSNAME, DESCRIPTION) VALUES ('NEPOOL_NHECO_6000380100', '4.8');\n",
      "Insert into LSPROCESS(PROCESSNAME, DESCRIPTION) VALUES ('NEPOOL_NHECO_6000423900', '4.15');\n",
      "Insert into LSPROCESS(PROCESSNAME, DESCRIPTION) VALUES ('NEPOOL_NHECO_6000721001', '0.02');\n",
      "Insert into LSPROCESS(PROCESSNAME, DESCRIPTION) VALUES ('NEPOOL_NHECO_6000725001', '0.08');\n",
      "Insert into LSPROCESS(PROCESSNAME, DESCRIPTION) VALUES ('NEPOOL_NHECO_6000739600', '8.4');\n",
      "Insert into LSPROCESS(PROCESSNAME, DESCRIPTION) VALUES ('NEPOOL_NHECO_6001258700', '2.55');\n",
      "Insert into LSPROCESS(PROCESSNAME, DESCRIPTION) VALUES ('NEPOOL_NHECO_6001313100', '2.78');\n",
      "Insert into LSPROCESS(PROCESSNAME, DESCRIPTION) VALUES ('NEPOOL_NHECO_6002927700', '0.35');\n",
      "Insert into LSPROCESS(PROCESSNAME, DESCRIPTION) VALUES ('NEPOOL_NHECO_6006806600', '0.37');\n",
      "Insert into LSPROCESS(PROCESSNAME, DESCRIPTION) VALUES ('NEPOOL_NHECO_6006958000', '0.33');\n",
      "Insert into LSPROCESS(PROCESSNAME, DESCRIPTION) VALUES ('NEPOOL_NHECO_6007428000', '0.25');\n",
      "Insert into LSPROCESS(PROCESSNAME, DESCRIPTION) VALUES ('NEPOOL_NHECO_6007616000', '6.2');\n"
     ]
    }
   ],
   "source": [
    "for i in range(0, n):\n",
    "    sql_query = \"\".join([\"Insert into LSPROCESS(PROCESSNAME, DESCRIPTION) VALUES ('\", nheco_tags.meter[i], \"', '\", str(nheco_tags.tag[i]), \"');\"])\n",
    "    print(sql_query)"
   ]
  },
  {
   "cell_type": "code",
   "execution_count": 23,
   "metadata": {},
   "outputs": [
    {
     "data": {
      "text/plain": [
       "\"Insert into LSPROCESS(PROCESSNAME, DESCRIPTION) VALUES ('NEPOOL_NHECO_6007616000', '6.2');\""
      ]
     },
     "execution_count": 23,
     "metadata": {},
     "output_type": "execute_result"
    }
   ],
   "source": [
    "sql_query"
   ]
  },
  {
   "cell_type": "code",
   "execution_count": null,
   "metadata": {},
   "outputs": [],
   "source": []
  }
 ],
 "metadata": {
  "kernelspec": {
   "display_name": "Python 3",
   "language": "python",
   "name": "python3"
  },
  "language_info": {
   "codemirror_mode": {
    "name": "ipython",
    "version": 3
   },
   "file_extension": ".py",
   "mimetype": "text/x-python",
   "name": "python",
   "nbconvert_exporter": "python",
   "pygments_lexer": "ipython3",
   "version": "3.7.3"
  }
 },
 "nbformat": 4,
 "nbformat_minor": 2
}
