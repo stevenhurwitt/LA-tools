{
 "cells": [
  {
   "cell_type": "markdown",
   "metadata": {},
   "source": [
    "# EWX API Test"
   ]
  },
  {
   "cell_type": "markdown",
   "metadata": {},
   "source": [
    "                                ''' EWX API test '''\n",
    "                '''notebook to show how to make requests to EWX api'''\n",
    "    '''inputs: bearer token (from EWX console/API docs/try out/execute/response)'''\n",
    "    '''ouputs: curl wrapper to make API req to EWX, given bearer token (and url)'''\n",
    "                           '''returns .json of results'''"
   ]
  },
  {
   "cell_type": "markdown",
   "metadata": {},
   "source": [
    "## import modules"
   ]
  },
  {
   "cell_type": "code",
   "execution_count": 50,
   "metadata": {
    "ExecuteTime": {
     "end_time": "2019-07-25T14:37:07.877958Z",
     "start_time": "2019-07-25T14:37:06.006968Z"
    }
   },
   "outputs": [],
   "source": [
    "import os\n",
    "import time\n",
    "import math\n",
    "import json\n",
    "import pickle\n",
    "import requests\n",
    "import pandas as pd\n",
    "import numpy as np\n",
    "import pprint\n",
    "import datetime as dt\n",
    "\n",
    "from IPython.display import display\n",
    "import matplotlib.pyplot as plt\n",
    "import matplotlib.dates as mdates\n",
    "%matplotlib inline\n",
    "pp = pprint.PrettyPrinter(indent = 1)\n",
    "requests.packages.urllib3.disable_warnings()\n",
    "\n",
    "base = os.getcwd()"
   ]
  },
  {
   "cell_type": "markdown",
   "metadata": {},
   "source": [
    "# requests Module"
   ]
  },
  {
   "cell_type": "markdown",
   "metadata": {},
   "source": [
    "need bearer token from running API command in EWX console (expires after 100s)"
   ]
  },
  {
   "cell_type": "code",
   "execution_count": 51,
   "metadata": {
    "ExecuteTime": {
     "end_time": "2019-07-25T14:37:54.540137Z",
     "start_time": "2019-07-25T14:37:54.528420Z"
    }
   },
   "outputs": [
    {
     "name": "stdout",
     "output_type": "stream",
     "text": [
      "authenticating with Bearer ya29.GlxQB825JWOQYNTECogq9pH0vJMtyQybxZ7_zwOTr_-PybJ7lM5P5gPHJhYfL6_6tR9x6Mbc5uVqdEoSTWwXYFXhtihc0Z6fCoPWao57j0olF9Rjhj-fvoMU-jHahA.\n"
     ]
    }
   ],
   "source": [
    "bearer = 'ya29.GlxQB825JWOQYNTECogq9pH0vJMtyQybxZ7_zwOTr_-PybJ7lM5P5gPHJhYfL6_6tR9x6Mbc5uVqdEoSTWwXYFXhtihc0Z6fCoPWao57j0olF9Rjhj-fvoMU-jHahA'\n",
    "bearer_auth = ''.join(['Bearer ', bearer])\n",
    "\n",
    "print('authenticating with {}.'.format(bearer_auth))"
   ]
  },
  {
   "cell_type": "markdown",
   "metadata": {},
   "source": [
    "## Make curl request to send API"
   ]
  },
  {
   "cell_type": "markdown",
   "metadata": {},
   "source": [
    "## header of get request"
   ]
  },
  {
   "cell_type": "markdown",
   "metadata": {},
   "source": [
    "    what url does the request GET from? hint: look at EWX API docs..."
   ]
  },
  {
   "cell_type": "markdown",
   "metadata": {},
   "source": [
    "    {'Authorization': 'Bearer '\n",
    "                          'ya29.GlxQB825JWOQYNTECogq9pH0vJMtyQybxZ7_zwOTr_-PybJ7lM5P5gPHJhYfL6_6tR9x6Mbc5uVqdEoSTWwXYFXhtihc0Z6fCoPWao57j0olF9Rjhj-fvoMU-jHahA',\n",
    "     'GET': 'https://api.cloud.energyworx.com/_ah/api/ewx/v1/user/get',\n",
    "     'X-NAMESPACE': 'na.engie.com',\n",
    "     'accept': 'application/json'}"
   ]
  },
  {
   "cell_type": "code",
   "execution_count": 53,
   "metadata": {
    "ExecuteTime": {
     "end_time": "2019-07-25T14:38:13.718914Z",
     "start_time": "2019-07-25T14:38:13.686585Z"
    }
   },
   "outputs": [],
   "source": [
    "auth = (\"Authorization\", bearer_auth)\n",
    "ns = (\"X-NAMESPACE\", \"na.engie.com\")\n",
    "api_req = (\"GET\", \"https://api.cloud.energyworx.com/_ah/api/ewx/v1/user/get\")\n",
    "resp = (\"accept\", \"application/json\")"
   ]
  },
  {
   "cell_type": "markdown",
   "metadata": {},
   "source": [
    "## Get refresh token for user"
   ]
  },
  {
   "cell_type": "code",
   "execution_count": 55,
   "metadata": {
    "ExecuteTime": {
     "end_time": "2019-07-25T14:38:32.401447Z",
     "start_time": "2019-07-25T14:38:32.393964Z"
    }
   },
   "outputs": [],
   "source": [
    "def get_user_token(bearer):\n",
    "    header = {'Authorization':bearer, 'X-NAMESPACE':'na.engie.com', 'accept':'application/json'}\n",
    "\n",
    "    user = 'https://api.cloud.energyworx.com/_ah/api/ewx/v1/user/get'\n",
    "\n",
    "    user_info = requests.get(user, headers = header, verify = False).json()\n",
    "    refresh_token = user_info['refreshToken']\n",
    "    return(refresh_token)"
   ]
  },
  {
   "cell_type": "code",
   "execution_count": 56,
   "metadata": {
    "ExecuteTime": {
     "end_time": "2019-07-25T14:38:34.594979Z",
     "start_time": "2019-07-25T14:38:33.670598Z"
    }
   },
   "outputs": [
    {
     "name": "stdout",
     "output_type": "stream",
     "text": [
      "refresh token is 1/7xPGFuXNRaRjWCFyYHRHdzrdaJuRXHB4R4TRvdnjPEg\n"
     ]
    }
   ],
   "source": [
    "refresh = get_user_token(bearer_auth)\n",
    "print('refresh token is {}'.format(refresh))"
   ]
  },
  {
   "cell_type": "markdown",
   "metadata": {},
   "source": [
    "## update_refresh()"
   ]
  },
  {
   "cell_type": "markdown",
   "metadata": {},
   "source": [
    "need to update bearer token after expire given refresh, this gets EWX refresh"
   ]
  },
  {
   "cell_type": "code",
   "execution_count": 45,
   "metadata": {
    "ExecuteTime": {
     "end_time": "2019-07-24T21:36:49.677649Z",
     "start_time": "2019-07-24T21:36:49.672052Z"
    }
   },
   "outputs": [],
   "source": [
    "#update = 'api.cloud.energyworx.com/_ah/api'\n",
    "#h = {'grant_type': 'refresh_token', }\n",
    "#print('user refresh token {}.'.format(user_info['refreshToken']))\n",
    "#return(refresh_token)"
   ]
  },
  {
   "cell_type": "markdown",
   "metadata": {},
   "source": [
    "## get_release_hist()"
   ]
  },
  {
   "cell_type": "code",
   "execution_count": 36,
   "metadata": {
    "ExecuteTime": {
     "end_time": "2019-07-25T14:39:10.328351Z",
     "start_time": "2019-07-25T14:39:10.314399Z"
    }
   },
   "outputs": [],
   "source": [
    "def get_release_hist(bearer_auth):\n",
    "    header = {'Authorization':bearer_auth, 'X-NAMESPACE':'na.engie.com', 'accept':'application/json'}\n",
    "\n",
    "    user = 'https://api.cloud.energyworx.com/_ah/api/ewx/v1/system/version/release/history'\n",
    "\n",
    "    payload = requests.get(user, headers = header, verify = False).json()\n",
    "\n",
    "    try:\n",
    "        pgtoken = payload['pageToken']\n",
    "    except:\n",
    "        pgtoken = None\n",
    "        \n",
    "    releases = payload['releases']\n",
    "    \n",
    "    release_df = pd.DataFrame(releases)\n",
    "    return(pgtoken, release_df)"
   ]
  },
  {
   "cell_type": "code",
   "execution_count": 37,
   "metadata": {
    "ExecuteTime": {
     "end_time": "2019-07-25T14:39:12.411999Z",
     "start_time": "2019-07-25T14:39:11.521944Z"
    }
   },
   "outputs": [],
   "source": [
    "pg, release = get_release_hist(bearer_auth)"
   ]
  },
  {
   "cell_type": "code",
   "execution_count": 38,
   "metadata": {
    "ExecuteTime": {
     "end_time": "2019-07-25T14:39:12.593164Z",
     "start_time": "2019-07-25T14:39:12.552815Z"
    }
   },
   "outputs": [
    {
     "data": {
      "text/html": [
       "<div>\n",
       "<style scoped>\n",
       "    .dataframe tbody tr th:only-of-type {\n",
       "        vertical-align: middle;\n",
       "    }\n",
       "\n",
       "    .dataframe tbody tr th {\n",
       "        vertical-align: top;\n",
       "    }\n",
       "\n",
       "    .dataframe thead th {\n",
       "        text-align: right;\n",
       "    }\n",
       "</style>\n",
       "<table border=\"1\" class=\"dataframe\">\n",
       "  <thead>\n",
       "    <tr style=\"text-align: right;\">\n",
       "      <th></th>\n",
       "      <th>id</th>\n",
       "      <th>items</th>\n",
       "      <th>releasedDatetime</th>\n",
       "      <th>version</th>\n",
       "    </tr>\n",
       "  </thead>\n",
       "  <tbody>\n",
       "    <tr>\n",
       "      <th>0</th>\n",
       "      <td>v20190724-r0</td>\n",
       "      <td>[{'item': 'feature', 'summary': 'Merged in rel...</td>\n",
       "      <td>2019-07-24T23:10:50.000000</td>\n",
       "      <td>v20190724-r0</td>\n",
       "    </tr>\n",
       "    <tr>\n",
       "      <th>1</th>\n",
       "      <td>v20190719-r6</td>\n",
       "      <td>[{'item': 'fix', 'summary': 'Merged in hotfix/...</td>\n",
       "      <td>2019-07-24T18:01:03.000000</td>\n",
       "      <td>v20190719-r6</td>\n",
       "    </tr>\n",
       "    <tr>\n",
       "      <th>2</th>\n",
       "      <td>v20190719-r5</td>\n",
       "      <td>[{'item': 'fix', 'summary': 'Merged in hotfix/...</td>\n",
       "      <td>2019-07-23T23:17:13.000000</td>\n",
       "      <td>v20190719-r5</td>\n",
       "    </tr>\n",
       "    <tr>\n",
       "      <th>3</th>\n",
       "      <td>v20190719-r4</td>\n",
       "      <td>[{'item': 'fix', 'summary': 'Merged in hotfix/...</td>\n",
       "      <td>2019-07-22T19:39:37.000000</td>\n",
       "      <td>v20190719-r4</td>\n",
       "    </tr>\n",
       "    <tr>\n",
       "      <th>4</th>\n",
       "      <td>v20190719-r3</td>\n",
       "      <td>[{'item': 'fix', 'summary': 'Merged in hotfix/...</td>\n",
       "      <td>2019-07-22T14:22:21.000000</td>\n",
       "      <td>v20190719-r3</td>\n",
       "    </tr>\n",
       "  </tbody>\n",
       "</table>\n",
       "</div>"
      ],
      "text/plain": [
       "             id                                              items  \\\n",
       "0  v20190724-r0  [{'item': 'feature', 'summary': 'Merged in rel...   \n",
       "1  v20190719-r6  [{'item': 'fix', 'summary': 'Merged in hotfix/...   \n",
       "2  v20190719-r5  [{'item': 'fix', 'summary': 'Merged in hotfix/...   \n",
       "3  v20190719-r4  [{'item': 'fix', 'summary': 'Merged in hotfix/...   \n",
       "4  v20190719-r3  [{'item': 'fix', 'summary': 'Merged in hotfix/...   \n",
       "\n",
       "             releasedDatetime       version  \n",
       "0  2019-07-24T23:10:50.000000  v20190724-r0  \n",
       "1  2019-07-24T18:01:03.000000  v20190719-r6  \n",
       "2  2019-07-23T23:17:13.000000  v20190719-r5  \n",
       "3  2019-07-22T19:39:37.000000  v20190719-r4  \n",
       "4  2019-07-22T14:22:21.000000  v20190719-r3  "
      ]
     },
     "execution_count": 38,
     "metadata": {},
     "output_type": "execute_result"
    }
   ],
   "source": [
    "release.head()"
   ]
  },
  {
   "cell_type": "code",
   "execution_count": 39,
   "metadata": {
    "ExecuteTime": {
     "end_time": "2019-07-24T21:33:12.257123Z",
     "start_time": "2019-07-24T21:33:12.228142Z"
    }
   },
   "outputs": [
    {
     "data": {
      "text/html": [
       "<div>\n",
       "<style scoped>\n",
       "    .dataframe tbody tr th:only-of-type {\n",
       "        vertical-align: middle;\n",
       "    }\n",
       "\n",
       "    .dataframe tbody tr th {\n",
       "        vertical-align: top;\n",
       "    }\n",
       "\n",
       "    .dataframe thead th {\n",
       "        text-align: right;\n",
       "    }\n",
       "</style>\n",
       "<table border=\"1\" class=\"dataframe\">\n",
       "  <thead>\n",
       "    <tr style=\"text-align: right;\">\n",
       "      <th></th>\n",
       "      <th>id</th>\n",
       "      <th>items</th>\n",
       "      <th>releasedDatetime</th>\n",
       "      <th>version</th>\n",
       "    </tr>\n",
       "  </thead>\n",
       "  <tbody>\n",
       "    <tr>\n",
       "      <th>15</th>\n",
       "      <td>v20190626-r1</td>\n",
       "      <td>[{'item': 'fix', 'summary': 'Merged in hotfix/...</td>\n",
       "      <td>2019-06-27T20:34:33.000000</td>\n",
       "      <td>v20190626-r1</td>\n",
       "    </tr>\n",
       "    <tr>\n",
       "      <th>16</th>\n",
       "      <td>v20190626-r0</td>\n",
       "      <td>[{'item': 'feature', 'summary': 'Merged in rel...</td>\n",
       "      <td>2019-06-27T09:33:57.000000</td>\n",
       "      <td>v20190626-r0</td>\n",
       "    </tr>\n",
       "    <tr>\n",
       "      <th>17</th>\n",
       "      <td>v20190624-r0</td>\n",
       "      <td>[{'item': 'feature', 'summary': 'Merged in rel...</td>\n",
       "      <td>2019-06-25T03:50:37.000000</td>\n",
       "      <td>v20190624-r0</td>\n",
       "    </tr>\n",
       "    <tr>\n",
       "      <th>18</th>\n",
       "      <td>v20190623-r2</td>\n",
       "      <td>[{'item': 'fix', 'summary': 'Merged in hotfix/...</td>\n",
       "      <td>2019-06-24T20:50:10.000000</td>\n",
       "      <td>v20190623-r2</td>\n",
       "    </tr>\n",
       "    <tr>\n",
       "      <th>19</th>\n",
       "      <td>v20190623-r1</td>\n",
       "      <td>[{'item': 'fix', 'summary': 'Merged in hotfix/...</td>\n",
       "      <td>2019-06-24T17:32:18.000000</td>\n",
       "      <td>v20190623-r1</td>\n",
       "    </tr>\n",
       "  </tbody>\n",
       "</table>\n",
       "</div>"
      ],
      "text/plain": [
       "              id                                              items  \\\n",
       "15  v20190626-r1  [{'item': 'fix', 'summary': 'Merged in hotfix/...   \n",
       "16  v20190626-r0  [{'item': 'feature', 'summary': 'Merged in rel...   \n",
       "17  v20190624-r0  [{'item': 'feature', 'summary': 'Merged in rel...   \n",
       "18  v20190623-r2  [{'item': 'fix', 'summary': 'Merged in hotfix/...   \n",
       "19  v20190623-r1  [{'item': 'fix', 'summary': 'Merged in hotfix/...   \n",
       "\n",
       "              releasedDatetime       version  \n",
       "15  2019-06-27T20:34:33.000000  v20190626-r1  \n",
       "16  2019-06-27T09:33:57.000000  v20190626-r0  \n",
       "17  2019-06-25T03:50:37.000000  v20190624-r0  \n",
       "18  2019-06-24T20:50:10.000000  v20190623-r2  \n",
       "19  2019-06-24T17:32:18.000000  v20190623-r1  "
      ]
     },
     "execution_count": 39,
     "metadata": {},
     "output_type": "execute_result"
    }
   ],
   "source": [
    "release.tail()"
   ]
  },
  {
   "cell_type": "markdown",
   "metadata": {},
   "source": [
    "## Turn items to dataframe"
   ]
  },
  {
   "cell_type": "code",
   "execution_count": 40,
   "metadata": {
    "ExecuteTime": {
     "end_time": "2019-07-25T14:39:27.914321Z",
     "start_time": "2019-07-25T14:39:27.891954Z"
    }
   },
   "outputs": [],
   "source": [
    "items = []\n",
    "\n",
    "for index, item in enumerate(release['items']):\n",
    "    item_df = pd.DataFrame(item)\n",
    "    items.append(item_df)"
   ]
  },
  {
   "cell_type": "code",
   "execution_count": 41,
   "metadata": {
    "ExecuteTime": {
     "end_time": "2019-07-25T14:39:28.751589Z",
     "start_time": "2019-07-25T14:39:28.723539Z"
    }
   },
   "outputs": [
    {
     "data": {
      "text/html": [
       "<div>\n",
       "<style scoped>\n",
       "    .dataframe tbody tr th:only-of-type {\n",
       "        vertical-align: middle;\n",
       "    }\n",
       "\n",
       "    .dataframe tbody tr th {\n",
       "        vertical-align: top;\n",
       "    }\n",
       "\n",
       "    .dataframe thead th {\n",
       "        text-align: right;\n",
       "    }\n",
       "</style>\n",
       "<table border=\"1\" class=\"dataframe\">\n",
       "  <thead>\n",
       "    <tr style=\"text-align: right;\">\n",
       "      <th></th>\n",
       "      <th>item</th>\n",
       "      <th>summary</th>\n",
       "    </tr>\n",
       "  </thead>\n",
       "  <tbody>\n",
       "    <tr>\n",
       "      <th>0</th>\n",
       "      <td>feature</td>\n",
       "      <td>Merged in release/v20190724-r0 (pull request #...</td>\n",
       "    </tr>\n",
       "    <tr>\n",
       "      <th>1</th>\n",
       "      <td>feature</td>\n",
       "      <td>Merged in feature/one_to_n (pull request #1549)</td>\n",
       "    </tr>\n",
       "    <tr>\n",
       "      <th>2</th>\n",
       "      <td>feature</td>\n",
       "      <td>Merged in feature/setup_namespace (pull reques...</td>\n",
       "    </tr>\n",
       "    <tr>\n",
       "      <th>3</th>\n",
       "      <td>fix</td>\n",
       "      <td>Merged in feature/fix-bulk-issue (pull request...</td>\n",
       "    </tr>\n",
       "    <tr>\n",
       "      <th>4</th>\n",
       "      <td>fix</td>\n",
       "      <td>Merged in feature/telemetered-consumption-fixe...</td>\n",
       "    </tr>\n",
       "    <tr>\n",
       "      <th>5</th>\n",
       "      <td>feature</td>\n",
       "      <td>Merged in feature/market-adapter-excel (pull r...</td>\n",
       "    </tr>\n",
       "    <tr>\n",
       "      <th>6</th>\n",
       "      <td>feature</td>\n",
       "      <td>Merged in feature/transform-enhancement (pull ...</td>\n",
       "    </tr>\n",
       "    <tr>\n",
       "      <th>7</th>\n",
       "      <td>feature</td>\n",
       "      <td>Merged in feature/market-adapter-switching (pu...</td>\n",
       "    </tr>\n",
       "    <tr>\n",
       "      <th>8</th>\n",
       "      <td>fix</td>\n",
       "      <td>Merged in feature/market-adapter-fixed-width (...</td>\n",
       "    </tr>\n",
       "    <tr>\n",
       "      <th>9</th>\n",
       "      <td>fix</td>\n",
       "      <td>[FIXED] bulk meter payload with 1000 meters</td>\n",
       "    </tr>\n",
       "    <tr>\n",
       "      <th>10</th>\n",
       "      <td>comment</td>\n",
       "      <td>Added Audit Events to Transform</td>\n",
       "    </tr>\n",
       "    <tr>\n",
       "      <th>11</th>\n",
       "      <td>fix</td>\n",
       "      <td>Added fixed width market adapter</td>\n",
       "    </tr>\n",
       "    <tr>\n",
       "      <th>12</th>\n",
       "      <td>comment</td>\n",
       "      <td>Support for delayed virtual datasource trigger...</td>\n",
       "    </tr>\n",
       "  </tbody>\n",
       "</table>\n",
       "</div>"
      ],
      "text/plain": [
       "       item                                            summary\n",
       "0   feature  Merged in release/v20190724-r0 (pull request #...\n",
       "1   feature    Merged in feature/one_to_n (pull request #1549)\n",
       "2   feature  Merged in feature/setup_namespace (pull reques...\n",
       "3       fix  Merged in feature/fix-bulk-issue (pull request...\n",
       "4       fix  Merged in feature/telemetered-consumption-fixe...\n",
       "5   feature  Merged in feature/market-adapter-excel (pull r...\n",
       "6   feature  Merged in feature/transform-enhancement (pull ...\n",
       "7   feature  Merged in feature/market-adapter-switching (pu...\n",
       "8       fix  Merged in feature/market-adapter-fixed-width (...\n",
       "9       fix        [FIXED] bulk meter payload with 1000 meters\n",
       "10  comment                    Added Audit Events to Transform\n",
       "11      fix                   Added fixed width market adapter\n",
       "12  comment  Support for delayed virtual datasource trigger..."
      ]
     },
     "execution_count": 41,
     "metadata": {},
     "output_type": "execute_result"
    }
   ],
   "source": [
    "items[0]"
   ]
  },
  {
   "cell_type": "markdown",
   "metadata": {},
   "source": [
    "## Pandas Excel writer"
   ]
  },
  {
   "cell_type": "markdown",
   "metadata": {},
   "source": [
    "Use pandas to write dataframe to xlsx sheet."
   ]
  },
  {
   "cell_type": "markdown",
   "metadata": {},
   "source": [
    "### Sample"
   ]
  },
  {
   "cell_type": "markdown",
   "metadata": {},
   "source": [
    "    df1 = pd.DataFrame([['a', 'b'], ['c', 'd']],\n",
    "                       index=['row 1', 'row 2'],\n",
    "                       columns=['col 1', 'col 2'])\n",
    "\n",
    "    df1.to_excel(\"output.xlsx\")  # doctest: +SKIP\n",
    "\n",
    "    df1.to_excel(\"output.xlsx\", sheet_name='Sheet_name_1')  # doctest: +SKIP\n",
    "\n",
    "    df2 = df1.copy()\n",
    "    with pd.ExcelWriter('output.xlsx') as writer:  # doctest: +SKIP\n",
    "        df1.to_excel(writer, sheet_name='Sheet_name_1')\n",
    "        df2.to_excel(writer, sheet_name='Sheet_name_2')"
   ]
  },
  {
   "cell_type": "markdown",
   "metadata": {},
   "source": [
    "    #want main release df to be xlsx spreadsheet\n",
    "    #with all items cells as their own sheet from each items df"
   ]
  },
  {
   "cell_type": "code",
   "execution_count": 43,
   "metadata": {
    "ExecuteTime": {
     "end_time": "2019-07-25T14:46:45.052675Z",
     "start_time": "2019-07-25T14:46:45.019687Z"
    }
   },
   "outputs": [
    {
     "name": "stdout",
     "output_type": "stream",
     "text": [
      "release df of shape: (20, 4).\n",
      "items list len: 20.\n"
     ]
    }
   ],
   "source": [
    "release.head()\n",
    "print('release df of shape: {}.'.format(release.shape))\n",
    "print('items list len: {}.'.format(len(items)))"
   ]
  },
  {
   "cell_type": "code",
   "execution_count": 49,
   "metadata": {
    "ExecuteTime": {
     "end_time": "2019-07-25T14:49:22.284920Z",
     "start_time": "2019-07-25T14:49:22.237316Z"
    }
   },
   "outputs": [],
   "source": [
    "with pd.ExcelWriter('ewx-release-hist.xlsx') as w:\n",
    "    release.to_excel(w, sheet_name = 'release_hist')\n",
    "    name = [str(a) for a in release.id]\n",
    "    \n",
    "    for index, item in enumerate(items):\n",
    "        item.to_excel(w, sheet_name = str(name[index]))"
   ]
  }
 ],
 "metadata": {
  "hide_input": false,
  "kernelspec": {
   "display_name": "Python 3",
   "language": "python",
   "name": "python3"
  },
  "language_info": {
   "codemirror_mode": {
    "name": "ipython",
    "version": 3
   },
   "file_extension": ".py",
   "mimetype": "text/x-python",
   "name": "python",
   "nbconvert_exporter": "python",
   "pygments_lexer": "ipython3",
   "version": "3.7.3"
  },
  "readonly": false,
  "user_home": "namespace-na_engie_com/stevenhurwitt"
 },
 "nbformat": 4,
 "nbformat_minor": 2
}
