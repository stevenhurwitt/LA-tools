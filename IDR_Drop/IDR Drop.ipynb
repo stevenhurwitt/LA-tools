{
 "cells": [
  {
   "cell_type": "markdown",
   "metadata": {},
   "source": [
    "# NEPOOL IDR Drop"
   ]
  },
  {
   "cell_type": "markdown",
   "metadata": {},
   "source": [
    "Implements class to batch tasks used for IDR drops."
   ]
  },
  {
   "cell_type": "code",
   "execution_count": 1,
   "metadata": {},
   "outputs": [],
   "source": [
    "from bs4 import BeautifulSoup\n",
    "import pandas as pd\n",
    "import numpy as np\n",
    "import IDRdrop\n",
    "import EPOwebscrape\n",
    "import json\n",
    "import os"
   ]
  },
  {
   "cell_type": "code",
   "execution_count": null,
   "metadata": {},
   "outputs": [],
   "source": [
    "with open('bodies.json', 'r') as f:\n",
    "    bodies = json.load(f)\n",
    "\n",
    "bodies = json.loads(bodies)\n",
    "\n",
    "#print(bodies.keys())\n",
    "for item in bodies.values():\n",
    "    print(item['accts'])"
   ]
  },
  {
   "cell_type": "code",
   "execution_count": null,
   "metadata": {},
   "outputs": [],
   "source": [
    "'SUEZ' in 'SUEZ_HIST'"
   ]
  },
  {
   "cell_type": "markdown",
   "metadata": {},
   "source": [
    "## Download files from EPO portal"
   ]
  },
  {
   "cell_type": "code",
   "execution_count": null,
   "metadata": {},
   "outputs": [],
   "source": [
    "#browser, url = logon('somer-nengie', 'rb4171', False)\n",
    "\n",
    "browser, url = EPOwebscrape.logon('SUEZ_HIST', '3824', True)\n",
    "\n",
    "accts_to_find = ['0040677012', '0021483009']\n",
    "#accts_to_find = ['0040677012', '0021483009', '0067880031', '0074816023'] #enter accts as list\n",
    "#accts_to_find = ['28905980018', '26121881010']\n",
    "AIDs = []\n",
    "\n",
    "soup = BeautifulSoup(browser.page_source)\n",
    "table = soup.find('tbody', {'role' : 'rowgroup'})\n",
    "\n",
    "#get EPO AID value for every account\n",
    "for accts in accts_to_find:\n",
    "    results = EPOwebscrape.big_match(accts, table)\n",
    "    AIDs.append(results)\n",
    "\n",
    "#make list of AIDs, split into list of lists of 5\n",
    "final = []\n",
    "AIDs\n",
    "\n",
    "for aid_list in AIDs:\n",
    "    for aid in aid_list:\n",
    "        final.append(aid)\n",
    "\n",
    "n = 5\n",
    "final2 = [final[i * n:(i + 1) * n] for i in range((len(final) + n - 1) // n )]  \n",
    "final2\n",
    "\n",
    "for elem in final2:\n",
    "    EPOwebscrape.export_data(elem, browser)\n"
   ]
  },
  {
   "cell_type": "markdown",
   "metadata": {},
   "source": [
    "## Show downloaded files from EPO portal"
   ]
  },
  {
   "cell_type": "markdown",
   "metadata": {},
   "source": [
    "Here *filepath* is a directory containing downloaded EPO files. Code will print 20 most recent files."
   ]
  },
  {
   "cell_type": "code",
   "execution_count": 2,
   "metadata": {},
   "outputs": [
    {
     "name": "stdout",
     "output_type": "stream",
     "text": [
      "files found in dir:  C:\\Users\\wb5888\\Downloads\n",
      "                                                files                time\n",
      "0   eversource_7e777ce1-9776-465e-9736-61dbc3081a0... 2019-07-10 16:01:35\n",
      "1   eversource_7e777ce1-9776-465e-9736-61dbc3081a0... 2019-07-10 16:00:36\n",
      "2   eversource_7e777ce1-9776-465e-9736-61dbc3081a0... 2019-07-10 16:00:05\n",
      "3   eversource_7e777ce1-9776-465e-9736-61dbc3081a0... 2019-07-10 15:59:38\n",
      "4   eversource_7e777ce1-9776-465e-9736-61dbc3081a0... 2019-07-10 15:59:01\n",
      "5                           GSOutput1562769566369.xls 2019-07-10 09:40:07\n",
      "6                           GSOutput1562768641268.xls 2019-07-10 09:24:41\n",
      "7   eversource_0844bdac-9733-4c80-b654-f7f7a0d08e9... 2019-07-10 07:19:54\n",
      "8                                     output (24).csv 2019-07-09 14:28:01\n",
      "9                     IntervalData_07092019140534.csv 2019-07-09 14:05:38\n",
      "10                    IntervalData_07092019140434.csv 2019-07-09 14:04:40\n",
      "11                                       1-HE0QHI.csv 2019-07-09 11:28:30\n",
      "12                    IntervalData_07092019104047.csv 2019-07-09 10:40:57\n",
      "13                                          putty.exe 2019-07-09 09:40:06\n",
      "14                     putty-64bit-0.71-installer.msi 2019-07-09 09:39:31\n",
      "15  eversource_e549f5ad-ccee-45f4-84ea-cf504f5c1f0... 2019-07-09 09:22:52\n",
      "16                         LA Daily Queue Report.pbix 2019-07-08 16:26:57\n",
      "17  eversource_3b6bb95f-54b2-4685-ae51-fb02255d2bd... 2019-07-08 14:43:55\n",
      "18                              energies-11-01636.pdf 2019-07-08 12:08:10\n",
      "19                                    output (23).csv 2019-07-08 11:07:09\n"
     ]
    }
   ],
   "source": [
    "#filepath = os.getcwd()\n",
    "readpath = 'C:\\\\Users\\\\wb5888\\\\Downloads'\n",
    "\n",
    "myfiles = IDRdrop.show_dir(readpath, 20)\n",
    "print(myfiles)"
   ]
  },
  {
   "cell_type": "markdown",
   "metadata": {},
   "source": [
    "Choose files to split into Raw IDR files."
   ]
  },
  {
   "cell_type": "code",
   "execution_count": 3,
   "metadata": {},
   "outputs": [
    {
     "name": "stdout",
     "output_type": "stream",
     "text": [
      "files to split: \n",
      "['eversource_7e777ce1-9776-465e-9736-61dbc3081a01_b1cc046e_hourlycsv.csv', 'eversource_7e777ce1-9776-465e-9736-61dbc3081a01_87615b5f_hourlycsv.csv', 'eversource_7e777ce1-9776-465e-9736-61dbc3081a01_6705bbdf_hourlycsv.csv', 'eversource_7e777ce1-9776-465e-9736-61dbc3081a01_571dd00b_hourlycsv.csv', 'eversource_7e777ce1-9776-465e-9736-61dbc3081a01_0f70204b_hourlycsv.csv']\n"
     ]
    }
   ],
   "source": [
    "index = [0]\n",
    "\n",
    "splitfiles = list(myfiles.files[:5])\n",
    "print('files to split: ')\n",
    "print(splitfiles)"
   ]
  },
  {
   "cell_type": "markdown",
   "metadata": {},
   "source": [
    "## Batch process downloaded EPO files into Raw IDRs"
   ]
  },
  {
   "cell_type": "code",
   "execution_count": 4,
   "metadata": {},
   "outputs": [
    {
     "name": "stdout",
     "output_type": "stream",
     "text": [
      "found 5 accounts.\n",
      "51331507038_439741008_CLP_IDR_RAW.csv\n",
      "51331507038_439741008_CLP_IDR_RAW.csv  written.\n",
      "51420407082_632372002_CLP_IDR_RAW.csv\n",
      "51420407082_632372002_CLP_IDR_RAW.csv  written.\n",
      "51448807016_441952002_CLP_IDR_RAW.csv\n",
      "51448807016_441952002_CLP_IDR_RAW.csv  written.\n",
      "51531117042_996871006_CLP_IDR_RAW.csv\n",
      "51531117042_996871006_CLP_IDR_RAW.csv  written.\n",
      "51751507047_713181005_CLP_IDR_RAW.csv\n",
      "51751507047_713181005_CLP_IDR_RAW.csv  written.\n",
      "success, file:  eversource_7e777ce1-9776-465e-9736-61dbc3081a01_b1cc046e_hourlycsv.csv\n",
      "found 5 accounts.\n",
      "51246307060_586462002_CLP_IDR_RAW.csv\n",
      "51246307060_586462002_CLP_IDR_RAW.csv  written.\n",
      "51619507072_026512007_CLP_IDR_RAW.csv\n",
      "51619507072_026512007_CLP_IDR_RAW.csv  written.\n",
      "51658507074_010812000_CLP_IDR_RAW.csv\n",
      "51658507074_010812000_CLP_IDR_RAW.csv  written.\n",
      "51839107018_877651002_CLP_IDR_RAW.csv\n",
      "51839107018_877651002_CLP_IDR_RAW.csv  written.\n",
      "51866307069_532932008_CLP_IDR_RAW.csv\n",
      "51866307069_532932008_CLP_IDR_RAW.csv  written.\n",
      "success, file:  eversource_7e777ce1-9776-465e-9736-61dbc3081a01_87615b5f_hourlycsv.csv\n",
      "found 5 accounts.\n",
      "51176307064_162372004_CLP_IDR_RAW.csv\n",
      "51176307064_162372004_CLP_IDR_RAW.csv  written.\n",
      "51219507076_443851008_CLP_IDR_RAW.csv\n",
      "51219507076_443851008_CLP_IDR_RAW.csv  written.\n",
      "51482507043_640381002_CLP_IDR_RAW.csv\n",
      "51482507043_640381002_CLP_IDR_RAW.csv  written.\n",
      "51772307096_226941006_CLP_IDR_RAW.csv\n",
      "51772307096_226941006_CLP_IDR_RAW.csv  written.\n",
      "51883296022_255451004_CLP_IDR_RAW.csv\n",
      "51883296022_255451004_CLP_IDR_RAW.csv  written.\n",
      "success, file:  eversource_7e777ce1-9776-465e-9736-61dbc3081a01_6705bbdf_hourlycsv.csv\n",
      "found 4 accounts.\n",
      "51344207006_655971002_CLP_IDR_RAW.csv\n",
      "51344207006_655971002_CLP_IDR_RAW.csv  written.\n",
      "51607307055_821322002_CLP_IDR_RAW.csv\n",
      "51607307055_821322002_CLP_IDR_RAW.csv  written.\n",
      "51682307095_463012002_CLP_IDR_RAW.csv\n",
      "51682307095_463012002_CLP_IDR_RAW.csv  written.\n",
      "51862307097_936841005_CLP_IDR_RAW.csv\n",
      "51862307097_936841005_CLP_IDR_RAW.csv  written.\n",
      "success, file:  eversource_7e777ce1-9776-465e-9736-61dbc3081a01_571dd00b_hourlycsv.csv\n",
      "found 5 accounts.\n",
      "51027307057_943091001_CLP_IDR_RAW.csv\n",
      "51027307057_943091001_CLP_IDR_RAW.csv  written.\n",
      "51673296026_871251004_CLP_IDR_RAW.csv\n",
      "51673296026_871251004_CLP_IDR_RAW.csv  written.\n",
      "51776307050_695571001_CLP_IDR_RAW.csv\n",
      "51776307050_695571001_CLP_IDR_RAW.csv  written.\n",
      "51902507045_894381007_CLP_IDR_RAW.csv\n",
      "51902507045_894381007_CLP_IDR_RAW.csv  written.\n",
      "51929107019_879242006_CLP_IDR_RAW.csv\n",
      "51929107019_879242006_CLP_IDR_RAW.csv  written.\n",
      "success, file:  eversource_7e777ce1-9776-465e-9736-61dbc3081a01_0f70204b_hourlycsv.csv\n"
     ]
    }
   ],
   "source": [
    "readpath = 'C:\\\\Users\\\\wb5888\\\\Downloads'\n",
    "writepath = 'C:\\\\Users\\\\wb5888\\\\Documents\\\\Raw IDR Data'\n",
    "utility = 'CLP'\n",
    "error_log = []\n",
    "\n",
    "for file in splitfiles:\n",
    "    try:\n",
    "        os.chdir(readpath)\n",
    "        filedf = pd.read_csv(file, sep = \",\", header = 0)\n",
    "    \n",
    "        IDRdrop.raw_split(filedf, readpath, writepath)\n",
    "        print('success, file: ', file)\n",
    "        \n",
    "    except:\n",
    "        error_log = error_log.append(file)\n",
    "        print('error, file: ', file)"
   ]
  },
  {
   "cell_type": "markdown",
   "metadata": {},
   "source": [
    "## Show Raw IDR files based on utility"
   ]
  },
  {
   "cell_type": "code",
   "execution_count": 3,
   "metadata": {},
   "outputs": [],
   "source": [
    "utility = \"CLP\""
   ]
  },
  {
   "cell_type": "markdown",
   "metadata": {},
   "source": [
    "Here *rawpath* is directory containing Raw IDRs - 25 most recent will be shown."
   ]
  },
  {
   "cell_type": "code",
   "execution_count": 2,
   "metadata": {},
   "outputs": [
    {
     "name": "stdout",
     "output_type": "stream",
     "text": [
      "files found in dir:  C:\\Users\\wb5888\\Documents\\Raw IDR Data\\\n",
      "                                          files                time\n",
      "0         51929107019_879242006_CLP_IDR_RAW.csv 2019-07-10 16:23:26\n",
      "1         51902507045_894381007_CLP_IDR_RAW.csv 2019-07-10 16:23:26\n",
      "2         51673296026_871251004_CLP_IDR_RAW.csv 2019-07-10 16:23:25\n",
      "3         51776307050_695571001_CLP_IDR_RAW.csv 2019-07-10 16:23:25\n",
      "4         51027307057_943091001_CLP_IDR_RAW.csv 2019-07-10 16:23:24\n",
      "5         51862307097_936841005_CLP_IDR_RAW.csv 2019-07-10 16:23:23\n",
      "6         51682307095_463012002_CLP_IDR_RAW.csv 2019-07-10 16:23:23\n",
      "7         51607307055_821322002_CLP_IDR_RAW.csv 2019-07-10 16:23:22\n",
      "8         51344207006_655971002_CLP_IDR_RAW.csv 2019-07-10 16:23:22\n",
      "9         51883296022_255451004_CLP_IDR_RAW.csv 2019-07-10 16:23:21\n",
      "10        51482507043_640381002_CLP_IDR_RAW.csv 2019-07-10 16:23:20\n",
      "11        51772307096_226941006_CLP_IDR_RAW.csv 2019-07-10 16:23:20\n",
      "12        51219507076_443851008_CLP_IDR_RAW.csv 2019-07-10 16:23:19\n",
      "13        51176307064_162372004_CLP_IDR_RAW.csv 2019-07-10 16:23:18\n",
      "14        51866307069_532932008_CLP_IDR_RAW.csv 2019-07-10 16:23:18\n",
      "15        51658507074_010812000_CLP_IDR_RAW.csv 2019-07-10 16:23:17\n",
      "16        51839107018_877651002_CLP_IDR_RAW.csv 2019-07-10 16:23:17\n",
      "17        51619507072_026512007_CLP_IDR_RAW.csv 2019-07-10 16:23:16\n",
      "18        51751507047_713181005_CLP_IDR_RAW.csv 2019-07-10 16:23:15\n",
      "19        51246307060_586462002_CLP_IDR_RAW.csv 2019-07-10 16:23:15\n",
      "20        51531117042_996871006_CLP_IDR_RAW.csv 2019-07-10 16:23:14\n",
      "21        51448807016_441952002_CLP_IDR_RAW.csv 2019-07-10 16:23:14\n",
      "22        51420407082_632372002_CLP_IDR_RAW.csv 2019-07-10 16:23:13\n",
      "23        51331507038_439741008_CLP_IDR_RAW.csv 2019-07-10 16:23:12\n",
      "24                                       NEPOOL 2019-07-10 09:18:16\n",
      "25                  MECO_6408895014_IDR_RAW.csv 2019-07-05 07:55:04\n",
      "26                  MECO_6351623022_IDR_RAW.csv 2019-07-05 07:54:58\n",
      "27                  MECO_5161473048_IDR_RAW.csv 2019-07-05 07:54:53\n",
      "28                  MECO_3331721015_IDR_RAW.csv 2019-07-05 07:54:47\n",
      "29                   NRI_1468643004_IDR_RAW.csv 2019-07-05 07:54:42\n",
      "30  1468643004 RHODE ISLAND BLOOD C_IDR_RAW.csv 2019-07-05 07:52:20\n",
      "31        CLP_51627242001_968761002_IDR_RAW.csv 2019-07-01 15:20:09\n",
      "32        CLP_51496842055_464271006_IDR_RAW.csv 2019-07-01 15:20:03\n",
      "33        CLP_51261702096_553841007_IDR_RAW.csv 2019-07-01 15:19:58\n",
      "34        CLP_51236312021_504151002_IDR_RAW.csv 2019-07-01 15:19:52\n",
      "35        CLP_51816412001_683151002_IDR_RAW.csv 2019-07-01 15:19:47\n",
      "36        CLP_51725012033_834941004_IDR_RAW.csv 2019-07-01 15:19:41\n",
      "37        CLP_51442337044_669263000_IDR_RAW.csv 2019-07-01 15:19:35\n",
      "38        CLP_51014134001_891582002_IDR_RAW.csv 2019-07-01 15:19:30\n",
      "39                             None_IDR_RAW.csv 2019-07-01 08:54:58\n",
      "40                  MECO_6610585009_IDR_RAW.csv 2019-06-26 13:35:43\n",
      "41                  MECO_1577720007_IDR_RAW.csv 2019-06-26 13:35:43\n",
      "42        CLP_51925763088_762642009_IDR_RAW.csv 2019-06-10 13:49:16\n",
      "43        CLP_51536553019_577932000_IDR_RAW.csv 2019-06-10 13:49:15\n",
      "44        CLP_51568663041_702542002_IDR_RAW.csv 2019-06-10 13:49:15\n",
      "45        CLP_51064553050_726932001_IDR_RAW.csv 2019-06-10 13:49:14\n",
      "46        CLP_51788734028_666092009_IDR_RAW.csv 2019-06-10 13:30:05\n",
      "47        CLP_51757552096_486303005_IDR_RAW.csv 2019-06-10 13:30:04\n",
      "48        CLP_51667526008_855533003_IDR_RAW.csv 2019-06-10 13:30:04\n",
      "49        CLP_51284553096_215932007_IDR_RAW.csv 2019-06-10 13:30:03\n"
     ]
    }
   ],
   "source": [
    "rawpath = 'C:\\\\Users\\\\wb5888\\\\Documents\\\\Raw IDR Data\\\\'\n",
    "\n",
    "rawfiles = IDRdrop.show_dir(rawpath, 50)\n",
    "print(rawfiles)"
   ]
  },
  {
   "cell_type": "markdown",
   "metadata": {},
   "source": [
    "Choose Raw IDRs to filter into IDR files."
   ]
  },
  {
   "cell_type": "code",
   "execution_count": 4,
   "metadata": {},
   "outputs": [
    {
     "name": "stdout",
     "output_type": "stream",
     "text": [
      "files to processed: \n",
      "['51929107019_879242006_CLP_IDR_RAW.csv', '51902507045_894381007_CLP_IDR_RAW.csv', '51673296026_871251004_CLP_IDR_RAW.csv', '51776307050_695571001_CLP_IDR_RAW.csv', '51027307057_943091001_CLP_IDR_RAW.csv', '51862307097_936841005_CLP_IDR_RAW.csv', '51682307095_463012002_CLP_IDR_RAW.csv', '51607307055_821322002_CLP_IDR_RAW.csv', '51344207006_655971002_CLP_IDR_RAW.csv', '51883296022_255451004_CLP_IDR_RAW.csv', '51482507043_640381002_CLP_IDR_RAW.csv', '51772307096_226941006_CLP_IDR_RAW.csv', '51219507076_443851008_CLP_IDR_RAW.csv', '51176307064_162372004_CLP_IDR_RAW.csv', '51866307069_532932008_CLP_IDR_RAW.csv', '51658507074_010812000_CLP_IDR_RAW.csv', '51839107018_877651002_CLP_IDR_RAW.csv', '51619507072_026512007_CLP_IDR_RAW.csv', '51751507047_713181005_CLP_IDR_RAW.csv', '51246307060_586462002_CLP_IDR_RAW.csv', '51531117042_996871006_CLP_IDR_RAW.csv', '51448807016_441952002_CLP_IDR_RAW.csv', '51420407082_632372002_CLP_IDR_RAW.csv', '51331507038_439741008_CLP_IDR_RAW.csv']\n"
     ]
    }
   ],
   "source": [
    "index = [36]\n",
    "\n",
    "processfiles = list(rawfiles.files[:24])\n",
    "print('files to processed: ')\n",
    "print(processfiles)"
   ]
  },
  {
   "cell_type": "markdown",
   "metadata": {},
   "source": [
    "## Batch filter Raw IDR into IDR files to be dropped"
   ]
  },
  {
   "cell_type": "code",
   "execution_count": 5,
   "metadata": {},
   "outputs": [
    {
     "name": "stdout",
     "output_type": "stream",
     "text": [
      "success, file:  51929107019_879242006_CLP_IDR_RAW.csv\n",
      "success, file:  51902507045_894381007_CLP_IDR_RAW.csv\n",
      "success, file:  51673296026_871251004_CLP_IDR_RAW.csv\n",
      "success, file:  51776307050_695571001_CLP_IDR_RAW.csv\n",
      "spot check output file at date  3/6/2019\n",
      "success, file:  51027307057_943091001_CLP_IDR_RAW.csv\n",
      "success, file:  51862307097_936841005_CLP_IDR_RAW.csv\n",
      "error, file:  51682307095_463012002_CLP_IDR_RAW.csv\n",
      "spot check output file at date  3/23/2019\n",
      "success, file:  51607307055_821322002_CLP_IDR_RAW.csv\n",
      "spot check output file at date  5/28/2019\n",
      "success, file:  51344207006_655971002_CLP_IDR_RAW.csv\n",
      "success, file:  51883296022_255451004_CLP_IDR_RAW.csv\n",
      "spot check output file at date  11/9/2018\n",
      "success, file:  51482507043_640381002_CLP_IDR_RAW.csv\n",
      "success, file:  51772307096_226941006_CLP_IDR_RAW.csv\n",
      "success, file:  51219507076_443851008_CLP_IDR_RAW.csv\n",
      "success, file:  51176307064_162372004_CLP_IDR_RAW.csv\n",
      "success, file:  51866307069_532932008_CLP_IDR_RAW.csv\n",
      "success, file:  51658507074_010812000_CLP_IDR_RAW.csv\n",
      "success, file:  51839107018_877651002_CLP_IDR_RAW.csv\n",
      "success, file:  51619507072_026512007_CLP_IDR_RAW.csv\n",
      "spot check output file at date  2/1/2019\n",
      "success, file:  51751507047_713181005_CLP_IDR_RAW.csv\n",
      "success, file:  51246307060_586462002_CLP_IDR_RAW.csv\n",
      "success, file:  51531117042_996871006_CLP_IDR_RAW.csv\n",
      "success, file:  51448807016_441952002_CLP_IDR_RAW.csv\n",
      "spot check output file at date  4/30/2019\n",
      "success, file:  51420407082_632372002_CLP_IDR_RAW.csv\n",
      "success, file:  51331507038_439741008_CLP_IDR_RAW.csv\n"
     ]
    }
   ],
   "source": [
    "readpath = rawpath\n",
    "writepath = 'C:\\\\Users\\\\wb5888\\\\Documents\\\\IDR Data\\\\NEPOOL\\\\'\n",
    "error_log = []\n",
    "\n",
    "for dropfile in processfiles:\n",
    "    try:\n",
    "        IDRdrop.data_drop(dropfile, rawpath, writepath)\n",
    "        print('success, file: ', dropfile)\n",
    "    \n",
    "    except:\n",
    "        error_log = error_log.append(dropfile)\n",
    "        print(\"error, file: \", dropfile)"
   ]
  },
  {
   "cell_type": "code",
   "execution_count": null,
   "metadata": {},
   "outputs": [],
   "source": [
    "error_log"
   ]
  },
  {
   "cell_type": "code",
   "execution_count": null,
   "metadata": {},
   "outputs": [],
   "source": [
    "dir(EPOwebscrape)"
   ]
  },
  {
   "cell_type": "code",
   "execution_count": null,
   "metadata": {},
   "outputs": [],
   "source": []
  },
  {
   "cell_type": "code",
   "execution_count": null,
   "metadata": {},
   "outputs": [],
   "source": []
  }
 ],
 "metadata": {
  "kernelspec": {
   "display_name": "Python 3",
   "language": "python",
   "name": "python3"
  },
  "language_info": {
   "codemirror_mode": {
    "name": "ipython",
    "version": 3
   },
   "file_extension": ".py",
   "mimetype": "text/x-python",
   "name": "python",
   "nbconvert_exporter": "python",
   "pygments_lexer": "ipython3",
   "version": "3.7.3"
  }
 },
 "nbformat": 4,
 "nbformat_minor": 2
}
