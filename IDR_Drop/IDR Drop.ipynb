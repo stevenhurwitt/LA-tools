{
 "cells": [
  {
   "cell_type": "markdown",
   "metadata": {},
   "source": [
    "# NEPOOL IDR Drop"
   ]
  },
  {
   "cell_type": "markdown",
   "metadata": {},
   "source": [
    "Implements class to batch tasks used for IDR drops."
   ]
  },
  {
   "cell_type": "code",
   "execution_count": 1,
   "metadata": {},
   "outputs": [],
   "source": [
    "from bs4 import BeautifulSoup\n",
    "import pandas as pd\n",
    "import numpy as np\n",
    "import IDRdrop\n",
    "import EPOwebscrape\n",
    "import json\n",
    "import os"
   ]
  },
  {
   "cell_type": "code",
   "execution_count": null,
   "metadata": {},
   "outputs": [],
   "source": [
    "with open('bodies.json', 'r') as f:\n",
    "    bodies = json.load(f)\n",
    "\n",
    "bodies = json.loads(bodies)\n",
    "\n",
    "#print(bodies.keys())\n",
    "for item in bodies.values():\n",
    "    print(item['accts'])"
   ]
  },
  {
   "cell_type": "markdown",
   "metadata": {},
   "source": [
    "## Download files from EPO portal"
   ]
  },
  {
   "cell_type": "code",
   "execution_count": null,
   "metadata": {},
   "outputs": [],
   "source": [
    "#browser, url = logon('somer-nengie', 'rb4171', False)\n",
    "\n",
    "browser, url = EPOwebscrape.logon('SUEZ_HIST', '3824', True)\n",
    "\n",
    "accts_to_find = ['0040677012', '0021483009']\n",
    "#accts_to_find = ['0040677012', '0021483009', '0067880031', '0074816023'] #enter accts as list\n",
    "#accts_to_find = ['28905980018', '26121881010']\n",
    "AIDs = []\n",
    "\n",
    "soup = BeautifulSoup(browser.page_source)\n",
    "table = soup.find('tbody', {'role' : 'rowgroup'})\n",
    "\n",
    "#get EPO AID value for every account\n",
    "for accts in accts_to_find:\n",
    "    results = EPOwebscrape.big_match(accts, table)\n",
    "    AIDs.append(results)\n",
    "\n",
    "#make list of AIDs, split into list of lists of 5\n",
    "final = []\n",
    "AIDs\n",
    "\n",
    "for aid_list in AIDs:\n",
    "    for aid in aid_list:\n",
    "        final.append(aid)\n",
    "\n",
    "n = 5\n",
    "final2 = [final[i * n:(i + 1) * n] for i in range((len(final) + n - 1) // n )]  \n",
    "final2\n",
    "\n",
    "for elem in final2:\n",
    "    EPOwebscrape.export_data(elem, browser)\n"
   ]
  },
  {
   "cell_type": "markdown",
   "metadata": {},
   "source": [
    "## Show downloaded files from EPO portal"
   ]
  },
  {
   "cell_type": "markdown",
   "metadata": {},
   "source": [
    "Here *filepath* is a directory containing downloaded EPO files. Code will print 20 most recent files."
   ]
  },
  {
   "cell_type": "code",
   "execution_count": 2,
   "metadata": {},
   "outputs": [
    {
     "name": "stdout",
     "output_type": "stream",
     "text": [
      "files found in dir:  C:\\Users\\wb5888\\Downloads\n",
      "                                                files                time\n",
      "0   eversource_e7411105-c9b7-448b-9b4b-522bc38c51d... 2019-07-01 15:14:31\n",
      "1   eversource_e7411105-c9b7-448b-9b4b-522bc38c51d... 2019-07-01 15:14:03\n",
      "2                          NEPOOL_MECO_5297041005.csv 2019-07-01 11:56:11\n",
      "3   ngrid_5c01d29b-93ab-4415-b439-5791a286b8fd_585... 2019-07-01 08:43:25\n",
      "4                     IntervalData_06282019145336.csv 2019-06-28 14:53:39\n",
      "5                                         desktop.ini 2019-06-27 08:08:50\n",
      "6   ngrid_6474501a-807a-4749-ae70-5f9e6bd9c7e4_f2d... 2019-06-26 13:35:27\n",
      "7                     IntervalData_06252019135212.csv 2019-06-25 13:52:26\n",
      "8                                  scalar_buildout.py 2019-06-25 12:44:56\n",
      "9                                      1-HU872K_8.csv 2019-06-25 07:43:09\n",
      "10                                    output (21).csv 2019-06-25 07:42:25\n",
      "11             CT Docket 14-07-19RE05 - 20190624.xlsx 2019-06-24 14:07:03\n",
      "12  CT_EBT_CC-008 Summ Info on 810 - Updated 2019-... 2019-06-24 13:40:38\n",
      "13  CT EBT EDI Working Group Meeting AGENDA_201906... 2019-06-24 13:32:09\n",
      "14                                         Tags.ipynb 2019-06-24 12:04:14\n",
      "15                    PR_level_usage_difference.ipynb 2019-06-24 12:04:10\n",
      "16              Pluggable Rules Test example_v1.ipynb 2019-06-24 12:04:00\n",
      "17                                Flow Template.ipynb 2019-06-24 12:03:50\n",
      "18                         Sample CT 814 and 867.docx 2019-06-24 11:26:00\n",
      "19                1-J4VV17_1_JHLYNCHNRILOA1J4VV1D.pdf 2019-06-20 17:00:23\n"
     ]
    }
   ],
   "source": [
    "#filepath = os.getcwd()\n",
    "readpath = 'C:\\\\Users\\\\wb5888\\\\Downloads'\n",
    "\n",
    "myfiles = IDRdrop.show_dir(readpath, 20)\n",
    "print(myfiles)"
   ]
  },
  {
   "cell_type": "markdown",
   "metadata": {},
   "source": [
    "Choose files to split into Raw IDR files."
   ]
  },
  {
   "cell_type": "code",
   "execution_count": 3,
   "metadata": {},
   "outputs": [
    {
     "name": "stdout",
     "output_type": "stream",
     "text": [
      "files to split: \n",
      "['eversource_e7411105-c9b7-448b-9b4b-522bc38c51de_c4c53131_hourlycsv.csv', 'eversource_e7411105-c9b7-448b-9b4b-522bc38c51de_8309236c_hourlycsv.csv']\n"
     ]
    }
   ],
   "source": [
    "index = [0]\n",
    "\n",
    "splitfiles = list(myfiles.files[:2])\n",
    "print('files to split: ')\n",
    "file = splitfiles[0]\n",
    "print(splitfiles)"
   ]
  },
  {
   "cell_type": "markdown",
   "metadata": {},
   "source": [
    "## Batch process downloaded EPO files into Raw IDRs"
   ]
  },
  {
   "cell_type": "code",
   "execution_count": 4,
   "metadata": {},
   "outputs": [
    {
     "name": "stdout",
     "output_type": "stream",
     "text": [
      "found 4 accounts.\n",
      "CLP_51014134001_891582002_IDR_RAW.csv already in directory C:\\Users\\wb5888\\Documents\\Raw IDR Data\n",
      "CLP_51442337044_669263000_IDR_RAW.csv already in directory C:\\Users\\wb5888\\Documents\\Raw IDR Data\n",
      "CLP_51725012033_834941004_IDR_RAW.csv already in directory C:\\Users\\wb5888\\Documents\\Raw IDR Data\n",
      "CLP_51816412001_683151002_IDR_RAW.csv already in directory C:\\Users\\wb5888\\Documents\\Raw IDR Data\n",
      "success, file:  eversource_e7411105-c9b7-448b-9b4b-522bc38c51de_c4c53131_hourlycsv.csv\n",
      "found 5 accounts.\n",
      "CLP_51236312021_504151002_IDR_RAW.csv already in directory C:\\Users\\wb5888\\Documents\\Raw IDR Data\n",
      "CLP_51261702096_553841007_IDR_RAW.csv already in directory C:\\Users\\wb5888\\Documents\\Raw IDR Data\n",
      "CLP_51496842055_464271006_IDR_RAW.csv already in directory C:\\Users\\wb5888\\Documents\\Raw IDR Data\n",
      "CLP_51627242001_968761002_IDR_RAW.csv already in directory C:\\Users\\wb5888\\Documents\\Raw IDR Data\n",
      "None_IDR_RAW.csv already in directory C:\\Users\\wb5888\\Documents\\Raw IDR Data\n",
      "success, file:  eversource_e7411105-c9b7-448b-9b4b-522bc38c51de_8309236c_hourlycsv.csv\n"
     ]
    }
   ],
   "source": [
    "readpath = 'C:\\\\Users\\\\wb5888\\\\Downloads'\n",
    "writepath = 'C:\\\\Users\\\\wb5888\\\\Documents\\\\Raw IDR Data'\n",
    "utility = 'CLP'\n",
    "error_log = []\n",
    "\n",
    "for file in splitfiles:\n",
    "    try:\n",
    "        os.chdir(readpath)\n",
    "        filedf = pd.read_csv(file, sep = \",\", header = 0)\n",
    "\n",
    "        IDRdrop.raw_split(filedf, readpath, writepath)\n",
    "        print('success, file: ', file)\n",
    "        \n",
    "    except:\n",
    "        error_log = error_log.append(file)\n",
    "        print('error, file: ', file)"
   ]
  },
  {
   "cell_type": "markdown",
   "metadata": {},
   "source": [
    "## Show Raw IDR files based on utility"
   ]
  },
  {
   "cell_type": "code",
   "execution_count": null,
   "metadata": {},
   "outputs": [],
   "source": [
    "utility = \"CLP\""
   ]
  },
  {
   "cell_type": "markdown",
   "metadata": {},
   "source": [
    "Here *rawpath* is directory containing Raw IDRs - 25 most recent will be shown."
   ]
  },
  {
   "cell_type": "code",
   "execution_count": 5,
   "metadata": {},
   "outputs": [
    {
     "name": "stdout",
     "output_type": "stream",
     "text": [
      "files found in dir:  C:\\Users\\wb5888\\Documents\\Raw IDR Data\n",
      "                                    files                time\n",
      "0   CLP_51627242001_968761002_IDR_RAW.csv 2019-07-01 15:20:09\n",
      "1   CLP_51496842055_464271006_IDR_RAW.csv 2019-07-01 15:20:03\n",
      "2   CLP_51261702096_553841007_IDR_RAW.csv 2019-07-01 15:19:58\n",
      "3   CLP_51236312021_504151002_IDR_RAW.csv 2019-07-01 15:19:52\n",
      "4   CLP_51816412001_683151002_IDR_RAW.csv 2019-07-01 15:19:47\n",
      "5   CLP_51725012033_834941004_IDR_RAW.csv 2019-07-01 15:19:41\n",
      "6   CLP_51442337044_669263000_IDR_RAW.csv 2019-07-01 15:19:35\n",
      "7   CLP_51014134001_891582002_IDR_RAW.csv 2019-07-01 15:19:30\n",
      "8                        None_IDR_RAW.csv 2019-07-01 08:54:58\n",
      "9             MECO_6610585009_IDR_RAW.csv 2019-06-26 13:35:43\n",
      "10            MECO_1577720007_IDR_RAW.csv 2019-06-26 13:35:43\n",
      "11                                 NEPOOL 2019-06-14 14:32:25\n",
      "12  CLP_51925763088_762642009_IDR_RAW.csv 2019-06-10 13:49:16\n",
      "13  CLP_51536553019_577932000_IDR_RAW.csv 2019-06-10 13:49:15\n",
      "14  CLP_51568663041_702542002_IDR_RAW.csv 2019-06-10 13:49:15\n",
      "15  CLP_51064553050_726932001_IDR_RAW.csv 2019-06-10 13:49:14\n",
      "16  CLP_51788734028_666092009_IDR_RAW.csv 2019-06-10 13:30:05\n",
      "17  CLP_51667526008_855533003_IDR_RAW.csv 2019-06-10 13:30:04\n",
      "18  CLP_51757552096_486303005_IDR_RAW.csv 2019-06-10 13:30:04\n",
      "19  CLP_51284553096_215932007_IDR_RAW.csv 2019-06-10 13:30:03\n"
     ]
    }
   ],
   "source": [
    "rawpath = 'C:\\\\Users\\\\wb5888\\\\Documents\\\\Raw IDR Data'\n",
    "\n",
    "rawfiles = IDRdrop.show_dir(rawpath, 20)\n",
    "print(rawfiles)"
   ]
  },
  {
   "cell_type": "markdown",
   "metadata": {},
   "source": [
    "Choose Raw IDRs to filter into IDR files."
   ]
  },
  {
   "cell_type": "code",
   "execution_count": 6,
   "metadata": {},
   "outputs": [
    {
     "name": "stdout",
     "output_type": "stream",
     "text": [
      "files to processed: \n",
      "['CLP_51627242001_968761002_IDR_RAW.csv', 'CLP_51496842055_464271006_IDR_RAW.csv', 'CLP_51261702096_553841007_IDR_RAW.csv', 'CLP_51236312021_504151002_IDR_RAW.csv', 'CLP_51816412001_683151002_IDR_RAW.csv', 'CLP_51725012033_834941004_IDR_RAW.csv', 'CLP_51442337044_669263000_IDR_RAW.csv', 'CLP_51014134001_891582002_IDR_RAW.csv']\n"
     ]
    }
   ],
   "source": [
    "index = [36]\n",
    "\n",
    "processfiles = list(rawfiles.files[:8])\n",
    "print('files to processed: ')\n",
    "print(processfiles)"
   ]
  },
  {
   "cell_type": "markdown",
   "metadata": {},
   "source": [
    "## Batch filter Raw IDR into IDR files to be dropped"
   ]
  },
  {
   "cell_type": "code",
   "execution_count": 7,
   "metadata": {},
   "outputs": [
    {
     "name": "stdout",
     "output_type": "stream",
     "text": [
      "success, file:  CLP_51627242001_968761002_IDR_RAW.csv\n",
      "success, file:  CLP_51496842055_464271006_IDR_RAW.csv\n",
      "success, file:  CLP_51261702096_553841007_IDR_RAW.csv\n",
      "success, file:  CLP_51236312021_504151002_IDR_RAW.csv\n",
      "success, file:  CLP_51816412001_683151002_IDR_RAW.csv\n",
      "success, file:  CLP_51725012033_834941004_IDR_RAW.csv\n",
      "success, file:  CLP_51442337044_669263000_IDR_RAW.csv\n",
      "error, file:  CLP_51014134001_891582002_IDR_RAW.csv\n"
     ]
    }
   ],
   "source": [
    "readpath = rawpath\n",
    "writepath = 'C:\\\\Users\\\\wb5888\\\\Documents\\\\IDR Data\\\\NEPOOL\\\\'\n",
    "error_log = []\n",
    "\n",
    "for dropfile in processfiles:\n",
    "    try:\n",
    "        IDRdrop.data_drop(dropfile, rawpath, writepath)\n",
    "        print('success, file: ', dropfile)\n",
    "    \n",
    "    except:\n",
    "        error_log = error_log.append(dropfile)\n",
    "        print(\"error, file: \", dropfile)"
   ]
  },
  {
   "cell_type": "code",
   "execution_count": null,
   "metadata": {},
   "outputs": [],
   "source": [
    "error_log"
   ]
  },
  {
   "cell_type": "code",
   "execution_count": null,
   "metadata": {},
   "outputs": [],
   "source": [
    "dir(EPOwebscrape)"
   ]
  },
  {
   "cell_type": "code",
   "execution_count": null,
   "metadata": {},
   "outputs": [],
   "source": []
  },
  {
   "cell_type": "code",
   "execution_count": null,
   "metadata": {},
   "outputs": [],
   "source": []
  }
 ],
 "metadata": {
  "kernelspec": {
   "display_name": "Python 3",
   "language": "python",
   "name": "python3"
  },
  "language_info": {
   "codemirror_mode": {
    "name": "ipython",
    "version": 3
   },
   "file_extension": ".py",
   "mimetype": "text/x-python",
   "name": "python",
   "nbconvert_exporter": "python",
   "pygments_lexer": "ipython3",
   "version": "3.7.3"
  }
 },
 "nbformat": 4,
 "nbformat_minor": 2
}
