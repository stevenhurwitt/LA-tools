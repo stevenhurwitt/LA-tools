{
 "cells": [
  {
   "cell_type": "markdown",
   "metadata": {},
   "source": [
    "# NEPOOL IDR Drop"
   ]
  },
  {
   "cell_type": "markdown",
   "metadata": {},
   "source": [
    "Implements class to batch tasks used for IDR drops."
   ]
  },
  {
   "cell_type": "code",
   "execution_count": 1,
   "metadata": {},
   "outputs": [],
   "source": [
    "from bs4 import BeautifulSoup\n",
    "import pandas as pd\n",
    "import numpy as np\n",
    "import IDRdrop\n",
    "import EPOwebscrape\n",
    "import json\n",
    "import os"
   ]
  },
  {
   "cell_type": "code",
   "execution_count": null,
   "metadata": {},
   "outputs": [],
   "source": [
    "with open('bodies.json', 'r') as f:\n",
    "    bodies = json.load(f)\n",
    "\n",
    "bodies = json.loads(bodies)\n",
    "\n",
    "#print(bodies.keys())\n",
    "for item in bodies.values():\n",
    "    print(item['accts'])"
   ]
  },
  {
   "cell_type": "code",
   "execution_count": null,
   "metadata": {},
   "outputs": [],
   "source": [
    "'SUEZ' in 'SUEZ_HIST'"
   ]
  },
  {
   "cell_type": "markdown",
   "metadata": {},
   "source": [
    "## Download files from EPO portal"
   ]
  },
  {
   "cell_type": "code",
   "execution_count": null,
   "metadata": {},
   "outputs": [],
   "source": [
    "#browser, url = logon('somer-nengie', 'rb4171', False)\n",
    "\n",
    "browser, url = EPOwebscrape.logon('SUEZ_HIST', '3824', True)\n",
    "\n",
    "accts_to_find = ['0040677012', '0021483009']\n",
    "#accts_to_find = ['0040677012', '0021483009', '0067880031', '0074816023'] #enter accts as list\n",
    "#accts_to_find = ['28905980018', '26121881010']\n",
    "AIDs = []\n",
    "\n",
    "soup = BeautifulSoup(browser.page_source)\n",
    "table = soup.find('tbody', {'role' : 'rowgroup'})\n",
    "\n",
    "#get EPO AID value for every account\n",
    "for accts in accts_to_find:\n",
    "    results = EPOwebscrape.big_match(accts, table)\n",
    "    AIDs.append(results)\n",
    "\n",
    "#make list of AIDs, split into list of lists of 5\n",
    "final = []\n",
    "AIDs\n",
    "\n",
    "for aid_list in AIDs:\n",
    "    for aid in aid_list:\n",
    "        final.append(aid)\n",
    "\n",
    "n = 5\n",
    "final2 = [final[i * n:(i + 1) * n] for i in range((len(final) + n - 1) // n )]  \n",
    "final2\n",
    "\n",
    "for elem in final2:\n",
    "    EPOwebscrape.export_data(elem, browser)\n"
   ]
  },
  {
   "cell_type": "markdown",
   "metadata": {},
   "source": [
    "## Show downloaded files from EPO portal"
   ]
  },
  {
   "cell_type": "markdown",
   "metadata": {},
   "source": [
    "Here *filepath* is a directory containing downloaded EPO files. Code will print 20 most recent files."
   ]
  },
  {
   "cell_type": "code",
   "execution_count": 9,
   "metadata": {},
   "outputs": [
    {
     "name": "stdout",
     "output_type": "stream",
     "text": [
      "files found in dir:  C:\\Users\\wb5888\\Downloads\n",
      "                                                files                time\n",
      "0   ngrid_edd5cd0a-4d3d-41e9-8921-0459f12c6858_e26... 2019-05-30 15:11:33\n",
      "1   eversource_a3949c35-68de-4334-b965-e4fc01b6d69... 2019-05-30 14:57:44\n",
      "2   eversource_a3949c35-68de-4334-b965-e4fc01b6d69... 2019-05-30 14:57:13\n",
      "3   eversource_a3949c35-68de-4334-b965-e4fc01b6d69... 2019-05-30 14:56:44\n",
      "4   eversource_a3949c35-68de-4334-b965-e4fc01b6d69... 2019-05-30 14:55:49\n",
      "5   eversource_0ae4037b-a439-4537-a57f-2bbce974f91... 2019-05-30 11:44:41\n",
      "6                           GSOutput1559233784189.xls 2019-05-30 11:30:24\n",
      "7                           GSOutput1559233364653.xls 2019-05-30 11:24:06\n",
      "8                     IntervalData_05292019151637.csv 2019-05-29 15:16:39\n",
      "9     20190529131105132000_NEPOOL_NRI_7716801014.json 2019-05-29 13:16:12\n",
      "10                          GSOutput1559151547077.xls 2019-05-29 12:40:21\n",
      "11                    IntervalData_05292019120416.csv 2019-05-29 12:04:19\n",
      "12  ngrid_f968810a-266f-448e-b92a-5c49b74547cf_6ec... 2019-05-29 11:16:07\n",
      "13                    IntervalData_05292019103321.csv 2019-05-29 10:33:24\n",
      "14  eversource_2843223a-43e1-4b37-82a7-5a0bcf1f3dc... 2019-05-29 09:46:11\n",
      "15  eversource_2843223a-43e1-4b37-82a7-5a0bcf1f3dc... 2019-05-29 09:45:56\n",
      "16  eversource_2843223a-43e1-4b37-82a7-5a0bcf1f3dc... 2019-05-29 09:45:42\n",
      "17                                         README.pdf 2019-05-29 09:05:21\n",
      "18                                          README.md 2019-05-29 08:58:33\n",
      "19                                        desktop.ini 2019-05-29 07:16:05\n"
     ]
    }
   ],
   "source": [
    "#filepath = os.getcwd()\n",
    "readpath = 'C:\\\\Users\\\\wb5888\\\\Downloads'\n",
    "\n",
    "myfiles = IDRdrop.show_dir(readpath, 20)\n",
    "print(myfiles)"
   ]
  },
  {
   "cell_type": "markdown",
   "metadata": {},
   "source": [
    "Choose files to split into Raw IDR files."
   ]
  },
  {
   "cell_type": "code",
   "execution_count": 10,
   "metadata": {},
   "outputs": [
    {
     "name": "stdout",
     "output_type": "stream",
     "text": [
      "files to split: \n",
      "['ngrid_edd5cd0a-4d3d-41e9-8921-0459f12c6858_e262a666_hourlycsv.csv']\n"
     ]
    }
   ],
   "source": [
    "index = [0]\n",
    "\n",
    "splitfiles = list(myfiles.files[[0]])\n",
    "print('files to split: ')\n",
    "print(splitfiles)"
   ]
  },
  {
   "cell_type": "markdown",
   "metadata": {},
   "source": [
    "## Batch process downloaded EPO files into Raw IDRs"
   ]
  },
  {
   "cell_type": "code",
   "execution_count": 11,
   "metadata": {},
   "outputs": [
    {
     "name": "stdout",
     "output_type": "stream",
     "text": [
      "error, file:  ngrid_edd5cd0a-4d3d-41e9-8921-0459f12c6858_e262a666_hourlycsv.csv\n"
     ]
    }
   ],
   "source": [
    "readpath = 'C:\\\\Users\\\\wb5888\\\\Downloads'\n",
    "writepath = 'C:\\\\Users\\\\wb5888\\\\Documents\\\\Raw IDR Data\\\\NEPOOL'\n",
    "error_log = []\n",
    "\n",
    "for file in splitfiles:\n",
    "    try:\n",
    "        os.chdir(readpath)\n",
    "        filedf = pd.read_csv(file, sep = \",\", header = 0)\n",
    "    \n",
    "        IDRdrop.raw_split(filedf, readpath, writepath)\n",
    "        print('success, file: ', file)\n",
    "        \n",
    "    except:\n",
    "        error_log = error_log.append(file)\n",
    "        print('error, file: ', file)"
   ]
  },
  {
   "cell_type": "markdown",
   "metadata": {},
   "source": [
    "## Show Raw IDR files based on utility"
   ]
  },
  {
   "cell_type": "code",
   "execution_count": 5,
   "metadata": {},
   "outputs": [],
   "source": [
    "utility = \"CLP\""
   ]
  },
  {
   "cell_type": "markdown",
   "metadata": {},
   "source": [
    "Here *rawpath* is directory containing Raw IDRs - 25 most recent will be shown."
   ]
  },
  {
   "cell_type": "code",
   "execution_count": 6,
   "metadata": {},
   "outputs": [
    {
     "name": "stdout",
     "output_type": "stream",
     "text": [
      "files found in dir:  C:\\Users\\wb5888\\Documents\\Raw IDR Data\\NEPOOL\\CLP\n",
      "                                                files                time\n",
      "0               CLP_51995634094_979982005_IDR_RAW.csv 2019-05-30 14:59:01\n",
      "1               CLP_51951862069_412381000_IDR_RAW.csv 2019-05-30 14:59:01\n",
      "2               CLP_51873572051_447681002_IDR_RAW.csv 2019-05-30 14:59:00\n",
      "3               CLP_51818072001_589381002_IDR_RAW.csv 2019-05-30 14:58:59\n",
      "4               CLP_51168962074_765481005_IDR_RAW.csv 2019-05-30 14:58:59\n",
      "5               CLP_51730562006_959081007_IDR_RAW.csv 2019-05-30 14:58:57\n",
      "6               CLP_51864272067_506043000_IDR_RAW.csv 2019-05-30 14:58:57\n",
      "7               CLP_51538862020_757381001_IDR_RAW.csv 2019-05-30 14:58:56\n",
      "8               CLP_51584072037_150481008_IDR_RAW.csv 2019-05-30 14:58:56\n",
      "9               CLP_51382572048_754781009_IDR_RAW.csv 2019-05-30 14:58:55\n",
      "10              CLP_51986462034_323181005_IDR_RAW.csv 2019-05-30 14:58:54\n",
      "11              CLP_51306672080_617781001_IDR_RAW.csv 2019-05-30 14:58:53\n",
      "12              CLP_51840694004_809292001_IDR_RAW.csv 2019-05-30 14:58:53\n",
      "13              CLP_51129362091_675081002_IDR_RAW.csv 2019-05-30 14:58:52\n",
      "14              CLP_51069372001_518581002_IDR_RAW.csv 2019-05-30 14:58:51\n",
      "15              CLP_51765572045_841881006_IDR_RAW.csv 2019-05-30 14:58:50\n",
      "16              CLP_51598762094_146381005_IDR_RAW.csv 2019-05-30 14:58:50\n",
      "17              CLP_51267472025_738781006_IDR_RAW.csv 2019-05-30 14:58:49\n",
      "18              CLP_51296272024_704681005_IDR_RAW.csv 2019-05-30 14:58:49\n",
      "19  CityofStamford_IDR_51584072037150481008_201904... 2019-05-29 13:27:33\n",
      "20  CityofStamford_IDR_51382572048754781009_201904... 2019-05-29 13:27:33\n",
      "21  CityofStamford_IDR_51306672080617781001_201904... 2019-05-29 13:27:33\n",
      "22  CityofStamford_IDR_51582462073234071004_201904... 2019-05-29 13:27:33\n",
      "23  CityofStamford_IDR_51069372001518581002_201904... 2019-05-29 13:27:33\n",
      "24  CityofStamford_IDR_51689116077989781005_201904... 2019-05-29 13:27:33\n"
     ]
    }
   ],
   "source": [
    "rawpath = 'C:\\\\Users\\\\wb5888\\\\Documents\\\\Raw IDR Data\\\\NEPOOL\\\\' + utility\n",
    "\n",
    "rawfiles = IDRdrop.show_dir(rawpath, 25)\n",
    "print(rawfiles)"
   ]
  },
  {
   "cell_type": "markdown",
   "metadata": {},
   "source": [
    "Choose Raw IDRs to filter into IDR files."
   ]
  },
  {
   "cell_type": "code",
   "execution_count": 7,
   "metadata": {},
   "outputs": [
    {
     "name": "stdout",
     "output_type": "stream",
     "text": [
      "files to processed: \n",
      "['CLP_51995634094_979982005_IDR_RAW.csv', 'CLP_51951862069_412381000_IDR_RAW.csv', 'CLP_51873572051_447681002_IDR_RAW.csv', 'CLP_51818072001_589381002_IDR_RAW.csv', 'CLP_51168962074_765481005_IDR_RAW.csv', 'CLP_51730562006_959081007_IDR_RAW.csv', 'CLP_51864272067_506043000_IDR_RAW.csv', 'CLP_51538862020_757381001_IDR_RAW.csv', 'CLP_51584072037_150481008_IDR_RAW.csv', 'CLP_51382572048_754781009_IDR_RAW.csv', 'CLP_51986462034_323181005_IDR_RAW.csv', 'CLP_51306672080_617781001_IDR_RAW.csv', 'CLP_51840694004_809292001_IDR_RAW.csv', 'CLP_51129362091_675081002_IDR_RAW.csv', 'CLP_51069372001_518581002_IDR_RAW.csv', 'CLP_51765572045_841881006_IDR_RAW.csv', 'CLP_51598762094_146381005_IDR_RAW.csv', 'CLP_51267472025_738781006_IDR_RAW.csv', 'CLP_51296272024_704681005_IDR_RAW.csv']\n"
     ]
    }
   ],
   "source": [
    "index = [36]\n",
    "\n",
    "processfiles = list(rawfiles.files[:19])\n",
    "print('files to processed: ')\n",
    "print(processfiles)"
   ]
  },
  {
   "cell_type": "markdown",
   "metadata": {},
   "source": [
    "## Batch filter Raw IDR into IDR files to be dropped"
   ]
  },
  {
   "cell_type": "code",
   "execution_count": 8,
   "metadata": {},
   "outputs": [
    {
     "name": "stdout",
     "output_type": "stream",
     "text": [
      "success, file:  CLP_51995634094_979982005_IDR_RAW.csv\n",
      "success, file:  CLP_51951862069_412381000_IDR_RAW.csv\n",
      "success, file:  CLP_51873572051_447681002_IDR_RAW.csv\n",
      "success, file:  CLP_51818072001_589381002_IDR_RAW.csv\n",
      "spot check output file at date  9/18/2018\n",
      "success, file:  CLP_51168962074_765481005_IDR_RAW.csv\n",
      "success, file:  CLP_51730562006_959081007_IDR_RAW.csv\n",
      "success, file:  CLP_51864272067_506043000_IDR_RAW.csv\n",
      "success, file:  CLP_51538862020_757381001_IDR_RAW.csv\n",
      "success, file:  CLP_51584072037_150481008_IDR_RAW.csv\n",
      "success, file:  CLP_51382572048_754781009_IDR_RAW.csv\n",
      "success, file:  CLP_51986462034_323181005_IDR_RAW.csv\n",
      "success, file:  CLP_51306672080_617781001_IDR_RAW.csv\n",
      "success, file:  CLP_51840694004_809292001_IDR_RAW.csv\n",
      "success, file:  CLP_51129362091_675081002_IDR_RAW.csv\n",
      "success, file:  CLP_51069372001_518581002_IDR_RAW.csv\n",
      "success, file:  CLP_51765572045_841881006_IDR_RAW.csv\n",
      "success, file:  CLP_51598762094_146381005_IDR_RAW.csv\n",
      "success, file:  CLP_51267472025_738781006_IDR_RAW.csv\n",
      "success, file:  CLP_51296272024_704681005_IDR_RAW.csv\n"
     ]
    }
   ],
   "source": [
    "readpath = rawpath\n",
    "writepath = 'C:\\\\Users\\\\wb5888\\\\Documents\\\\IDR Data\\\\NEPOOL\\\\'\n",
    "error_log = []\n",
    "\n",
    "for dropfile in processfiles:\n",
    "    try:\n",
    "        IDRdrop.data_drop(dropfile, rawpath, writepath)\n",
    "        print('success, file: ', dropfile)\n",
    "    \n",
    "    except:\n",
    "        error_log.append(dropfile)\n",
    "        print(\"error, file: \", dropfile)"
   ]
  },
  {
   "cell_type": "code",
   "execution_count": null,
   "metadata": {},
   "outputs": [],
   "source": [
    "error_log"
   ]
  },
  {
   "cell_type": "code",
   "execution_count": null,
   "metadata": {},
   "outputs": [],
   "source": [
    "dir(EPOwebscrape)"
   ]
  },
  {
   "cell_type": "code",
   "execution_count": null,
   "metadata": {},
   "outputs": [],
   "source": []
  },
  {
   "cell_type": "code",
   "execution_count": null,
   "metadata": {},
   "outputs": [],
   "source": []
  }
 ],
 "metadata": {
  "kernelspec": {
   "display_name": "Python 3",
   "language": "python",
   "name": "python3"
  },
  "language_info": {
   "codemirror_mode": {
    "name": "ipython",
    "version": 3
   },
   "file_extension": ".py",
   "mimetype": "text/x-python",
   "name": "python",
   "nbconvert_exporter": "python",
   "pygments_lexer": "ipython3",
   "version": "3.7.3"
  }
 },
 "nbformat": 4,
 "nbformat_minor": 2
}
