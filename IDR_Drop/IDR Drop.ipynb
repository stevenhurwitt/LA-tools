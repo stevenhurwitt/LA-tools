{
 "cells": [
  {
   "cell_type": "markdown",
   "metadata": {},
   "source": [
    "# NEPOOL IDR Drop"
   ]
  },
  {
   "cell_type": "markdown",
   "metadata": {},
   "source": [
    "Implements class to batch tasks used for IDR drops."
   ]
  },
  {
   "cell_type": "code",
   "execution_count": 2,
   "metadata": {},
   "outputs": [],
   "source": [
    "from bs4 import BeautifulSoup\n",
    "import pandas as pd\n",
    "import numpy as np\n",
    "import IDRdrop\n",
    "import EPOwebscrape\n",
    "import json\n",
    "import os"
   ]
  },
  {
   "cell_type": "markdown",
   "metadata": {},
   "source": [
    "## Open Raw .json"
   ]
  },
  {
   "cell_type": "markdown",
   "metadata": {},
   "source": [
    "open a local .json file of email body info."
   ]
  },
  {
   "cell_type": "code",
   "execution_count": null,
   "metadata": {},
   "outputs": [],
   "source": [
    "with open('bodies.json', 'r') as f:\n",
    "    bodies = json.load(f)\n",
    "\n",
    "bodies = json.loads(bodies)\n",
    "\n",
    "#print(bodies.keys())\n",
    "for item in bodies.values():\n",
    "    print(item['accts'])"
   ]
  },
  {
   "cell_type": "markdown",
   "metadata": {},
   "source": [
    "## Download files from EPO portal"
   ]
  },
  {
   "cell_type": "code",
   "execution_count": 3,
   "metadata": {},
   "outputs": [
    {
     "name": "stdout",
     "output_type": "stream",
     "text": [
      "user:  stopshop-engie\n",
      "password:  3822b\n",
      "logging on...\n",
      "set to last  400  days.\n"
     ]
    }
   ],
   "source": [
    "browser, url = EPOwebscrape.logon('stopshop-engie', '3822b', False)"
   ]
  },
  {
   "cell_type": "code",
   "execution_count": 4,
   "metadata": {},
   "outputs": [
    {
     "name": "stdout",
     "output_type": "stream",
     "text": [
      "(browser, url) outputs type: (<class 'selenium.webdriver.chrome.webdriver.WebDriver'>, <class 'str'>).\n"
     ]
    }
   ],
   "source": [
    "print('(browser, url) outputs type: {}.'.format((type(browser), type(url))))"
   ]
  },
  {
   "cell_type": "code",
   "execution_count": 6,
   "metadata": {},
   "outputs": [
    {
     "data": {
      "text/plain": [
       "'https://eversource.epo.schneider-electric.com/eversource/cgi/eponline.exe'"
      ]
     },
     "execution_count": 6,
     "metadata": {},
     "output_type": "execute_result"
    }
   ],
   "source": [
    "url"
   ]
  },
  {
   "cell_type": "code",
   "execution_count": 5,
   "metadata": {},
   "outputs": [
    {
     "name": "stdout",
     "output_type": "stream",
     "text": [
      "user:  stopshop-engie\n",
      "password:  3822b\n",
      "logging on...\n",
      "set to last  400  days.\n"
     ]
    }
   ],
   "source": [
    "#browser, url = logon('somer-nengie', 'rb4171', False)\n",
    "\n",
    "browser, url = EPOwebscrape.logon('stopshop-engie', '3822b', False)\n",
    "\n",
    "accts_to_find = ['0040677012', '0021483009']\n",
    "#accts_to_find = ['0040677012', '0021483009', '0067880031', '0074816023'] #enter accts as list\n",
    "#accts_to_find = ['28905980018', '26121881010']\n",
    "AIDs = []\n",
    "\n",
    "soup = BeautifulSoup(browser.page_source)\n",
    "table = soup.find('tbody', {'role' : 'rowgroup'})\n",
    "\n",
    "#get EPO AID value for every account\n",
    "for accts in accts_to_find:\n",
    "    results = EPOwebscrape.big_match(accts, table)\n",
    "    AIDs.append(results)\n",
    "\n",
    "#make list of AIDs, split into list of lists of 5\n",
    "final = []\n",
    "AIDs\n",
    "\n",
    "for aid_list in AIDs:\n",
    "    for aid in aid_list:\n",
    "        final.append(aid)\n",
    "\n",
    "n = 5\n",
    "final2 = [final[i * n:(i + 1) * n] for i in range((len(final) + n - 1) // n )]  \n",
    "final2\n",
    "\n",
    "for elem in final2:\n",
    "    EPOwebscrape.export_data(elem, browser)\n"
   ]
  },
  {
   "cell_type": "markdown",
   "metadata": {},
   "source": [
    "# Show downloaded files from EPO portal"
   ]
  },
  {
   "cell_type": "markdown",
   "metadata": {},
   "source": [
    "Here *filepath* is a directory containing downloaded EPO files. Code will print 20 most recent files."
   ]
  },
  {
   "cell_type": "code",
   "execution_count": 8,
   "metadata": {},
   "outputs": [
    {
     "name": "stdout",
     "output_type": "stream",
     "text": [
      "files found in dir:  C:\\Users\\wb5888\\Downloads\n",
      "                                                files                time\n",
      "0   eversource_9e1c18d8-6a01-435e-b946-e49ce8158e5... 2019-07-22 14:14:03\n",
      "1   eversource_9e1c18d8-6a01-435e-b946-e49ce8158e5... 2019-07-22 14:13:16\n",
      "2   eversource_9e1c18d8-6a01-435e-b946-e49ce8158e5... 2019-07-22 14:12:45\n",
      "3   eversource_9e1c18d8-6a01-435e-b946-e49ce8158e5... 2019-07-22 14:12:18\n",
      "4   eversource_9e1c18d8-6a01-435e-b946-e49ce8158e5... 2019-07-22 14:11:37\n",
      "5   eversource_9e1c18d8-6a01-435e-b946-e49ce8158e5... 2019-07-22 14:11:08\n",
      "6   eversource_9e1c18d8-6a01-435e-b946-e49ce8158e5... 2019-07-22 14:10:33\n",
      "7   eversource_9e1c18d8-6a01-435e-b946-e49ce8158e5... 2019-07-22 14:09:54\n",
      "8   eversource_9e1c18d8-6a01-435e-b946-e49ce8158e5... 2019-07-22 14:09:19\n",
      "9   eversource_9e1c18d8-6a01-435e-b946-e49ce8158e5... 2019-07-22 14:08:40\n",
      "10  eversource_9e1c18d8-6a01-435e-b946-e49ce8158e5... 2019-07-22 14:08:02\n",
      "11  eversource_9e1c18d8-6a01-435e-b946-e49ce8158e5... 2019-07-22 14:07:33\n",
      "12  eversource_9e1c18d8-6a01-435e-b946-e49ce8158e5... 2019-07-22 14:07:05\n",
      "13  eversource_9e1c18d8-6a01-435e-b946-e49ce8158e5... 2019-07-22 14:06:28\n",
      "14  eversource_9e1c18d8-6a01-435e-b946-e49ce8158e5... 2019-07-22 14:02:00\n",
      "15  eversource_9e1c18d8-6a01-435e-b946-e49ce8158e5... 2019-07-22 14:01:17\n",
      "16  eversource_9e1c18d8-6a01-435e-b946-e49ce8158e5... 2019-07-22 14:00:52\n",
      "17  eversource_9e1c18d8-6a01-435e-b946-e49ce8158e5... 2019-07-22 14:00:18\n",
      "18  eversource_9e1c18d8-6a01-435e-b946-e49ce8158e5... 2019-07-22 13:59:39\n",
      "19  eversource_9e1c18d8-6a01-435e-b946-e49ce8158e5... 2019-07-22 13:58:53\n",
      "20                            1-JSIJMV_7_prob_idr.csv 2019-07-22 13:46:52\n",
      "21  eversource_dffd8dcd-f5d2-4265-a1b6-9db8ae9ef2a... 2019-07-19 11:01:25\n",
      "22  eversource_dffd8dcd-f5d2-4265-a1b6-9db8ae9ef2a... 2019-07-19 11:01:01\n",
      "23  eversource_dffd8dcd-f5d2-4265-a1b6-9db8ae9ef2a... 2019-07-19 11:00:20\n",
      "24  eversource_dffd8dcd-f5d2-4265-a1b6-9db8ae9ef2a... 2019-07-19 10:59:46\n",
      "25                          metadata_query_output.csv 2019-07-19 10:08:05\n",
      "26                NEPOOL_MECO_1423314042_ch1_edit.csv 2019-07-19 09:04:54\n",
      "27               NEPOOL_CLP_51595487000_641912009.csv 2019-07-19 09:01:49\n",
      "28                    IntervalData_07192019090013.csv 2019-07-19 09:01:41\n",
      "29                                          aaaaa.lse 2019-07-19 08:53:04\n"
     ]
    }
   ],
   "source": [
    "#filepath = os.getcwd()\n",
    "readpath = 'C:\\\\Users\\\\wb5888\\\\Downloads'\n",
    "\n",
    "myfiles = IDRdrop.show_dir(readpath, 30)\n",
    "print(myfiles)"
   ]
  },
  {
   "cell_type": "markdown",
   "metadata": {},
   "source": [
    "Choose files to split into Raw IDR files."
   ]
  },
  {
   "cell_type": "code",
   "execution_count": 9,
   "metadata": {},
   "outputs": [
    {
     "name": "stdout",
     "output_type": "stream",
     "text": [
      "files to split: \n",
      "['eversource_9e1c18d8-6a01-435e-b946-e49ce8158e56_c8c6e9cc_hourlycsv.csv', 'eversource_9e1c18d8-6a01-435e-b946-e49ce8158e56_7ed9d2d0_hourlycsv.csv', 'eversource_9e1c18d8-6a01-435e-b946-e49ce8158e56_b84e022a_hourlycsv.csv', 'eversource_9e1c18d8-6a01-435e-b946-e49ce8158e56_f2de76df_hourlycsv.csv', 'eversource_9e1c18d8-6a01-435e-b946-e49ce8158e56_5a459304_hourlycsv.csv', 'eversource_9e1c18d8-6a01-435e-b946-e49ce8158e56_ffab1d9c_hourlycsv.csv', 'eversource_9e1c18d8-6a01-435e-b946-e49ce8158e56_634bccc1_hourlycsv.csv', 'eversource_9e1c18d8-6a01-435e-b946-e49ce8158e56_3680b926_hourlycsv.csv', 'eversource_9e1c18d8-6a01-435e-b946-e49ce8158e56_bf8ac328_hourlycsv.csv', 'eversource_9e1c18d8-6a01-435e-b946-e49ce8158e56_826b46a4_hourlycsv.csv', 'eversource_9e1c18d8-6a01-435e-b946-e49ce8158e56_75babe02_hourlycsv.csv', 'eversource_9e1c18d8-6a01-435e-b946-e49ce8158e56_db98444a_hourlycsv.csv', 'eversource_9e1c18d8-6a01-435e-b946-e49ce8158e56_c5904ef6_hourlycsv.csv', 'eversource_9e1c18d8-6a01-435e-b946-e49ce8158e56_35af83e2_hourlycsv.csv', 'eversource_9e1c18d8-6a01-435e-b946-e49ce8158e56_415af668_hourlycsv.csv', 'eversource_9e1c18d8-6a01-435e-b946-e49ce8158e56_2e5e5050_hourlycsv.csv', 'eversource_9e1c18d8-6a01-435e-b946-e49ce8158e56_c6d4ec8a_hourlycsv.csv', 'eversource_9e1c18d8-6a01-435e-b946-e49ce8158e56_6b99a2e3_hourlycsv.csv', 'eversource_9e1c18d8-6a01-435e-b946-e49ce8158e56_bcbdf6f3_hourlycsv.csv', 'eversource_9e1c18d8-6a01-435e-b946-e49ce8158e56_17183838_hourlycsv.csv']\n"
     ]
    }
   ],
   "source": [
    "index = [0]\n",
    "\n",
    "splitfiles = list(myfiles.files[:20])\n",
    "print('files to split: ')\n",
    "print(splitfiles)"
   ]
  },
  {
   "cell_type": "markdown",
   "metadata": {},
   "source": [
    "## Batch process downloaded EPO files into Raw IDRs"
   ]
  },
  {
   "cell_type": "markdown",
   "metadata": {},
   "source": [
    "- track overall progress"
   ]
  },
  {
   "cell_type": "code",
   "execution_count": 10,
   "metadata": {},
   "outputs": [
    {
     "name": "stdout",
     "output_type": "stream",
     "text": [
      "found 2 accounts.\n",
      "51828534040_191982001_CLP_IDR_RAW.csv  written.\n",
      "success, file:  eversource_9e1c18d8-6a01-435e-b946-e49ce8158e56_c8c6e9cc_hourlycsv.csv\n",
      "found 4 accounts.\n",
      "51174223057_961712008_CLP_IDR_RAW.csv  written.\n",
      "51410742019_399071000_CLP_IDR_RAW.csv  written.\n",
      "success, file:  eversource_9e1c18d8-6a01-435e-b946-e49ce8158e56_7ed9d2d0_hourlycsv.csv\n",
      "found 4 accounts.\n",
      "51164463044_165442005_CLP_IDR_RAW.csv  written.\n",
      "51179642020_370171001_CLP_IDR_RAW.csv  written.\n",
      "51287942056_514271007_CLP_IDR_RAW.csv  written.\n",
      "51749603031_564702002_CLP_IDR_RAW.csv  written.\n",
      "success, file:  eversource_9e1c18d8-6a01-435e-b946-e49ce8158e56_b84e022a_hourlycsv.csv\n",
      "found 4 accounts.\n",
      "51251134078_850682009_CLP_IDR_RAW.csv  written.\n",
      "51325004083_233662004_CLP_IDR_RAW.csv  written.\n",
      "51455013003_558902004_CLP_IDR_RAW.csv  written.\n",
      "51483603056_147702007_CLP_IDR_RAW.csv  written.\n",
      "success, file:  eversource_9e1c18d8-6a01-435e-b946-e49ce8158e56_f2de76df_hourlycsv.csv\n",
      "found 4 accounts.\n",
      "51143743037_393332008_CLP_IDR_RAW.csv  written.\n",
      "51407625078_377612002_CLP_IDR_RAW.csv  written.\n",
      "51453153009_864632000_CLP_IDR_RAW.csv  written.\n",
      "51722903010_452012001_CLP_IDR_RAW.csv  written.\n",
      "success, file:  eversource_9e1c18d8-6a01-435e-b946-e49ce8158e56_5a459304_hourlycsv.csv\n",
      "found 3 accounts.\n",
      "51211625066_100682009_CLP_IDR_RAW.csv  written.\n",
      "51253525059_440482001_CLP_IDR_RAW.csv  written.\n",
      "51453525057_914882004_CLP_IDR_RAW.csv  written.\n",
      "success, file:  eversource_9e1c18d8-6a01-435e-b946-e49ce8158e56_ffab1d9c_hourlycsv.csv\n",
      "found 3 accounts.\n",
      "51511745077_852513000_CLP_IDR_RAW.csv  written.\n",
      "51538123019_915712000_CLP_IDR_RAW.csv  written.\n",
      "51697523090_521022001_CLP_IDR_RAW.csv  written.\n",
      "success, file:  eversource_9e1c18d8-6a01-435e-b946-e49ce8158e56_634bccc1_hourlycsv.csv\n",
      "found 3 accounts.\n",
      "51399525039_062932005_CLP_IDR_RAW.csv  written.\n",
      "51414803064_997902005_CLP_IDR_RAW.csv  written.\n",
      "success, file:  eversource_9e1c18d8-6a01-435e-b946-e49ce8158e56_3680b926_hourlycsv.csv\n",
      "found 3 accounts.\n",
      "51251643060_135332001_CLP_IDR_RAW.csv  written.\n",
      "51270323082_322812003_CLP_IDR_RAW.csv  written.\n",
      "51555134089_118682000_CLP_IDR_RAW.csv  written.\n",
      "success, file:  eversource_9e1c18d8-6a01-435e-b946-e49ce8158e56_bf8ac328_hourlycsv.csv\n",
      "found 4 accounts.\n",
      "error pulling name for 77042000.\n",
      "error, file:  eversource_9e1c18d8-6a01-435e-b946-e49ce8158e56_826b46a4_hourlycsv.csv\n",
      "found 4 accounts.\n",
      "error pulling name for 077562A15.\n",
      "077562A15_IDR_RAW.csv  written.\n",
      "51566893020_713662001_CLP_IDR_RAW.csv  written.\n",
      "51797334042_702882003_CLP_IDR_RAW.csv  written.\n",
      "success, file:  eversource_9e1c18d8-6a01-435e-b946-e49ce8158e56_75babe02_hourlycsv.csv\n",
      "found 4 accounts.\n",
      "51132503046_871702007_CLP_IDR_RAW.csv  written.\n",
      "51481942043_595171004_CLP_IDR_RAW.csv  written.\n",
      "success, file:  eversource_9e1c18d8-6a01-435e-b946-e49ce8158e56_db98444a_hourlycsv.csv\n",
      "found 4 accounts.\n",
      "51647153097_478632008_CLP_IDR_RAW.csv  written.\n",
      "51672453040_066832001_CLP_IDR_RAW.csv  written.\n",
      "success, file:  eversource_9e1c18d8-6a01-435e-b946-e49ce8158e56_c5904ef6_hourlycsv.csv\n",
      "found 3 accounts.\n",
      "51252493093_757262004_CLP_IDR_RAW.csv  written.\n",
      "51258474089_608592006_CLP_IDR_RAW.csv  written.\n",
      "success, file:  eversource_9e1c18d8-6a01-435e-b946-e49ce8158e56_35af83e2_hourlycsv.csv\n",
      "found 2 accounts.\n",
      "51177793080_630562001_CLP_IDR_RAW.csv  written.\n",
      "51793024050_188972001_CLP_IDR_RAW.csv  written.\n",
      "success, file:  eversource_9e1c18d8-6a01-435e-b946-e49ce8158e56_415af668_hourlycsv.csv\n",
      "found 4 accounts.\n",
      "51429803075_715012006_CLP_IDR_RAW.csv  written.\n",
      "51473993061_726562002_CLP_IDR_RAW.csv  written.\n",
      "51821104080_034762001_CLP_IDR_RAW.csv  written.\n",
      "success, file:  eversource_9e1c18d8-6a01-435e-b946-e49ce8158e56_2e5e5050_hourlycsv.csv\n",
      "found 3 accounts.\n",
      "51271824005_392482006_CLP_IDR_RAW.csv  written.\n",
      "51817652050_047671001_CLP_IDR_RAW.csv  written.\n",
      "success, file:  eversource_9e1c18d8-6a01-435e-b946-e49ce8158e56_c6d4ec8a_hourlycsv.csv\n",
      "found 2 accounts.\n",
      "51694943077_678432008_CLP_IDR_RAW.csv  written.\n",
      "51749524039_175282000_CLP_IDR_RAW.csv  written.\n",
      "success, file:  eversource_9e1c18d8-6a01-435e-b946-e49ce8158e56_6b99a2e3_hourlycsv.csv\n",
      "found 3 accounts.\n",
      "51432034007_749482008_CLP_IDR_RAW.csv  written.\n",
      "51746053099_576632000_CLP_IDR_RAW.csv  written.\n",
      "success, file:  eversource_9e1c18d8-6a01-435e-b946-e49ce8158e56_bcbdf6f3_hourlycsv.csv\n",
      "found 5 accounts.\n",
      "51017593005_637362006_CLP_IDR_RAW.csv  written.\n",
      "51276642014_290171005_CLP_IDR_RAW.csv  written.\n",
      "51475742045_628171006_CLP_IDR_RAW.csv  written.\n",
      "51478542046_182071007_CLP_IDR_RAW.csv  written.\n",
      "success, file:  eversource_9e1c18d8-6a01-435e-b946-e49ce8158e56_17183838_hourlycsv.csv\n"
     ]
    }
   ],
   "source": [
    "readpath = 'C:\\\\Users\\\\wb5888\\\\Downloads'\n",
    "writepath = 'C:\\\\Users\\\\wb5888\\\\Documents\\\\Raw IDR Data'\n",
    "error_log = []\n",
    "\n",
    "for file in splitfiles:\n",
    "    try:\n",
    "        os.chdir(readpath)\n",
    "        filedf = pd.read_csv(file, sep = \",\", header = 0)\n",
    "    \n",
    "        IDRdrop.raw_split(filedf, readpath, writepath)\n",
    "        print('success, file: ', file)\n",
    "        \n",
    "    except:\n",
    "        error_log = error_log.append(file)\n",
    "        print('error, file: ', file)"
   ]
  },
  {
   "cell_type": "markdown",
   "metadata": {},
   "source": [
    "## Show Raw IDR files based on utility"
   ]
  },
  {
   "cell_type": "code",
   "execution_count": 11,
   "metadata": {},
   "outputs": [],
   "source": [
    "utility = \"CLP\""
   ]
  },
  {
   "cell_type": "markdown",
   "metadata": {},
   "source": [
    "Here *rawpath* is directory containing Raw IDRs - 25 most recent will be shown."
   ]
  },
  {
   "cell_type": "code",
   "execution_count": 12,
   "metadata": {},
   "outputs": [
    {
     "name": "stdout",
     "output_type": "stream",
     "text": [
      "files found in dir:  C:\\Users\\wb5888\\Documents\\Raw IDR Data\n",
      "                                    files                time\n",
      "0   51475742045_628171006_CLP_IDR_RAW.csv 2019-07-22 14:15:33\n",
      "1   51478542046_182071007_CLP_IDR_RAW.csv 2019-07-22 14:15:33\n",
      "2   51276642014_290171005_CLP_IDR_RAW.csv 2019-07-22 14:15:32\n",
      "3   51017593005_637362006_CLP_IDR_RAW.csv 2019-07-22 14:15:31\n",
      "4   51746053099_576632000_CLP_IDR_RAW.csv 2019-07-22 14:15:30\n",
      "5   51432034007_749482008_CLP_IDR_RAW.csv 2019-07-22 14:15:29\n",
      "6   51749524039_175282000_CLP_IDR_RAW.csv 2019-07-22 14:15:29\n",
      "7   51694943077_678432008_CLP_IDR_RAW.csv 2019-07-22 14:15:28\n",
      "8   51817652050_047671001_CLP_IDR_RAW.csv 2019-07-22 14:15:27\n",
      "9   51271824005_392482006_CLP_IDR_RAW.csv 2019-07-22 14:15:26\n",
      "10  51821104080_034762001_CLP_IDR_RAW.csv 2019-07-22 14:15:25\n",
      "11  51473993061_726562002_CLP_IDR_RAW.csv 2019-07-22 14:15:24\n",
      "12  51793024050_188972001_CLP_IDR_RAW.csv 2019-07-22 14:15:23\n",
      "13  51429803075_715012006_CLP_IDR_RAW.csv 2019-07-22 14:15:23\n",
      "14  51177793080_630562001_CLP_IDR_RAW.csv 2019-07-22 14:15:22\n",
      "15  51258474089_608592006_CLP_IDR_RAW.csv 2019-07-22 14:15:21\n",
      "16  51252493093_757262004_CLP_IDR_RAW.csv 2019-07-22 14:15:20\n",
      "17  51672453040_066832001_CLP_IDR_RAW.csv 2019-07-22 14:15:18\n",
      "18  51647153097_478632008_CLP_IDR_RAW.csv 2019-07-22 14:15:18\n",
      "19  51481942043_595171004_CLP_IDR_RAW.csv 2019-07-22 14:15:16\n",
      "20  51132503046_871702007_CLP_IDR_RAW.csv 2019-07-22 14:15:15\n",
      "21  51566893020_713662001_CLP_IDR_RAW.csv 2019-07-22 14:15:14\n",
      "22  51797334042_702882003_CLP_IDR_RAW.csv 2019-07-22 14:15:14\n",
      "23                  077562A15_IDR_RAW.csv 2019-07-22 14:15:13\n",
      "24  51555134089_118682000_CLP_IDR_RAW.csv 2019-07-22 14:15:12\n"
     ]
    }
   ],
   "source": [
    "rawpath = 'C:\\\\Users\\\\wb5888\\\\Documents\\\\Raw IDR Data'\n",
    "\n",
    "rawfiles = IDRdrop.show_dir(rawpath, 25)\n",
    "print(rawfiles)"
   ]
  },
  {
   "cell_type": "markdown",
   "metadata": {},
   "source": [
    "Choose Raw IDRs to filter into IDR files."
   ]
  },
  {
   "cell_type": "code",
   "execution_count": 16,
   "metadata": {},
   "outputs": [
    {
     "name": "stdout",
     "output_type": "stream",
     "text": [
      "files to processed: \n",
      "0     51475742045_628171006_CLP_IDR_RAW.csv\n",
      "1     51478542046_182071007_CLP_IDR_RAW.csv\n",
      "2     51276642014_290171005_CLP_IDR_RAW.csv\n",
      "3     51017593005_637362006_CLP_IDR_RAW.csv\n",
      "4     51746053099_576632000_CLP_IDR_RAW.csv\n",
      "5     51432034007_749482008_CLP_IDR_RAW.csv\n",
      "6     51749524039_175282000_CLP_IDR_RAW.csv\n",
      "7     51694943077_678432008_CLP_IDR_RAW.csv\n",
      "8     51817652050_047671001_CLP_IDR_RAW.csv\n",
      "9     51271824005_392482006_CLP_IDR_RAW.csv\n",
      "10    51821104080_034762001_CLP_IDR_RAW.csv\n",
      "11    51473993061_726562002_CLP_IDR_RAW.csv\n",
      "12    51793024050_188972001_CLP_IDR_RAW.csv\n",
      "13    51429803075_715012006_CLP_IDR_RAW.csv\n",
      "14    51177793080_630562001_CLP_IDR_RAW.csv\n",
      "15    51258474089_608592006_CLP_IDR_RAW.csv\n",
      "16    51252493093_757262004_CLP_IDR_RAW.csv\n",
      "17    51672453040_066832001_CLP_IDR_RAW.csv\n",
      "18    51647153097_478632008_CLP_IDR_RAW.csv\n",
      "19    51481942043_595171004_CLP_IDR_RAW.csv\n",
      "20    51132503046_871702007_CLP_IDR_RAW.csv\n",
      "21    51566893020_713662001_CLP_IDR_RAW.csv\n",
      "Name: files, dtype: object\n"
     ]
    }
   ],
   "source": [
    "index = [0]\n",
    "\n",
    "processfiles = rawfiles.files[:22]\n",
    "files = list(processfiles)\n",
    "print('files to processed: ')\n",
    "print(processfiles)"
   ]
  },
  {
   "cell_type": "markdown",
   "metadata": {},
   "source": [
    "## Batch filter Raw IDR into IDR files to be dropped"
   ]
  },
  {
   "cell_type": "code",
   "execution_count": 21,
   "metadata": {},
   "outputs": [
    {
     "name": "stdout",
     "output_type": "stream",
     "text": [
      "success, file:  51475742045_628171006_CLP_IDR_RAW.csv\n",
      "success, file:  51478542046_182071007_CLP_IDR_RAW.csv\n",
      "success, file:  51276642014_290171005_CLP_IDR_RAW.csv\n",
      "success, file:  51017593005_637362006_CLP_IDR_RAW.csv\n",
      "spot check output file at date  4/10/2019\n",
      "success, file:  51746053099_576632000_CLP_IDR_RAW.csv\n",
      "error, file:  51432034007_749482008_CLP_IDR_RAW.csv\n",
      "spot check output file at date  4/23/2019\n",
      "success, file:  51749524039_175282000_CLP_IDR_RAW.csv\n",
      "spot check output file at date  1/1/2019\n",
      "success, file:  51694943077_678432008_CLP_IDR_RAW.csv\n",
      "spot check output file at date  1/1/2019\n",
      "success, file:  51817652050_047671001_CLP_IDR_RAW.csv\n",
      "spot check output file at date  5/22/2019\n",
      "success, file:  51271824005_392482006_CLP_IDR_RAW.csv\n",
      "success, file:  51821104080_034762001_CLP_IDR_RAW.csv\n",
      "spot check output file at date  5/21/2019\n",
      "success, file:  51473993061_726562002_CLP_IDR_RAW.csv\n",
      "spot check output file at date  3/20/2019\n",
      "success, file:  51177793080_630562001_CLP_IDR_RAW.csv\n",
      "spot check output file at date  5/31/2019\n",
      "success, file:  51258474089_608592006_CLP_IDR_RAW.csv\n",
      "spot check output file at date  1/1/2019\n",
      "success, file:  51252493093_757262004_CLP_IDR_RAW.csv\n",
      "spot check output file at date  3/21/2019\n",
      "success, file:  51672453040_066832001_CLP_IDR_RAW.csv\n",
      "success, file:  51647153097_478632008_CLP_IDR_RAW.csv\n",
      "success, file:  51481942043_595171004_CLP_IDR_RAW.csv\n",
      "success, file:  51132503046_871702007_CLP_IDR_RAW.csv\n",
      "success, file:  51566893020_713662001_CLP_IDR_RAW.csv\n"
     ]
    }
   ],
   "source": [
    "readpath = rawpath\n",
    "writepath = 'C:\\\\Users\\\\wb5888\\\\Documents\\\\IDR Data\\\\NEPOOL\\\\'\n",
    "error_log = []\n",
    "\n",
    "for dropfile in files:\n",
    "    try:\n",
    "        IDRdrop.data_drop(dropfile, rawpath, writepath)\n",
    "        print('success, file: ', dropfile)\n",
    "    \n",
    "    except:\n",
    "        try:\n",
    "            error_log = error_log.append(dropfile)\n",
    "            print(\"error, file: \", dropfile)\n",
    "        except:\n",
    "            pass"
   ]
  },
  {
   "cell_type": "code",
   "execution_count": 24,
   "metadata": {},
   "outputs": [
    {
     "data": {
      "text/plain": [
       "NoneType"
      ]
     },
     "execution_count": 24,
     "metadata": {},
     "output_type": "execute_result"
    }
   ],
   "source": [
    "type(error_log)\n",
    "error_log"
   ]
  },
  {
   "cell_type": "code",
   "execution_count": null,
   "metadata": {},
   "outputs": [],
   "source": []
  }
 ],
 "metadata": {
  "kernelspec": {
   "display_name": "Python 3",
   "language": "python",
   "name": "python3"
  },
  "language_info": {
   "codemirror_mode": {
    "name": "ipython",
    "version": 3
   },
   "file_extension": ".py",
   "mimetype": "text/x-python",
   "name": "python",
   "nbconvert_exporter": "python",
   "pygments_lexer": "ipython3",
   "version": "3.7.3"
  }
 },
 "nbformat": 4,
 "nbformat_minor": 2
}
