{
 "cells": [
  {
   "cell_type": "markdown",
   "metadata": {},
   "source": [
    "# IDR Drop"
   ]
  },
  {
   "cell_type": "markdown",
   "metadata": {},
   "source": [
    "Implements batch tasks used for IDR drops."
   ]
  },
  {
   "cell_type": "code",
   "execution_count": 2,
   "metadata": {},
   "outputs": [
    {
     "name": "stdout",
     "output_type": "stream",
     "text": [
      "imported modules successfully.\n"
     ]
    }
   ],
   "source": [
    "import pandas as pd\n",
    "import numpy as np\n",
    "import IDRdrop\n",
    "import json\n",
    "import os\n",
    "print('imported modules successfully.')"
   ]
  },
  {
   "cell_type": "code",
   "execution_count": 3,
   "metadata": {},
   "outputs": [
    {
     "data": {
      "text/plain": [
       "'/Users/stevenhurwitt/LA-tools/IDR_Drop'"
      ]
     },
     "execution_count": 3,
     "metadata": {},
     "output_type": "execute_result"
    }
   ],
   "source": [
    "os.getcwd()"
   ]
  },
  {
   "cell_type": "markdown",
   "metadata": {},
   "source": [
    "# Show downloaded files from EPO portal"
   ]
  },
  {
   "cell_type": "markdown",
   "metadata": {},
   "source": [
    "Here *filepath* is a directory containing downloaded EPO files. Code will print 20 most recent files."
   ]
  },
  {
   "cell_type": "code",
   "execution_count": 5,
   "metadata": {},
   "outputs": [
    {
     "name": "stdout",
     "output_type": "stream",
     "text": [
      "files found in dir:  /Users/stevenhurwitt/LA-tools/IDR_Drop/Raw IDR Data\n",
      "                                               files                time\n",
      "0            WMECO_54260602099_085741000_IDR_RAW.csv 2019-09-02 12:59:53\n",
      "1                  SPLIT_FILE_ERROR_05_23_2019_2.csv 2019-09-02 12:59:53\n",
      "2              CLP_51359134038_871682009_IDR_RAW.csv 2019-09-02 12:59:53\n",
      "3              CLP_51103183075_555823005_IDR_RAW.csv 2019-09-02 12:59:53\n",
      "4              CLP_51972166003_989681003_IDR_RAW.csv 2019-09-02 12:59:53\n",
      "5     0067880031 OLD STURBRIDGE INC_MECO_IDR_RAW.csv 2019-09-02 12:59:53\n",
      "6            WMECO_54860202068_808441009_IDR_RAW.csv 2019-09-02 12:59:53\n",
      "7                 0021483009 700457_MECO_IDR_RAW.csv 2019-09-02 12:59:53\n",
      "8                 0021483009 700458_MECO_IDR_RAW.csv 2019-09-02 12:59:53\n",
      "9              CLP_51074577008_308122004_IDR_RAW.csv 2019-09-02 12:59:53\n",
      "10                   SPLIT_FILE_ERROR_05_23_2019.csv 2019-09-02 12:59:53\n",
      "11          0074816023 SALVE REGINA_MECO_IDR_RAW.csv 2019-09-02 12:59:53\n",
      "12  0040677012 JAMES CAMBELL CO LLC_MECO_IDR_RAW.csv 2019-09-02 12:59:53\n",
      "13  0021483009 GR LAWRENCE SANITARY_MECO_IDR_RAW.csv 2019-09-02 12:59:53\n",
      "14                   SPLIT_FILE_ERROR_05_24_2019.csv 2019-09-02 12:59:53\n",
      "15           WMECO_54629602087_702741008_IDR_RAW.csv 2019-09-02 12:59:53\n",
      "16             CLP_51271266066_097681001_IDR_RAW.csv 2019-09-02 12:59:53\n",
      "17             CLP_51432004075_932392009_IDR_RAW.csv 2019-09-02 12:59:53\n",
      "18           WMECO_54024602039_024741000_IDR_RAW.csv 2019-09-02 12:59:53\n"
     ]
    }
   ],
   "source": [
    "readpath = '/Users/stevenhurwitt/LA-tools/IDR_Drop/Raw IDR Data'\n",
    "\n",
    "myfiles = IDRdrop.show_dir(readpath, 20)\n",
    "print(myfiles)"
   ]
  },
  {
   "cell_type": "markdown",
   "metadata": {},
   "source": [
    "Choose files to split into Raw IDR files."
   ]
  },
  {
   "cell_type": "code",
   "execution_count": 6,
   "metadata": {},
   "outputs": [
    {
     "name": "stdout",
     "output_type": "stream",
     "text": [
      "files to split: \n",
      "['WMECO_54260602099_085741000_IDR_RAW.csv']\n"
     ]
    }
   ],
   "source": [
    "index = [0]\n",
    "\n",
    "splitfiles = list(myfiles.files[index])\n",
    "print('files to split: ')\n",
    "print(splitfiles)"
   ]
  },
  {
   "cell_type": "markdown",
   "metadata": {},
   "source": [
    "## Batch process downloaded EPO files into Raw IDRs"
   ]
  },
  {
   "cell_type": "code",
   "execution_count": 27,
   "metadata": {},
   "outputs": [
    {
     "name": "stdout",
     "output_type": "stream",
     "text": [
      "found 2 accounts.\n",
      "error pulling name for 26335201039.\n",
      "26335201039_IDR_RAW.csv  written.\n",
      "error pulling name for 26745711056.\n",
      "26745711056_IDR_RAW.csv  written.\n",
      "success, file:  eversource_f03be128-48df-452b-b047-a6632e3b6cc3_0d7d5335_hourlycsv.csv\n"
     ]
    }
   ],
   "source": [
    "readpath = '/home/jupyter-engiela/la-tools-test/IDR_Drop/Raw_IDR'\n",
    "writepath = '/home/jupyter-engiela/la-tools-test/IDR_Drop/Raw_IDR'\n",
    "utility = 'MECO'\n",
    "error_log = []\n",
    "\n",
    "for file in splitfiles:\n",
    "    try:\n",
    "        os.chdir(readpath)\n",
    "        filedf = pd.read_csv(file, sep = \",\", header = 0)\n",
    "    \n",
    "        IDRdrop.raw_split(filedf, readpath, writepath, utility)\n",
    "        print('success, file: ', file)\n",
    "        \n",
    "    except:\n",
    "        error_log = error_log.append(file)\n",
    "        print('error, file: ', file)"
   ]
  },
  {
   "cell_type": "markdown",
   "metadata": {},
   "source": [
    "## Show Raw IDR files based on utility"
   ]
  },
  {
   "cell_type": "markdown",
   "metadata": {},
   "source": [
    "Here *rawpath* is directory containing Raw IDRs - 25 most recent will be shown."
   ]
  },
  {
   "cell_type": "code",
   "execution_count": 28,
   "metadata": {},
   "outputs": [
    {
     "name": "stdout",
     "output_type": "stream",
     "text": [
      "files found in dir:  C:\\Users\\wb5888\\Documents\\Raw IDR Data\n",
      "                                    files                time\n",
      "0                 26745711056_IDR_RAW.csv 2019-08-30 11:09:33\n",
      "1                 26335201039_IDR_RAW.csv 2019-08-30 11:09:33\n",
      "2            BECO_26745711056_IDR_RAW.csv 2019-08-30 11:07:01\n",
      "3            BECO_26335201039_IDR_RAW.csv 2019-08-30 11:07:00\n",
      "4             MECO_7529758000_IDR_RAW.csv 2019-08-30 07:53:27\n",
      "5   51069356095_049761001_CLP_IDR_RAW.csv 2019-08-29 15:57:00\n",
      "6             MECO_7561603019_IDR_RAW.csv 2019-08-29 13:49:42\n",
      "7             MECO_8958568019_IDR_RAW.csv 2019-08-29 13:32:20\n",
      "8             MECO_1537099023_IDR_RAW.csv 2019-08-29 13:32:19\n",
      "9             MECO_9111941004_IDR_RAW.csv 2019-08-29 11:39:05\n",
      "10            MECO_2734134002_IDR_RAW.csv 2019-08-29 11:39:04\n",
      "11            MECO_8918994008_IDR_RAW.csv 2019-08-28 15:57:47\n",
      "12                 1593232002_IDR_RAW.csv 2019-08-28 15:57:46\n",
      "13            MECO_7671694024_IDR_RAW.csv 2019-08-28 15:57:46\n",
      "14            MECO_1440866027_IDR_RAW.csv 2019-08-28 15:57:45\n",
      "15                 1278488011_IDR_RAW.csv 2019-08-28 15:57:45\n",
      "16            MECO_0201874008_IDR_RAW.csv 2019-08-28 15:57:44\n",
      "17            MECO_1593232002_IDR_RAW.csv 2019-08-28 15:40:33\n",
      "18            MECO_1278488011_IDR_RAW.csv 2019-08-28 15:40:33\n",
      "19             NRI_3811847009_IDR_RAW.csv 2019-08-22 12:02:59\n"
     ]
    }
   ],
   "source": [
    "rawfiles = IDRdrop.show_dir(writepath, 20)\n",
    "print(rawfiles)"
   ]
  },
  {
   "cell_type": "markdown",
   "metadata": {},
   "source": [
    "Choose Raw IDRs to filter into IDR files."
   ]
  },
  {
   "cell_type": "code",
   "execution_count": 29,
   "metadata": {},
   "outputs": [
    {
     "name": "stdout",
     "output_type": "stream",
     "text": [
      "files to process: \n",
      "2    BECO_26745711056_IDR_RAW.csv\n",
      "3    BECO_26335201039_IDR_RAW.csv\n",
      "Name: files, dtype: object\n"
     ]
    }
   ],
   "source": [
    "index = [3]\n",
    "\n",
    "processfiles = rawfiles.files[2:4]\n",
    "files = list(processfiles)\n",
    "print('files to process: ')\n",
    "print(processfiles)"
   ]
  },
  {
   "cell_type": "markdown",
   "metadata": {},
   "source": [
    "## Batch filter Raw IDR into IDR files to be dropped"
   ]
  },
  {
   "cell_type": "code",
   "execution_count": 30,
   "metadata": {},
   "outputs": [
    {
     "name": "stdout",
     "output_type": "stream",
     "text": [
      "success, file:  BECO_26745711056_IDR_RAW.csv\n",
      "success, file:  BECO_26335201039_IDR_RAW.csv\n"
     ]
    }
   ],
   "source": [
    "writepath = '/home/jupyter-engiela/la-tools-test/IDR_Drop/IDR'\n",
    "error_log = []\n",
    "\n",
    "for dropfile in files:\n",
    "    try:\n",
    "        IDRdrop.data_drop(dropfile, readpath, writepath)\n",
    "        print('success, file: ', dropfile)\n",
    "    \n",
    "    except:\n",
    "        try:\n",
    "            error_log = error_log.append(dropfile)\n",
    "            print(\"error, file: \", dropfile)\n",
    "        except:\n",
    "            pass"
   ]
  },
  {
   "cell_type": "code",
   "execution_count": 13,
   "metadata": {},
   "outputs": [
    {
     "data": {
      "text/plain": [
       "[]"
      ]
     },
     "execution_count": 13,
     "metadata": {},
     "output_type": "execute_result"
    }
   ],
   "source": [
    "type(error_log)\n",
    "error_log"
   ]
  },
  {
   "cell_type": "markdown",
   "metadata": {},
   "source": [
    "### Change meters to vertical"
   ]
  },
  {
   "cell_type": "code",
   "execution_count": 31,
   "metadata": {},
   "outputs": [
    {
     "name": "stdout",
     "output_type": "stream",
     "text": [
      "files found in dir:  C:\\Users\\wb5888\\Documents\\IDR Data\\NEPOOL\\BECO\n"
     ]
    },
    {
     "data": {
      "text/html": [
       "<div>\n",
       "<style scoped>\n",
       "    .dataframe tbody tr th:only-of-type {\n",
       "        vertical-align: middle;\n",
       "    }\n",
       "\n",
       "    .dataframe tbody tr th {\n",
       "        vertical-align: top;\n",
       "    }\n",
       "\n",
       "    .dataframe thead th {\n",
       "        text-align: right;\n",
       "    }\n",
       "</style>\n",
       "<table border=\"1\" class=\"dataframe\">\n",
       "  <thead>\n",
       "    <tr style=\"text-align: right;\">\n",
       "      <th></th>\n",
       "      <th>files</th>\n",
       "      <th>time</th>\n",
       "    </tr>\n",
       "  </thead>\n",
       "  <tbody>\n",
       "    <tr>\n",
       "      <th>0</th>\n",
       "      <td>BECO_26745711056_IDR.csv</td>\n",
       "      <td>2019-08-30 11:10:02</td>\n",
       "    </tr>\n",
       "    <tr>\n",
       "      <th>1</th>\n",
       "      <td>BECO_26335201039_IDR.csv</td>\n",
       "      <td>2019-08-30 11:10:02</td>\n",
       "    </tr>\n",
       "    <tr>\n",
       "      <th>2</th>\n",
       "      <td>NEPOOL_BECO_28344590048_ch3_to_288.lse</td>\n",
       "      <td>2019-08-29 15:49:47</td>\n",
       "    </tr>\n",
       "    <tr>\n",
       "      <th>3</th>\n",
       "      <td>28344590048_BECO_IDR.csv</td>\n",
       "      <td>2019-08-29 12:49:17</td>\n",
       "    </tr>\n",
       "    <tr>\n",
       "      <th>4</th>\n",
       "      <td>BECO_28458630010_IDR.xlsx</td>\n",
       "      <td>2019-08-28 16:40:33</td>\n",
       "    </tr>\n",
       "    <tr>\n",
       "      <th>5</th>\n",
       "      <td>BECO_29884680017_IDR.csv</td>\n",
       "      <td>2019-08-28 12:44:20</td>\n",
       "    </tr>\n",
       "    <tr>\n",
       "      <th>6</th>\n",
       "      <td>NEPOOL_BECO_28303990015_101_to_1.lse</td>\n",
       "      <td>2019-08-26 11:07:33</td>\n",
       "    </tr>\n",
       "    <tr>\n",
       "      <th>7</th>\n",
       "      <td>NEPOOL_BECO_28303980016_101_to_1.lse</td>\n",
       "      <td>2019-08-26 11:04:51</td>\n",
       "    </tr>\n",
       "    <tr>\n",
       "      <th>8</th>\n",
       "      <td>NEPOOL_BECO_28303970017_101_to_1.lse</td>\n",
       "      <td>2019-08-26 11:03:24</td>\n",
       "    </tr>\n",
       "    <tr>\n",
       "      <th>9</th>\n",
       "      <td>NEPOOL_BECO_24035081025_zero_usage_forecast.csv</td>\n",
       "      <td>2019-08-21 16:23:55</td>\n",
       "    </tr>\n",
       "  </tbody>\n",
       "</table>\n",
       "</div>"
      ],
      "text/plain": [
       "                                             files                time\n",
       "0                         BECO_26745711056_IDR.csv 2019-08-30 11:10:02\n",
       "1                         BECO_26335201039_IDR.csv 2019-08-30 11:10:02\n",
       "2           NEPOOL_BECO_28344590048_ch3_to_288.lse 2019-08-29 15:49:47\n",
       "3                         28344590048_BECO_IDR.csv 2019-08-29 12:49:17\n",
       "4                        BECO_28458630010_IDR.xlsx 2019-08-28 16:40:33\n",
       "5                         BECO_29884680017_IDR.csv 2019-08-28 12:44:20\n",
       "6             NEPOOL_BECO_28303990015_101_to_1.lse 2019-08-26 11:07:33\n",
       "7             NEPOOL_BECO_28303980016_101_to_1.lse 2019-08-26 11:04:51\n",
       "8             NEPOOL_BECO_28303970017_101_to_1.lse 2019-08-26 11:03:24\n",
       "9  NEPOOL_BECO_24035081025_zero_usage_forecast.csv 2019-08-21 16:23:55"
      ]
     },
     "execution_count": 31,
     "metadata": {},
     "output_type": "execute_result"
    }
   ],
   "source": [
    "data_dir = '/home/jupyter-engiela/la-tools-test/IDR_Drop/IDR'\n",
    "os.chdir(data_dir)\n",
    "idr = IDRdrop.show_dir(data_dir, 10)\n",
    "idr"
   ]
  },
  {
   "cell_type": "code",
   "execution_count": 33,
   "metadata": {},
   "outputs": [
    {
     "name": "stdout",
     "output_type": "stream",
     "text": [
      "transformed and wrote BECO_26745711056_IDR.csv to BECO_26745711056_IDR_vert.csv.\n",
      "transformed and wrote BECO_26335201039_IDR.csv to BECO_26335201039_IDR_vert.csv.\n"
     ]
    }
   ],
   "source": [
    "myfiles = idr.files[:2]\n",
    "for f in myfiles:\n",
    "    IDRdrop.hor_to_vert(f)"
   ]
  }
 ],
 "metadata": {
  "kernelspec": {
   "display_name": "Python 3",
   "language": "python",
   "name": "python3"
  },
  "language_info": {
   "codemirror_mode": {
    "name": "ipython",
    "version": 3
   },
   "file_extension": ".py",
   "mimetype": "text/x-python",
   "name": "python",
   "nbconvert_exporter": "python",
   "pygments_lexer": "ipython3",
   "version": "3.6.4"
  }
 },
 "nbformat": 4,
 "nbformat_minor": 2
}
