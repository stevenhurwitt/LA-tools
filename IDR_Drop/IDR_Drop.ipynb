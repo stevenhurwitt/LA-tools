{
 "cells": [
  {
   "cell_type": "markdown",
   "metadata": {},
   "source": [
    "# IDR Drop"
   ]
  },
  {
   "cell_type": "markdown",
   "metadata": {},
   "source": [
    "Implements batch tasks used for IDR drops."
   ]
  },
  {
   "cell_type": "code",
   "execution_count": 1,
   "metadata": {},
   "outputs": [
    {
     "name": "stdout",
     "output_type": "stream",
     "text": [
      "imported modules successfully.\n"
     ]
    }
   ],
   "source": [
    "import pandas as pd\n",
    "import numpy as np\n",
    "import IDRdrop\n",
    "import json\n",
    "import os\n",
    "print('imported modules successfully.')"
   ]
  },
  {
   "cell_type": "code",
   "execution_count": 3,
   "metadata": {},
   "outputs": [
    {
     "data": {
      "text/plain": [
       "'C:\\\\Users\\\\steve\\\\Documents\\\\LA-tools\\\\IDR_Drop'"
      ]
     },
     "execution_count": 3,
     "metadata": {},
     "output_type": "execute_result"
    }
   ],
   "source": [
    "os.getcwd()"
   ]
  },
  {
   "cell_type": "markdown",
   "metadata": {},
   "source": [
    "# Show downloaded files from EPO portal"
   ]
  },
  {
   "cell_type": "markdown",
   "metadata": {},
   "source": [
    "Here *filepath* is a directory containing downloaded EPO files. Code will print 20 most recent files."
   ]
  },
  {
   "cell_type": "code",
   "execution_count": 2,
   "metadata": {},
   "outputs": [
    {
     "name": "stdout",
     "output_type": "stream",
     "text": [
      "files found in dir:  C:\\Users\\steve\\Downloads\n",
      "                                               files                time\n",
      "0  ngrid_7711bb93-679b-431f-b271-8adb97e59deb_5da... 2019-11-30 14:37:50\n",
      "1               Anaconda3-2019.10-Windows-x86_64.exe 2019-11-28 20:43:15\n",
      "2                                        desktop.ini 2019-11-25 11:44:07\n"
     ]
    }
   ],
   "source": [
    "readpath = 'C:\\\\Users\\\\steve\\\\Downloads'\n",
    "\n",
    "myfiles = IDRdrop.show_dir(readpath, 20)\n",
    "print(myfiles)"
   ]
  },
  {
   "cell_type": "markdown",
   "metadata": {},
   "source": [
    "Choose files to split into Raw IDR files."
   ]
  },
  {
   "cell_type": "code",
   "execution_count": 3,
   "metadata": {},
   "outputs": [
    {
     "name": "stdout",
     "output_type": "stream",
     "text": [
      "files to split: \n",
      "['ngrid_7711bb93-679b-431f-b271-8adb97e59deb_5dab0570_hourlycsv.csv']\n"
     ]
    }
   ],
   "source": [
    "index = [0]\n",
    "\n",
    "splitfiles = list(myfiles.files[index])\n",
    "print('files to split: ')\n",
    "print(splitfiles)"
   ]
  },
  {
   "cell_type": "markdown",
   "metadata": {},
   "source": [
    "## Batch process downloaded EPO files into Raw IDRs"
   ]
  },
  {
   "cell_type": "code",
   "execution_count": 8,
   "metadata": {},
   "outputs": [
    {
     "name": "stdout",
     "output_type": "stream",
     "text": [
      "found 3 accounts.\n",
      "MECO_0109757002_IDR_RAW.csv  written.\n",
      "MECO_0111091000_IDR_RAW.csv  written.\n",
      "MECO_0121947000_IDR_RAW.csv  written.\n",
      "success, file:  ngrid_7711bb93-679b-431f-b271-8adb97e59deb_5dab0570_hourlycsv.csv\n"
     ]
    }
   ],
   "source": [
    "readpath = 'C:\\\\Users\\\\steve\\\\Downloads'\n",
    "writepath = 'C:\\\\Users\\\\steve\\\\Documents\\\\LA-tools\\\\IDR_Drop\\\\Raw IDR Data'\n",
    "utility = 'MECO'\n",
    "accts = None\n",
    "error_log = []\n",
    "\n",
    "for file in splitfiles:\n",
    "    try:\n",
    "        os.chdir(readpath)\n",
    "        filedf = pd.read_csv(file, sep = \",\", header = 0)\n",
    "    \n",
    "        IDRdrop.raw_split(filedf, readpath, writepath, utility)\n",
    "        print('success, file: ', file)\n",
    "        \n",
    "    except:\n",
    "        error_log = error_log.append(file)\n",
    "        print('error, file: ', file)"
   ]
  },
  {
   "cell_type": "markdown",
   "metadata": {},
   "source": [
    "## Show Raw IDR files based on utility"
   ]
  },
  {
   "cell_type": "markdown",
   "metadata": {},
   "source": [
    "Here *rawpath* is directory containing Raw IDRs - 25 most recent will be shown."
   ]
  },
  {
   "cell_type": "code",
   "execution_count": 9,
   "metadata": {},
   "outputs": [
    {
     "name": "stdout",
     "output_type": "stream",
     "text": [
      "files found in dir:  C:\\Users\\steve\\Documents\\LA-tools\\IDR_Drop\\Raw IDR Data\n",
      "                                               files                time\n",
      "0                        MECO_0121947000_IDR_RAW.csv 2019-11-30 14:43:42\n",
      "1                        MECO_0111091000_IDR_RAW.csv 2019-11-30 14:43:42\n",
      "2                        MECO_0109757002_IDR_RAW.csv 2019-11-30 14:43:42\n",
      "3                 0021483009 700457_MECO_IDR_RAW.csv 2019-11-25 12:10:41\n",
      "4                 0021483009 700458_MECO_IDR_RAW.csv 2019-11-25 12:10:41\n",
      "5            WMECO_54629602087_702741008_IDR_RAW.csv 2019-11-25 12:10:41\n",
      "6            WMECO_54260602099_085741000_IDR_RAW.csv 2019-11-25 12:10:41\n",
      "7            WMECO_54024602039_024741000_IDR_RAW.csv 2019-11-25 12:10:41\n",
      "8                    SPLIT_FILE_ERROR_05_24_2019.csv 2019-11-25 12:10:41\n",
      "9                  SPLIT_FILE_ERROR_05_23_2019_2.csv 2019-11-25 12:10:41\n",
      "10                   SPLIT_FILE_ERROR_05_23_2019.csv 2019-11-25 12:10:41\n",
      "11             CLP_51972166003_989681003_IDR_RAW.csv 2019-11-25 12:10:41\n",
      "12             CLP_51432004075_932392009_IDR_RAW.csv 2019-11-25 12:10:41\n",
      "13             CLP_51359134038_871682009_IDR_RAW.csv 2019-11-25 12:10:41\n",
      "14             CLP_51271266066_097681001_IDR_RAW.csv 2019-11-25 12:10:41\n",
      "15             CLP_51103183075_555823005_IDR_RAW.csv 2019-11-25 12:10:41\n",
      "16             CLP_51074577008_308122004_IDR_RAW.csv 2019-11-25 12:10:41\n",
      "17          0074816023 SALVE REGINA_MECO_IDR_RAW.csv 2019-11-25 12:10:41\n",
      "18    0067880031 OLD STURBRIDGE INC_MECO_IDR_RAW.csv 2019-11-25 12:10:41\n",
      "19  0040677012 JAMES CAMBELL CO LLC_MECO_IDR_RAW.csv 2019-11-25 12:10:41\n"
     ]
    }
   ],
   "source": [
    "rawfiles = IDRdrop.show_dir(writepath, 20)\n",
    "print(rawfiles)"
   ]
  },
  {
   "cell_type": "markdown",
   "metadata": {},
   "source": [
    "Choose Raw IDRs to filter into IDR files."
   ]
  },
  {
   "cell_type": "code",
   "execution_count": 11,
   "metadata": {},
   "outputs": [
    {
     "name": "stdout",
     "output_type": "stream",
     "text": [
      "files to process: \n",
      "0    MECO_0121947000_IDR_RAW.csv\n",
      "1    MECO_0111091000_IDR_RAW.csv\n",
      "2    MECO_0109757002_IDR_RAW.csv\n",
      "Name: files, dtype: object\n"
     ]
    }
   ],
   "source": [
    "index = [3]\n",
    "\n",
    "processfiles = rawfiles.files[:3]\n",
    "files = list(processfiles)\n",
    "print('files to process: ')\n",
    "print(processfiles)"
   ]
  },
  {
   "cell_type": "markdown",
   "metadata": {},
   "source": [
    "## Batch filter Raw IDR into IDR files to be dropped"
   ]
  },
  {
   "cell_type": "code",
   "execution_count": 13,
   "metadata": {},
   "outputs": [
    {
     "name": "stdout",
     "output_type": "stream",
     "text": [
      "success, file:  MECO_0121947000_IDR_RAW.csv\n",
      "success, file:  MECO_0111091000_IDR_RAW.csv\n",
      "success, file:  MECO_0109757002_IDR_RAW.csv\n"
     ]
    }
   ],
   "source": [
    "readpath = 'C:\\\\Users\\\\steve\\\\Documents\\\\LA-tools\\\\IDR_Drop\\\\Raw IDR Data'\n",
    "writepath = 'C:\\\\Users\\\\steve\\\\Documents\\\\LA-tools\\\\IDR_Drop\\\\IDR Data'\n",
    "error_log = []\n",
    "\n",
    "for dropfile in files:\n",
    "    try:\n",
    "        IDRdrop.data_drop(dropfile, readpath, writepath)\n",
    "        print('success, file: ', dropfile)\n",
    "    \n",
    "    except:\n",
    "        try:\n",
    "            error_log = error_log.append(dropfile)\n",
    "            print(\"error, file: \", dropfile)\n",
    "        except:\n",
    "            pass"
   ]
  },
  {
   "cell_type": "code",
   "execution_count": 13,
   "metadata": {},
   "outputs": [
    {
     "data": {
      "text/plain": [
       "[]"
      ]
     },
     "execution_count": 13,
     "metadata": {},
     "output_type": "execute_result"
    }
   ],
   "source": [
    "type(error_log)\n",
    "error_log"
   ]
  },
  {
   "cell_type": "markdown",
   "metadata": {},
   "source": [
    "### Change meters to vertical"
   ]
  },
  {
   "cell_type": "code",
   "execution_count": 14,
   "metadata": {},
   "outputs": [
    {
     "name": "stdout",
     "output_type": "stream",
     "text": [
      "files found in dir:  C:\\Users\\steve\\Documents\\LA-tools\\IDR_Drop\\IDR Data\n"
     ]
    },
    {
     "data": {
      "text/html": [
       "<div>\n",
       "<style scoped>\n",
       "    .dataframe tbody tr th:only-of-type {\n",
       "        vertical-align: middle;\n",
       "    }\n",
       "\n",
       "    .dataframe tbody tr th {\n",
       "        vertical-align: top;\n",
       "    }\n",
       "\n",
       "    .dataframe thead th {\n",
       "        text-align: right;\n",
       "    }\n",
       "</style>\n",
       "<table border=\"1\" class=\"dataframe\">\n",
       "  <thead>\n",
       "    <tr style=\"text-align: right;\">\n",
       "      <th></th>\n",
       "      <th>files</th>\n",
       "      <th>time</th>\n",
       "    </tr>\n",
       "  </thead>\n",
       "  <tbody>\n",
       "    <tr>\n",
       "      <td>0</td>\n",
       "      <td>MECO_0109757002_IDR.csv</td>\n",
       "      <td>2019-11-30 14:44:55</td>\n",
       "    </tr>\n",
       "    <tr>\n",
       "      <td>1</td>\n",
       "      <td>MECO_0111091000_IDR.csv</td>\n",
       "      <td>2019-11-30 14:44:55</td>\n",
       "    </tr>\n",
       "    <tr>\n",
       "      <td>2</td>\n",
       "      <td>MECO_0121947000_IDR.csv</td>\n",
       "      <td>2019-11-30 14:44:55</td>\n",
       "    </tr>\n",
       "    <tr>\n",
       "      <td>3</td>\n",
       "      <td>._0021483009 700457_MECO_IDR.csv</td>\n",
       "      <td>2019-11-25 12:10:41</td>\n",
       "    </tr>\n",
       "    <tr>\n",
       "      <td>4</td>\n",
       "      <td>0021483009 700457_MECO_IDR.csv</td>\n",
       "      <td>2019-11-25 12:10:41</td>\n",
       "    </tr>\n",
       "    <tr>\n",
       "      <td>5</td>\n",
       "      <td>0021483009 700458_MECO_IDR.csv</td>\n",
       "      <td>2019-11-25 12:10:41</td>\n",
       "    </tr>\n",
       "    <tr>\n",
       "      <td>6</td>\n",
       "      <td>0021483009 GR LAWRENCE SANITARY_MECO_IDR.csv</td>\n",
       "      <td>2019-11-25 12:10:41</td>\n",
       "    </tr>\n",
       "    <tr>\n",
       "      <td>7</td>\n",
       "      <td>0040677012 JAMES CAMBELL CO LLC_MECO_IDR.csv</td>\n",
       "      <td>2019-11-25 12:10:41</td>\n",
       "    </tr>\n",
       "    <tr>\n",
       "      <td>8</td>\n",
       "      <td>0067880031 OLD STURBRIDGE INC_MECO_IDR.csv</td>\n",
       "      <td>2019-11-25 12:10:41</td>\n",
       "    </tr>\n",
       "    <tr>\n",
       "      <td>9</td>\n",
       "      <td>0074816023 SALVE REGINA_MECO_IDR.csv</td>\n",
       "      <td>2019-11-25 12:10:41</td>\n",
       "    </tr>\n",
       "  </tbody>\n",
       "</table>\n",
       "</div>"
      ],
      "text/plain": [
       "                                          files                time\n",
       "0                       MECO_0109757002_IDR.csv 2019-11-30 14:44:55\n",
       "1                       MECO_0111091000_IDR.csv 2019-11-30 14:44:55\n",
       "2                       MECO_0121947000_IDR.csv 2019-11-30 14:44:55\n",
       "3              ._0021483009 700457_MECO_IDR.csv 2019-11-25 12:10:41\n",
       "4                0021483009 700457_MECO_IDR.csv 2019-11-25 12:10:41\n",
       "5                0021483009 700458_MECO_IDR.csv 2019-11-25 12:10:41\n",
       "6  0021483009 GR LAWRENCE SANITARY_MECO_IDR.csv 2019-11-25 12:10:41\n",
       "7  0040677012 JAMES CAMBELL CO LLC_MECO_IDR.csv 2019-11-25 12:10:41\n",
       "8    0067880031 OLD STURBRIDGE INC_MECO_IDR.csv 2019-11-25 12:10:41\n",
       "9          0074816023 SALVE REGINA_MECO_IDR.csv 2019-11-25 12:10:41"
      ]
     },
     "execution_count": 14,
     "metadata": {},
     "output_type": "execute_result"
    }
   ],
   "source": [
    "data_dir = 'C:\\\\Users\\\\steve\\\\Documents\\\\LA-tools\\\\IDR_Drop\\\\IDR Data'\n",
    "os.chdir(data_dir)\n",
    "idr = IDRdrop.show_dir(data_dir, 10)\n",
    "idr"
   ]
  },
  {
   "cell_type": "code",
   "execution_count": 15,
   "metadata": {},
   "outputs": [
    {
     "name": "stdout",
     "output_type": "stream",
     "text": [
      "transformed and wrote MECO_0109757002_IDR.csv to MECO_0109757002_IDR_vert.csv.\n",
      "transformed and wrote MECO_0111091000_IDR.csv to MECO_0111091000_IDR_vert.csv.\n",
      "transformed and wrote MECO_0121947000_IDR.csv to MECO_0121947000_IDR_vert.csv.\n"
     ]
    }
   ],
   "source": [
    "myfiles = idr.files[:3]\n",
    "for f in myfiles:\n",
    "    IDRdrop.hor_to_vert(f)"
   ]
  },
  {
   "cell_type": "code",
   "execution_count": 15,
   "metadata": {},
   "outputs": [
    {
     "data": {
      "text/html": [
       "<div>\n",
       "<style scoped>\n",
       "    .dataframe tbody tr th:only-of-type {\n",
       "        vertical-align: middle;\n",
       "    }\n",
       "\n",
       "    .dataframe tbody tr th {\n",
       "        vertical-align: top;\n",
       "    }\n",
       "\n",
       "    .dataframe thead th {\n",
       "        text-align: right;\n",
       "    }\n",
       "</style>\n",
       "<table border=\"1\" class=\"dataframe\">\n",
       "  <thead>\n",
       "    <tr style=\"text-align: right;\">\n",
       "      <th></th>\n",
       "      <th>t</th>\n",
       "      <th>v</th>\n",
       "    </tr>\n",
       "  </thead>\n",
       "  <tbody>\n",
       "    <tr>\n",
       "      <th>0</th>\n",
       "      <td>2018-04-16 01:00:00</td>\n",
       "      <td>86.400</td>\n",
       "    </tr>\n",
       "    <tr>\n",
       "      <th>1</th>\n",
       "      <td>2018-04-16 02:00:00</td>\n",
       "      <td>91.692</td>\n",
       "    </tr>\n",
       "    <tr>\n",
       "      <th>2</th>\n",
       "      <td>2018-04-16 03:00:00</td>\n",
       "      <td>90.072</td>\n",
       "    </tr>\n",
       "    <tr>\n",
       "      <th>3</th>\n",
       "      <td>2018-04-16 04:00:00</td>\n",
       "      <td>94.608</td>\n",
       "    </tr>\n",
       "    <tr>\n",
       "      <th>4</th>\n",
       "      <td>2018-04-16 05:00:00</td>\n",
       "      <td>117.504</td>\n",
       "    </tr>\n",
       "    <tr>\n",
       "      <th>5</th>\n",
       "      <td>2018-04-16 06:00:00</td>\n",
       "      <td>206.604</td>\n",
       "    </tr>\n",
       "    <tr>\n",
       "      <th>6</th>\n",
       "      <td>2018-04-16 07:00:00</td>\n",
       "      <td>245.052</td>\n",
       "    </tr>\n",
       "    <tr>\n",
       "      <th>7</th>\n",
       "      <td>2018-04-16 08:00:00</td>\n",
       "      <td>273.888</td>\n",
       "    </tr>\n",
       "    <tr>\n",
       "      <th>8</th>\n",
       "      <td>2018-04-16 09:00:00</td>\n",
       "      <td>300.996</td>\n",
       "    </tr>\n",
       "    <tr>\n",
       "      <th>9</th>\n",
       "      <td>2018-04-16 10:00:00</td>\n",
       "      <td>292.140</td>\n",
       "    </tr>\n",
       "    <tr>\n",
       "      <th>10</th>\n",
       "      <td>2018-04-16 11:00:00</td>\n",
       "      <td>313.308</td>\n",
       "    </tr>\n",
       "    <tr>\n",
       "      <th>11</th>\n",
       "      <td>2018-04-16 12:00:00</td>\n",
       "      <td>296.676</td>\n",
       "    </tr>\n",
       "    <tr>\n",
       "      <th>12</th>\n",
       "      <td>2018-04-16 13:00:00</td>\n",
       "      <td>261.900</td>\n",
       "    </tr>\n",
       "    <tr>\n",
       "      <th>13</th>\n",
       "      <td>2018-04-16 14:00:00</td>\n",
       "      <td>203.040</td>\n",
       "    </tr>\n",
       "    <tr>\n",
       "      <th>14</th>\n",
       "      <td>2018-04-16 15:00:00</td>\n",
       "      <td>205.416</td>\n",
       "    </tr>\n",
       "    <tr>\n",
       "      <th>15</th>\n",
       "      <td>2018-04-16 16:00:00</td>\n",
       "      <td>166.320</td>\n",
       "    </tr>\n",
       "    <tr>\n",
       "      <th>16</th>\n",
       "      <td>2018-04-16 17:00:00</td>\n",
       "      <td>169.884</td>\n",
       "    </tr>\n",
       "    <tr>\n",
       "      <th>17</th>\n",
       "      <td>2018-04-16 18:00:00</td>\n",
       "      <td>187.056</td>\n",
       "    </tr>\n",
       "    <tr>\n",
       "      <th>18</th>\n",
       "      <td>2018-04-16 19:00:00</td>\n",
       "      <td>190.080</td>\n",
       "    </tr>\n",
       "    <tr>\n",
       "      <th>19</th>\n",
       "      <td>2018-04-16 20:00:00</td>\n",
       "      <td>130.464</td>\n",
       "    </tr>\n",
       "    <tr>\n",
       "      <th>20</th>\n",
       "      <td>2018-04-16 21:00:00</td>\n",
       "      <td>104.328</td>\n",
       "    </tr>\n",
       "    <tr>\n",
       "      <th>21</th>\n",
       "      <td>2018-04-16 22:00:00</td>\n",
       "      <td>91.368</td>\n",
       "    </tr>\n",
       "    <tr>\n",
       "      <th>22</th>\n",
       "      <td>2018-04-16 23:00:00</td>\n",
       "      <td>83.376</td>\n",
       "    </tr>\n",
       "    <tr>\n",
       "      <th>23</th>\n",
       "      <td>2018-04-17 00:00:00</td>\n",
       "      <td>90.288</td>\n",
       "    </tr>\n",
       "    <tr>\n",
       "      <th>24</th>\n",
       "      <td>2018-04-17 01:00:00</td>\n",
       "      <td>82.512</td>\n",
       "    </tr>\n",
       "    <tr>\n",
       "      <th>25</th>\n",
       "      <td>2018-04-17 02:00:00</td>\n",
       "      <td>82.458</td>\n",
       "    </tr>\n",
       "    <tr>\n",
       "      <th>26</th>\n",
       "      <td>2018-04-17 03:00:00</td>\n",
       "      <td>82.404</td>\n",
       "    </tr>\n",
       "    <tr>\n",
       "      <th>27</th>\n",
       "      <td>2018-04-17 04:00:00</td>\n",
       "      <td>83.808</td>\n",
       "    </tr>\n",
       "    <tr>\n",
       "      <th>28</th>\n",
       "      <td>2018-04-17 05:00:00</td>\n",
       "      <td>105.624</td>\n",
       "    </tr>\n",
       "    <tr>\n",
       "      <th>29</th>\n",
       "      <td>2018-04-17 06:00:00</td>\n",
       "      <td>174.204</td>\n",
       "    </tr>\n",
       "    <tr>\n",
       "      <th>...</th>\n",
       "      <td>...</td>\n",
       "      <td>...</td>\n",
       "    </tr>\n",
       "    <tr>\n",
       "      <th>9569</th>\n",
       "      <td>2019-05-19 18:00:00</td>\n",
       "      <td>NaN</td>\n",
       "    </tr>\n",
       "    <tr>\n",
       "      <th>9570</th>\n",
       "      <td>2019-05-19 19:00:00</td>\n",
       "      <td>NaN</td>\n",
       "    </tr>\n",
       "    <tr>\n",
       "      <th>9571</th>\n",
       "      <td>2019-05-19 20:00:00</td>\n",
       "      <td>NaN</td>\n",
       "    </tr>\n",
       "    <tr>\n",
       "      <th>9572</th>\n",
       "      <td>2019-05-19 21:00:00</td>\n",
       "      <td>NaN</td>\n",
       "    </tr>\n",
       "    <tr>\n",
       "      <th>9573</th>\n",
       "      <td>2019-05-19 22:00:00</td>\n",
       "      <td>NaN</td>\n",
       "    </tr>\n",
       "    <tr>\n",
       "      <th>9574</th>\n",
       "      <td>2019-05-19 23:00:00</td>\n",
       "      <td>NaN</td>\n",
       "    </tr>\n",
       "    <tr>\n",
       "      <th>9575</th>\n",
       "      <td>2019-05-20 00:00:00</td>\n",
       "      <td>NaN</td>\n",
       "    </tr>\n",
       "    <tr>\n",
       "      <th>9576</th>\n",
       "      <td>2019-05-20 01:00:00</td>\n",
       "      <td>NaN</td>\n",
       "    </tr>\n",
       "    <tr>\n",
       "      <th>9577</th>\n",
       "      <td>2019-05-20 02:00:00</td>\n",
       "      <td>NaN</td>\n",
       "    </tr>\n",
       "    <tr>\n",
       "      <th>9578</th>\n",
       "      <td>2019-05-20 03:00:00</td>\n",
       "      <td>NaN</td>\n",
       "    </tr>\n",
       "    <tr>\n",
       "      <th>9579</th>\n",
       "      <td>2019-05-20 04:00:00</td>\n",
       "      <td>NaN</td>\n",
       "    </tr>\n",
       "    <tr>\n",
       "      <th>9580</th>\n",
       "      <td>2019-05-20 05:00:00</td>\n",
       "      <td>NaN</td>\n",
       "    </tr>\n",
       "    <tr>\n",
       "      <th>9581</th>\n",
       "      <td>2019-05-20 06:00:00</td>\n",
       "      <td>NaN</td>\n",
       "    </tr>\n",
       "    <tr>\n",
       "      <th>9582</th>\n",
       "      <td>2019-05-20 07:00:00</td>\n",
       "      <td>NaN</td>\n",
       "    </tr>\n",
       "    <tr>\n",
       "      <th>9583</th>\n",
       "      <td>2019-05-20 08:00:00</td>\n",
       "      <td>NaN</td>\n",
       "    </tr>\n",
       "    <tr>\n",
       "      <th>9584</th>\n",
       "      <td>2019-05-20 09:00:00</td>\n",
       "      <td>NaN</td>\n",
       "    </tr>\n",
       "    <tr>\n",
       "      <th>9585</th>\n",
       "      <td>2019-05-20 10:00:00</td>\n",
       "      <td>NaN</td>\n",
       "    </tr>\n",
       "    <tr>\n",
       "      <th>9586</th>\n",
       "      <td>2019-05-20 11:00:00</td>\n",
       "      <td>NaN</td>\n",
       "    </tr>\n",
       "    <tr>\n",
       "      <th>9587</th>\n",
       "      <td>2019-05-20 12:00:00</td>\n",
       "      <td>NaN</td>\n",
       "    </tr>\n",
       "    <tr>\n",
       "      <th>9588</th>\n",
       "      <td>2019-05-20 13:00:00</td>\n",
       "      <td>NaN</td>\n",
       "    </tr>\n",
       "    <tr>\n",
       "      <th>9589</th>\n",
       "      <td>2019-05-20 14:00:00</td>\n",
       "      <td>NaN</td>\n",
       "    </tr>\n",
       "    <tr>\n",
       "      <th>9590</th>\n",
       "      <td>2019-05-20 15:00:00</td>\n",
       "      <td>NaN</td>\n",
       "    </tr>\n",
       "    <tr>\n",
       "      <th>9591</th>\n",
       "      <td>2019-05-20 16:00:00</td>\n",
       "      <td>NaN</td>\n",
       "    </tr>\n",
       "    <tr>\n",
       "      <th>9592</th>\n",
       "      <td>2019-05-20 17:00:00</td>\n",
       "      <td>NaN</td>\n",
       "    </tr>\n",
       "    <tr>\n",
       "      <th>9593</th>\n",
       "      <td>2019-05-20 18:00:00</td>\n",
       "      <td>NaN</td>\n",
       "    </tr>\n",
       "    <tr>\n",
       "      <th>9594</th>\n",
       "      <td>2019-05-20 19:00:00</td>\n",
       "      <td>NaN</td>\n",
       "    </tr>\n",
       "    <tr>\n",
       "      <th>9595</th>\n",
       "      <td>2019-05-20 20:00:00</td>\n",
       "      <td>NaN</td>\n",
       "    </tr>\n",
       "    <tr>\n",
       "      <th>9596</th>\n",
       "      <td>2019-05-20 21:00:00</td>\n",
       "      <td>NaN</td>\n",
       "    </tr>\n",
       "    <tr>\n",
       "      <th>9597</th>\n",
       "      <td>2019-05-20 22:00:00</td>\n",
       "      <td>NaN</td>\n",
       "    </tr>\n",
       "    <tr>\n",
       "      <th>9598</th>\n",
       "      <td>2019-05-20 23:00:00</td>\n",
       "      <td>NaN</td>\n",
       "    </tr>\n",
       "  </tbody>\n",
       "</table>\n",
       "<p>9599 rows × 2 columns</p>\n",
       "</div>"
      ],
      "text/plain": [
       "                        t        v\n",
       "0     2018-04-16 01:00:00   86.400\n",
       "1     2018-04-16 02:00:00   91.692\n",
       "2     2018-04-16 03:00:00   90.072\n",
       "3     2018-04-16 04:00:00   94.608\n",
       "4     2018-04-16 05:00:00  117.504\n",
       "...                   ...      ...\n",
       "9594  2019-05-20 19:00:00      NaN\n",
       "9595  2019-05-20 20:00:00      NaN\n",
       "9596  2019-05-20 21:00:00      NaN\n",
       "9597  2019-05-20 22:00:00      NaN\n",
       "9598  2019-05-20 23:00:00      NaN\n",
       "\n",
       "[9599 rows x 2 columns]"
      ]
     },
     "execution_count": 15,
     "metadata": {},
     "output_type": "execute_result"
    }
   ],
   "source": [
    "test = pd.read_csv('CLP_51359134038_871682009_IDR_vert.csv', header = 0)\n",
    "test.columns = ['t', 'v']\n",
    "test.interpolate(method = 'linear', axis = 0, limit = 7, inplace = True)\n",
    "test"
   ]
  },
  {
   "cell_type": "code",
   "execution_count": null,
   "metadata": {},
   "outputs": [],
   "source": []
  }
 ],
 "metadata": {
  "kernelspec": {
   "display_name": "Python 3",
   "language": "python",
   "name": "python3"
  },
  "language_info": {
   "codemirror_mode": {
    "name": "ipython",
    "version": 3
   },
   "file_extension": ".py",
   "mimetype": "text/x-python",
   "name": "python",
   "nbconvert_exporter": "python",
   "pygments_lexer": "ipython3",
   "version": "3.7.4"
  }
 },
 "nbformat": 4,
 "nbformat_minor": 2
}
