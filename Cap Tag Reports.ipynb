{
 "cells": [
  {
   "cell_type": "markdown",
   "metadata": {},
   "source": [
    "# Cap Tag Reports"
   ]
  },
  {
   "cell_type": "markdown",
   "metadata": {},
   "source": [
    "## Import Modules"
   ]
  },
  {
   "cell_type": "code",
   "execution_count": 36,
   "metadata": {},
   "outputs": [
    {
     "data": {
      "text/plain": [
       "'C:\\\\Users\\\\wb5888\\\\Documents\\\\Python Code\\\\CapReport'"
      ]
     },
     "execution_count": 36,
     "metadata": {},
     "output_type": "execute_result"
    }
   ],
   "source": [
    "from selenium.webdriver import Chrome\n",
    "from selenium.webdriver.chrome.options import Options\n",
    "import selenium.webdriver.support.ui as ui\n",
    "from selenium.webdriver.common.keys import Keys\n",
    "import selenium.webdriver as webdriver\n",
    "from bs4 import BeautifulSoup\n",
    "import numpy as np\n",
    "import pandas as pd\n",
    "from pandas.io.json import json_normalize\n",
    "import json\n",
    "import cx_Oracle\n",
    "import os\n",
    "\n",
    "opts = Options()\n",
    "opts.headless = True\n",
    "opts.add_argument('--ignore-certificate-errors')\n",
    "opts.add_argument('--start-maximized')\n",
    "prefs ={\"profile.default_content_settings.popups\": 0, \"download.default_directory\": \"C:\\\\Users\\\\wb5888\\\\Python Code\\\\CapReport\\\\Downloads\\\\\", \"directory_upgrade\": True}\n",
    "opts.add_experimental_option(\"prefs\", prefs)\n",
    "assert opts.headless\n",
    "browser = Chrome(executable_path = 'C:\\\\Users\\\\wb5888\\\\chromedriver.exe', options = opts)\n",
    "\n",
    "os.getcwd()"
   ]
  },
  {
   "cell_type": "markdown",
   "metadata": {},
   "source": [
    "## Run Cap Tag Report"
   ]
  },
  {
   "cell_type": "markdown",
   "metadata": {},
   "source": [
    "Enter PR number, revision number and directory to output Cap Tag Report.\n",
    "\n",
    "Can change database if needed."
   ]
  },
  {
   "cell_type": "code",
   "execution_count": 3,
   "metadata": {},
   "outputs": [],
   "source": [
    "pr_num = \"1-IWH6ME\"\n",
    "rev_num = \"2\"\n",
    "pe_db = \"TPPE\"\n",
    "\n",
    "write_dir = 'C:\\\\Users\\\\wb5888\\\\Documents\\\\Cap Tags'"
   ]
  },
  {
   "cell_type": "markdown",
   "metadata": {},
   "source": [
    "## Set SQL Commands"
   ]
  },
  {
   "cell_type": "markdown",
   "metadata": {},
   "source": [
    "### Cap Report"
   ]
  },
  {
   "cell_type": "code",
   "execution_count": 4,
   "metadata": {
    "scrolled": true
   },
   "outputs": [
    {
     "name": "stdout",
     "output_type": "stream",
     "text": [
      "select distinct A.*, B.starttime, B.stoptime, B.overridecode as Tag_Type, B.val as Tag, B.strval as SOURCE_TYPE, B.lstime as Timestamp from pwrline.acctoverridehist B, (select distinct F.name as CustomerName, F.Customerid, B.name as LDC_Account, B.Accountid,D.uidaccount, D.marketcode, A.Contractid, A.Revision from pwrline.account B, pwrline.lscmcontract A, pwrline.lscmcontractitem C, pwrline.acctservicehist D, pwrline.customer F where C.uidcontract=A.uidcontract and C.uidaccount=B.uidaccount and B.uidaccount=D.uidaccount and B.uidcustomer=F.uidcustomer and A.contractid='1-IWH6ME' and A.revision=2) A where A.uidaccount=B.uidaccount and (A.marketcode='PJM' OR  A.marketcode='NEPOOL' OR A.marketcode= 'NYISO' OR A.marketcode= 'MISO') and (B.overridecode ='TRANSMISSION_TAG_OVRD' OR B.overridecode='CAPACITY_TAG_OVRD') order by A.customername, B.overridecode, A.accountid, B.starttime\n"
     ]
    }
   ],
   "source": [
    "selectstr1 = \"(select distinct F.name as CustomerName, F.Customerid, B.name as LDC_Account, B.Accountid,\"\n",
    "selectstr1 = \"\".join([selectstr1, \"D.uidaccount, D.marketcode, A.Contractid, A.Revision \"])\n",
    "selectstr1 = \"\".join([selectstr1, \"from pwrline.account B, pwrline.lscmcontract A, pwrline.lscmcontractitem C, \"])\n",
    "selectstr1 = \"\".join([selectstr1, \"pwrline.acctservicehist D, pwrline.customer F \"])\n",
    "selectstr1 = \"\".join([selectstr1, \"where C.uidcontract=A.uidcontract and C.uidaccount=B.uidaccount and B.uidaccount=D.uidaccount \"])\n",
    "selectstr1 = \"\".join([selectstr1, \"and B.uidcustomer=F.uidcustomer and A.contractid='\", pr_num, \"' and A.revision=\", rev_num, \") A \"])\n",
    "\n",
    "s2str = \"select distinct A.*, B.starttime, B.stoptime, B.overridecode as Tag_Type, B.val as Tag, B.strval as SOURCE_TYPE, B.lstime as Timestamp \"\n",
    "s2str = \"\".join([s2str, \"from pwrline.acctoverridehist B, \", selectstr1])\n",
    "s2str = \"\".join([s2str, \"where A.uidaccount=B.uidaccount and (A.marketcode='PJM' OR  A.marketcode='NEPOOL' OR A.marketcode= 'NYISO' OR A.marketcode= 'MISO') \"])\n",
    "s2str = \"\".join([s2str, \"and (B.overridecode ='TRANSMISSION_TAG_OVRD' OR B.overridecode='CAPACITY_TAG_OVRD') \"])\n",
    "s2str = \"\".join([s2str, \"order by A.customername, B.overridecode, A.accountid, B.starttime\"])\n",
    "\n",
    "uid = 'tesi_interface'\n",
    "pwd = 'peint88'\n",
    "\n",
    "ip = '172.25.152.125'\n",
    "port = '1700'\n",
    "service_name = 'tppe.mytna.com'\n",
    "dsn = cx_Oracle.makedsn(ip, port, service_name=service_name)\n",
    "\n",
    "print(s2str)"
   ]
  },
  {
   "cell_type": "markdown",
   "metadata": {},
   "source": [
    "### Accounts"
   ]
  },
  {
   "cell_type": "markdown",
   "metadata": {},
   "source": [
    "## Define Functions"
   ]
  },
  {
   "cell_type": "code",
   "execution_count": 5,
   "metadata": {},
   "outputs": [],
   "source": [
    "def OracleAPI(query):\n",
    "    \n",
    "    uid = 'tesi_interface'\n",
    "    pwd = 'peint88'\n",
    "\n",
    "    ip = '172.25.152.125'\n",
    "    port = '1700'\n",
    "    service_name = 'tppe.mytna.com'\n",
    "    dsn = cx_Oracle.makedsn(ip, port, service_name=service_name)\n",
    "    \n",
    "    result_list = []\n",
    "    con = cx_Oracle.connect(user = uid, password = pwd, dsn = dsn)\n",
    "    cur = con.cursor()\n",
    "    cur.execute(query)\n",
    "    for result in cur:\n",
    "        result_list.append(result)\n",
    "    return(result_list)"
   ]
  },
  {
   "cell_type": "code",
   "execution_count": 6,
   "metadata": {
    "scrolled": true
   },
   "outputs": [
    {
     "data": {
      "text/html": [
       "<div>\n",
       "<style scoped>\n",
       "    .dataframe tbody tr th:only-of-type {\n",
       "        vertical-align: middle;\n",
       "    }\n",
       "\n",
       "    .dataframe tbody tr th {\n",
       "        vertical-align: top;\n",
       "    }\n",
       "\n",
       "    .dataframe thead th {\n",
       "        text-align: right;\n",
       "    }\n",
       "</style>\n",
       "<table border=\"1\" class=\"dataframe\">\n",
       "  <thead>\n",
       "    <tr style=\"text-align: right;\">\n",
       "      <th></th>\n",
       "      <th>CustomerName</th>\n",
       "      <th>CustomerID</th>\n",
       "      <th>LDC_Account</th>\n",
       "      <th>AccountID</th>\n",
       "      <th>UIDaccount</th>\n",
       "      <th>MarketCode</th>\n",
       "      <th>ContractID</th>\n",
       "      <th>Revision</th>\n",
       "      <th>StartTime</th>\n",
       "      <th>StopTime</th>\n",
       "      <th>TagType</th>\n",
       "      <th>Tag</th>\n",
       "      <th>SourceType</th>\n",
       "      <th>TimeStamp</th>\n",
       "    </tr>\n",
       "  </thead>\n",
       "  <tbody>\n",
       "    <tr>\n",
       "      <th>0</th>\n",
       "      <td>BOSCOV'S DEPARTMENT STORE, LLC</td>\n",
       "      <td>1-2I62Q</td>\n",
       "      <td>1471983017</td>\n",
       "      <td>NEPOOL_NRI_1471983017</td>\n",
       "      <td>1527853</td>\n",
       "      <td>NEPOOL</td>\n",
       "      <td>1-IWH6ME</td>\n",
       "      <td>2</td>\n",
       "      <td>2018-06-01</td>\n",
       "      <td>2019-05-31 23:59:59</td>\n",
       "      <td>CAPACITY_TAG_OVRD</td>\n",
       "      <td>380.53</td>\n",
       "      <td>H</td>\n",
       "      <td>2019-05-08 15:48:08</td>\n",
       "    </tr>\n",
       "    <tr>\n",
       "      <th>1</th>\n",
       "      <td>BOSCOV'S DEPARTMENT STORE, LLC</td>\n",
       "      <td>1-2I62Q</td>\n",
       "      <td>1471983017</td>\n",
       "      <td>NEPOOL_NRI_1471983017</td>\n",
       "      <td>1527853</td>\n",
       "      <td>NEPOOL</td>\n",
       "      <td>1-IWH6ME</td>\n",
       "      <td>2</td>\n",
       "      <td>2019-06-01</td>\n",
       "      <td>2020-05-31 23:59:59</td>\n",
       "      <td>CAPACITY_TAG_OVRD</td>\n",
       "      <td>380.53</td>\n",
       "      <td>S</td>\n",
       "      <td>2019-05-08 15:48:08</td>\n",
       "    </tr>\n",
       "    <tr>\n",
       "      <th>2</th>\n",
       "      <td>BOSCOV'S DEPARTMENT STORE, LLC</td>\n",
       "      <td>1-2I62Q</td>\n",
       "      <td>1471983017</td>\n",
       "      <td>NEPOOL_NRI_1471983017</td>\n",
       "      <td>1527853</td>\n",
       "      <td>NEPOOL</td>\n",
       "      <td>1-IWH6ME</td>\n",
       "      <td>2</td>\n",
       "      <td>2020-06-01</td>\n",
       "      <td>2030-05-31 23:59:59</td>\n",
       "      <td>CAPACITY_TAG_OVRD</td>\n",
       "      <td>380.53</td>\n",
       "      <td>S</td>\n",
       "      <td>2019-05-08 15:48:08</td>\n",
       "    </tr>\n",
       "    <tr>\n",
       "      <th>3</th>\n",
       "      <td>BOSCOV'S DEPARTMENT STORE, LLC</td>\n",
       "      <td>1-2I62Q</td>\n",
       "      <td>6455634014</td>\n",
       "      <td>NEPOOL_NRI_6455634014</td>\n",
       "      <td>1528118</td>\n",
       "      <td>NEPOOL</td>\n",
       "      <td>1-IWH6ME</td>\n",
       "      <td>2</td>\n",
       "      <td>2018-06-01</td>\n",
       "      <td>2019-05-31 23:59:59</td>\n",
       "      <td>CAPACITY_TAG_OVRD</td>\n",
       "      <td>256.10</td>\n",
       "      <td>E</td>\n",
       "      <td>2019-05-09 10:28:26</td>\n",
       "    </tr>\n",
       "    <tr>\n",
       "      <th>4</th>\n",
       "      <td>BOSCOV'S DEPARTMENT STORE, LLC</td>\n",
       "      <td>1-2I62Q</td>\n",
       "      <td>6455634014</td>\n",
       "      <td>NEPOOL_NRI_6455634014</td>\n",
       "      <td>1528118</td>\n",
       "      <td>NEPOOL</td>\n",
       "      <td>1-IWH6ME</td>\n",
       "      <td>2</td>\n",
       "      <td>2019-06-01</td>\n",
       "      <td>2020-05-31 23:59:59</td>\n",
       "      <td>CAPACITY_TAG_OVRD</td>\n",
       "      <td>256.10</td>\n",
       "      <td>S</td>\n",
       "      <td>2019-05-09 10:28:26</td>\n",
       "    </tr>\n",
       "    <tr>\n",
       "      <th>5</th>\n",
       "      <td>BOSCOV'S DEPARTMENT STORE, LLC</td>\n",
       "      <td>1-2I62Q</td>\n",
       "      <td>6455634014</td>\n",
       "      <td>NEPOOL_NRI_6455634014</td>\n",
       "      <td>1528118</td>\n",
       "      <td>NEPOOL</td>\n",
       "      <td>1-IWH6ME</td>\n",
       "      <td>2</td>\n",
       "      <td>2020-06-01</td>\n",
       "      <td>2030-05-31 23:59:59</td>\n",
       "      <td>CAPACITY_TAG_OVRD</td>\n",
       "      <td>256.10</td>\n",
       "      <td>S</td>\n",
       "      <td>2019-05-09 10:28:26</td>\n",
       "    </tr>\n",
       "  </tbody>\n",
       "</table>\n",
       "</div>"
      ],
      "text/plain": [
       "                     CustomerName CustomerID LDC_Account  \\\n",
       "0  BOSCOV'S DEPARTMENT STORE, LLC    1-2I62Q  1471983017   \n",
       "1  BOSCOV'S DEPARTMENT STORE, LLC    1-2I62Q  1471983017   \n",
       "2  BOSCOV'S DEPARTMENT STORE, LLC    1-2I62Q  1471983017   \n",
       "3  BOSCOV'S DEPARTMENT STORE, LLC    1-2I62Q  6455634014   \n",
       "4  BOSCOV'S DEPARTMENT STORE, LLC    1-2I62Q  6455634014   \n",
       "5  BOSCOV'S DEPARTMENT STORE, LLC    1-2I62Q  6455634014   \n",
       "\n",
       "               AccountID  UIDaccount MarketCode ContractID  Revision  \\\n",
       "0  NEPOOL_NRI_1471983017     1527853     NEPOOL   1-IWH6ME         2   \n",
       "1  NEPOOL_NRI_1471983017     1527853     NEPOOL   1-IWH6ME         2   \n",
       "2  NEPOOL_NRI_1471983017     1527853     NEPOOL   1-IWH6ME         2   \n",
       "3  NEPOOL_NRI_6455634014     1528118     NEPOOL   1-IWH6ME         2   \n",
       "4  NEPOOL_NRI_6455634014     1528118     NEPOOL   1-IWH6ME         2   \n",
       "5  NEPOOL_NRI_6455634014     1528118     NEPOOL   1-IWH6ME         2   \n",
       "\n",
       "   StartTime            StopTime            TagType     Tag SourceType  \\\n",
       "0 2018-06-01 2019-05-31 23:59:59  CAPACITY_TAG_OVRD  380.53          H   \n",
       "1 2019-06-01 2020-05-31 23:59:59  CAPACITY_TAG_OVRD  380.53          S   \n",
       "2 2020-06-01 2030-05-31 23:59:59  CAPACITY_TAG_OVRD  380.53          S   \n",
       "3 2018-06-01 2019-05-31 23:59:59  CAPACITY_TAG_OVRD  256.10          E   \n",
       "4 2019-06-01 2020-05-31 23:59:59  CAPACITY_TAG_OVRD  256.10          S   \n",
       "5 2020-06-01 2030-05-31 23:59:59  CAPACITY_TAG_OVRD  256.10          S   \n",
       "\n",
       "            TimeStamp  \n",
       "0 2019-05-08 15:48:08  \n",
       "1 2019-05-08 15:48:08  \n",
       "2 2019-05-08 15:48:08  \n",
       "3 2019-05-09 10:28:26  \n",
       "4 2019-05-09 10:28:26  \n",
       "5 2019-05-09 10:28:26  "
      ]
     },
     "execution_count": 6,
     "metadata": {},
     "output_type": "execute_result"
    }
   ],
   "source": [
    "output = OracleAPI(s2str)\n",
    "\n",
    "captag = pd.DataFrame.from_records(output)\n",
    "captag.columns = ['CustomerName', 'CustomerID', 'LDC_Account', 'AccountID', 'UIDaccount', 'MarketCode', 'ContractID', 'Revision', 'StartTime', 'StopTime', 'TagType', 'Tag', 'SourceType', 'TimeStamp']\n",
    "\n",
    "captag"
   ]
  },
  {
   "cell_type": "code",
   "execution_count": 110,
   "metadata": {},
   "outputs": [
    {
     "data": {
      "text/plain": [
       "'MECO_5297968001'"
      ]
     },
     "execution_count": 110,
     "metadata": {},
     "output_type": "execute_result"
    }
   ],
   "source": [
    "acct_id[0].split('NEPOOL_')[1]"
   ]
  },
  {
   "cell_type": "code",
   "execution_count": 35,
   "metadata": {},
   "outputs": [
    {
     "name": "stdout",
     "output_type": "stream",
     "text": [
      "PR goes from, 2019-06-01 00:00:00 to 2025-12-31 23:59:59\n"
     ]
    }
   ],
   "source": [
    "query = \"select distinct * from pwrline.lscmcontract where contractid='\" + pr_num + \"' and revision=\" + rev_num\n",
    "\n",
    "PR_start = OracleAPI(query)[0][4]\n",
    "PR_end = OracleAPI(query)[0][5]\n",
    "\n",
    "print('PR goes from,', PR_start, 'to', PR_end)"
   ]
  },
  {
   "cell_type": "code",
   "execution_count": 70,
   "metadata": {},
   "outputs": [
    {
     "data": {
      "text/plain": [
       "60"
      ]
     },
     "execution_count": 70,
     "metadata": {},
     "output_type": "execute_result"
    }
   ],
   "source": [
    "len(data)"
   ]
  },
  {
   "cell_type": "code",
   "execution_count": 39,
   "metadata": {},
   "outputs": [
    {
     "data": {
      "text/plain": [
       "'CLP_51271266066_097681001'"
      ]
     },
     "execution_count": 39,
     "metadata": {},
     "output_type": "execute_result"
    }
   ],
   "source": [
    "acct = '27126606'\n",
    "query = \"select distinct B.AccountID from pwrline.acctservicehist D, pwrline.account B  where B.name like '%\" + acct + \"%' and D.marketcode = 'NEPOOL'\"\n",
    "OracleAPI(query)[0][0].split('NEPOOL_')[1]"
   ]
  },
  {
   "cell_type": "code",
   "execution_count": null,
   "metadata": {},
   "outputs": [],
   "source": []
  },
  {
   "cell_type": "code",
   "execution_count": null,
   "metadata": {},
   "outputs": [],
   "source": []
  },
  {
   "cell_type": "markdown",
   "metadata": {},
   "source": [
    "## EWX Scrape"
   ]
  },
  {
   "cell_type": "code",
   "execution_count": 38,
   "metadata": {},
   "outputs": [],
   "source": [
    "browser.get('https://console.cloud.energyworx.com/')\n",
    "browser.find_element_by_id"
   ]
  },
  {
   "cell_type": "code",
   "execution_count": null,
   "metadata": {},
   "outputs": [],
   "source": []
  }
 ],
 "metadata": {
  "kernelspec": {
   "display_name": "Python 3",
   "language": "python",
   "name": "python3"
  }
 },
 "nbformat": 4,
 "nbformat_minor": 2
}
